{
 "cells": [
  {
   "cell_type": "code",
   "execution_count": 1,
   "metadata": {},
   "outputs": [],
   "source": [
    "import os\n",
    "import numpy as np\n",
    "import matplotlib.pyplot as plt\n",
    "import tensorflow as tf\n",
    "import xlrd"
   ]
  },
  {
   "cell_type": "markdown",
   "metadata": {},
   "source": [
    "Step 1: read in data from the .xls file"
   ]
  },
  {
   "cell_type": "code",
   "execution_count": 5,
   "metadata": {},
   "outputs": [],
   "source": [
    "DATA_FILE = 'data/fire_theft.xls'\n",
    "\n",
    "open('kek.txt', 'r')\n",
    "\n",
    "book = xlrd.open_workbook(DATA_FILE, encoding_override=\"utf-8\") \n",
    "sheet = book.sheet_by_index(0) \n",
    "data = np.asarray([sheet.row_values(i) for i in range(1, sheet.nrows)]) \n",
    "n_samples = sheet.nrows - 1"
   ]
  },
  {
   "cell_type": "markdown",
   "metadata": {},
   "source": [
    "Step 2: create placeholders for input X (number of fire) and label Y (number of theft)"
   ]
  },
  {
   "cell_type": "code",
   "execution_count": 6,
   "metadata": {},
   "outputs": [],
   "source": [
    "X = tf.placeholder(tf.float32, name=\"X\")\n",
    "Y = tf.placeholder(tf.float32, name=\"Y\")"
   ]
  },
  {
   "cell_type": "markdown",
   "metadata": {},
   "source": [
    "Step 3: create weight and bias, initialized to 0"
   ]
  },
  {
   "cell_type": "code",
   "execution_count": 7,
   "metadata": {
    "collapsed": true
   },
   "outputs": [],
   "source": [
    "w = tf.Variable(0.0, name='w')\n",
    "b = tf.Variable(0.0, name='b')"
   ]
  },
  {
   "cell_type": "markdown",
   "metadata": {},
   "source": [
    "Step 4: build model to predict Y"
   ]
  },
  {
   "cell_type": "code",
   "execution_count": 8,
   "metadata": {},
   "outputs": [],
   "source": [
    "Y_predicted = w * X + b"
   ]
  },
  {
   "cell_type": "markdown",
   "metadata": {},
   "source": [
    "Step 5: use the square error as the loss function"
   ]
  },
  {
   "cell_type": "code",
   "execution_count": 9,
   "metadata": {
    "collapsed": true
   },
   "outputs": [],
   "source": [
    "loss = tf.square(Y - Y_predicted)"
   ]
  },
  {
   "cell_type": "markdown",
   "metadata": {},
   "source": [
    "Step 5a: implement Huber loss function from lecture and try it out"
   ]
  },
  {
   "cell_type": "code",
   "execution_count": 10,
   "metadata": {
    "collapsed": true
   },
   "outputs": [],
   "source": [
    "def huber_loss(labels, predictions, delta=1.0):\n",
    "    residual = tf.abs(predictions - labels)\n",
    "    condition = tf.less(residual, delta)\n",
    "    small_res = 0.5 * tf.square(residual)\n",
    "    large_res = delta * residual - 0.5 * tf.square(delta)\n",
    "    return tf.select(condition, small_res, large_res)"
   ]
  },
  {
   "cell_type": "code",
   "execution_count": 11,
   "metadata": {
    "collapsed": true
   },
   "outputs": [
    {
     "ename": "AttributeError",
     "evalue": "module 'tensorflow' has no attribute 'select'",
     "traceback": [
      "\u001b[1;31m---------------------------------------------------------------------------\u001b[0m",
      "\u001b[1;31mAttributeError\u001b[0m                            Traceback (most recent call last)",
      "\u001b[1;32m<ipython-input-11-60bcf64d217c>\u001b[0m in \u001b[0;36m<module>\u001b[1;34m()\u001b[0m\n\u001b[1;32m----> 1\u001b[1;33m \u001b[0mloss\u001b[0m \u001b[1;33m=\u001b[0m \u001b[0mhuber_loss\u001b[0m\u001b[1;33m(\u001b[0m\u001b[0mY\u001b[0m\u001b[1;33m,\u001b[0m \u001b[0mY_predicted\u001b[0m\u001b[1;33m)\u001b[0m\u001b[1;33m\u001b[0m\u001b[0m\n\u001b[0m",
      "\u001b[1;32m<ipython-input-10-6d96b27ad79d>\u001b[0m in \u001b[0;36mhuber_loss\u001b[1;34m(labels, predictions, delta)\u001b[0m\n\u001b[0;32m      4\u001b[0m     \u001b[0msmall_res\u001b[0m \u001b[1;33m=\u001b[0m \u001b[1;36m0.5\u001b[0m \u001b[1;33m*\u001b[0m \u001b[0mtf\u001b[0m\u001b[1;33m.\u001b[0m\u001b[0msquare\u001b[0m\u001b[1;33m(\u001b[0m\u001b[0mresidual\u001b[0m\u001b[1;33m)\u001b[0m\u001b[1;33m\u001b[0m\u001b[0m\n\u001b[0;32m      5\u001b[0m     \u001b[0mlarge_res\u001b[0m \u001b[1;33m=\u001b[0m \u001b[0mdelta\u001b[0m \u001b[1;33m*\u001b[0m \u001b[0mresidual\u001b[0m \u001b[1;33m-\u001b[0m \u001b[1;36m0.5\u001b[0m \u001b[1;33m*\u001b[0m \u001b[0mtf\u001b[0m\u001b[1;33m.\u001b[0m\u001b[0msquare\u001b[0m\u001b[1;33m(\u001b[0m\u001b[0mdelta\u001b[0m\u001b[1;33m)\u001b[0m\u001b[1;33m\u001b[0m\u001b[0m\n\u001b[1;32m----> 6\u001b[1;33m     \u001b[1;32mreturn\u001b[0m \u001b[0mtf\u001b[0m\u001b[1;33m.\u001b[0m\u001b[0mselect\u001b[0m\u001b[1;33m(\u001b[0m\u001b[0mcondition\u001b[0m\u001b[1;33m,\u001b[0m \u001b[0msmall_res\u001b[0m\u001b[1;33m,\u001b[0m \u001b[0mlarge_res\u001b[0m\u001b[1;33m)\u001b[0m\u001b[1;33m\u001b[0m\u001b[0m\n\u001b[0m",
      "\u001b[1;31mAttributeError\u001b[0m: module 'tensorflow' has no attribute 'select'"
     ],
     "output_type": "error"
    }
   ],
   "source": [
    "loss = huber_loss(Y, Y_predicted)"
   ]
  },
  {
   "cell_type": "markdown",
   "metadata": {},
   "source": [
    "Step 6: using gradient descent with learning rate of 0.01 to minimize loss"
   ]
  },
  {
   "cell_type": "code",
   "execution_count": 12,
   "metadata": {
    "collapsed": true
   },
   "outputs": [],
   "source": [
    "optimizer = tf.train.GradientDescentOptimizer(learning_rate=0.001).minimize(loss)"
   ]
  },
  {
   "cell_type": "code",
   "execution_count": 13,
   "metadata": {},
   "outputs": [],
   "source": [
    "sess = tf.Session() # prefer with tf.Session() as sess: in your code"
   ]
  },
  {
   "cell_type": "markdown",
   "metadata": {},
   "source": [
    "Step 7: initialize the necessary variables, in this case, w and b"
   ]
  },
  {
   "cell_type": "code",
   "execution_count": 15,
   "metadata": {
    "collapsed": true
   },
   "outputs": [],
   "source": [
    "sess.run(tf.global_variables_initializer())\n",
    "writer = tf.summary.FileWriter('./graphs/linear_reg', sess.graph)"
   ]
  },
  {
   "cell_type": "markdown",
   "metadata": {},
   "source": [
    "Step 8: train the model"
   ]
  },
  {
   "cell_type": "code",
   "execution_count": 16,
   "metadata": {},
   "outputs": [
    {
     "name": "stdout",
     "output_type": "stream",
     "text": [
      "Epoch 0: 2069.6319333978354\nEpoch 1: 2117.0123581953535\nEpoch 2: 2092.302723001866\nEpoch 3: 2068.5080461938464\nEpoch 4: 2045.591184088162\nEpoch 5: 2023.5146448101316\nEpoch 6: 2002.2447619835536\nEpoch 7: 1981.748338803649\nEpoch 8: 1961.9944411260742\nEpoch 9: 1942.9520116143283\nEpoch 10: 1924.5930823644712\nEpoch 11: 1906.8898800636332\nEpoch 12: 1889.8164505837929\n"
     ]
    },
    {
     "name": "stdout",
     "output_type": "stream",
     "text": [
      "Epoch 13: 1873.347133841543\nEpoch 14: 1857.4588400604468\nEpoch 15: 1842.1278742424079\nEpoch 16: 1827.332495119955\nEpoch 17: 1813.0520579712022\nEpoch 18: 1799.2660847636982\nEpoch 19: 1785.9562132299961\n"
     ]
    },
    {
     "name": "stdout",
     "output_type": "stream",
     "text": [
      "Epoch 20: 1773.1024853109072\nEpoch 21: 1760.689129482884\nEpoch 22: 1748.6984157081515\nEpoch 23: 1737.1138680398553\nEpoch 24: 1725.920873066732\nEpoch 25: 1715.1046249579008\nEpoch 26: 1704.6500954309377\nEpoch 27: 1694.5447134910141\nEpoch 28: 1684.7746311347667\n"
     ]
    },
    {
     "name": "stdout",
     "output_type": "stream",
     "text": [
      "Epoch 29: 1675.328450968245\nEpoch 30: 1666.1935385839038\nEpoch 31: 1657.3584002084322\nEpoch 32: 1648.8122658529207\nEpoch 33: 1640.5440742547091\nEpoch 34: 1632.5446836102221\nEpoch 35: 1624.8043315147183\nEpoch 36: 1617.3126799958602\n"
     ]
    },
    {
     "name": "stdout",
     "output_type": "stream",
     "text": [
      "Epoch 37: 1610.0622532456405\nEpoch 38: 1603.0433557207386\nEpoch 39: 1596.2479176106197\nEpoch 40: 1589.668056331575\nEpoch 41: 1583.2965242617897\nEpoch 42: 1577.126371285745\nEpoch 43: 1571.1501190634\nEpoch 44: 1565.360979151513\nEpoch 45: 1559.7523780798629\nEpoch 46: 1554.3184364555138\n"
     ]
    },
    {
     "name": "stdout",
     "output_type": "stream",
     "text": [
      "Epoch 47: 1549.0529469620615\nEpoch 48: 1543.950059985476\nEpoch 49: 1539.0050282141283\n"
     ]
    }
   ],
   "source": [
    "for i in range(50): # train the model 50 epochs\n",
    "    total_loss = 0\n",
    "    for x, y in data:\n",
    "        # Session runs train_op and fetch values of loss\n",
    "        _, l = sess.run([optimizer, loss], feed_dict={X:x, Y:y})\n",
    "        total_loss += l\n",
    "    print('Epoch {0}: {1}'.format(i, total_loss/float(n_samples)))\n",
    "\n",
    "# close the writer when you're done using it\n",
    "writer.close()"
   ]
  },
  {
   "cell_type": "markdown",
   "metadata": {},
   "source": [
    "Step 9: output the values of w and b"
   ]
  },
  {
   "cell_type": "code",
   "execution_count": 17,
   "metadata": {
    "collapsed": true
   },
   "outputs": [],
   "source": [
    "w, b = sess.run([w, b])"
   ]
  },
  {
   "cell_type": "markdown",
   "metadata": {},
   "source": [
    "Step 10: plot the results"
   ]
  },
  {
   "cell_type": "code",
   "execution_count": 18,
   "metadata": {},
   "outputs": [
    {
     "data": {
      "image/png": "[encoded data removed]",
      "text/plain": [
       "<matplotlib.figure.Figure at 0xc7300f2eb8>"
      ]
     },
     "metadata": {},
     "output_type": "display_data"
    }
   ],
   "source": [
    "X, Y = data[:, 0], data[:, 1]\n",
    "plt.scatter(X, Y, label=\"Real data\")\n",
    "plt.plot(X, w * X + b, label=\"Predicted data\", color='r')\n",
    "plt.show()"
   ]
  },
  {
   "cell_type": "code",
   "execution_count": null,
   "metadata": {},
   "outputs": [],
   "source": [
    ""
   ]
  }
 ],
 "metadata": {
  "kernelspec": {
   "display_name": "Python 3",
   "language": "python",
   "name": "python3"
  },
  "language_info": {
   "codemirror_mode": {
    "name": "ipython",
    "version": 3.0
   },
   "file_extension": ".py",
   "mimetype": "text/x-python",
   "name": "python",
   "nbconvert_exporter": "python",
   "pygments_lexer": "ipython3",
   "version": "3.6.1"
  }
 },
 "nbformat": 4,
 "nbformat_minor": 0
}