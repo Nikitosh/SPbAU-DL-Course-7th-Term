{
 "cells": [
  {
   "cell_type": "code",
   "execution_count": 1,
   "metadata": {
    "collapsed": true
   },
   "outputs": [],
   "source": [
    "%matplotlib inline\n",
    "import matplotlib.pyplot as plt\n",
    "import tensorflow as tf\n",
    "import numpy as np\n",
    "from sklearn.metrics import confusion_matrix\n",
    "import time\n",
    "from datetime import timedelta\n",
    "import math\n",
    "import os\n",
    "\n",
    "# Use PrettyTensor to simplify Neural Network construction.\n",
    "import prettytensor as pt"
   ]
  },
  {
   "cell_type": "markdown",
   "metadata": {},
   "source": [
    "## Load Data"
   ]
  },
  {
   "cell_type": "code",
   "execution_count": 2,
   "metadata": {
    "collapsed": true
   },
   "outputs": [],
   "source": [
    "import cifar10"
   ]
  },
  {
   "cell_type": "markdown",
   "metadata": {},
   "source": [
    "Set the path for storing the data-set on your computer."
   ]
  },
  {
   "cell_type": "markdown",
   "metadata": {},
   "source": [
    "The CIFAR-10 data-set is about 163 MB and will be downloaded automatically if it is not located in the given path."
   ]
  },
  {
   "cell_type": "code",
   "execution_count": 3,
   "metadata": {
    "scrolled": true
   },
   "outputs": [
    {
     "name": "stdout",
     "output_type": "stream",
     "text": [
      "Data has apparently already been downloaded and unpacked.\n"
     ]
    }
   ],
   "source": [
    "cifar10.maybe_download_and_extract()"
   ]
  },
  {
   "cell_type": "markdown",
   "metadata": {},
   "source": [
    "Load the class-names."
   ]
  },
  {
   "cell_type": "code",
   "execution_count": 4,
   "metadata": {},
   "outputs": [
    {
     "name": "stdout",
     "output_type": "stream",
     "text": [
      "Loading data: data/CIFAR-10/cifar-10-batches-py/batches.meta\n"
     ]
    },
    {
     "data": {
      "text/plain": [
       "['airplane',\n",
       " 'automobile',\n",
       " 'bird',\n",
       " 'cat',\n",
       " 'deer',\n",
       " 'dog',\n",
       " 'frog',\n",
       " 'horse',\n",
       " 'ship',\n",
       " 'truck']"
      ]
     },
     "execution_count": 4,
     "metadata": {},
     "output_type": "execute_result"
    }
   ],
   "source": [
    "class_names = cifar10.load_class_names()\n",
    "class_names"
   ]
  },
  {
   "cell_type": "markdown",
   "metadata": {},
   "source": [
    "Load the training-set. This returns the images, the class-numbers as integers, and the class-numbers as One-Hot encoded arrays called labels."
   ]
  },
  {
   "cell_type": "code",
   "execution_count": 5,
   "metadata": {},
   "outputs": [
    {
     "name": "stdout",
     "output_type": "stream",
     "text": [
      "Loading data: data/CIFAR-10/cifar-10-batches-py/data_batch_1\n",
      "Loading data: data/CIFAR-10/cifar-10-batches-py/data_batch_2\n",
      "Loading data: data/CIFAR-10/cifar-10-batches-py/data_batch_3\n",
      "Loading data: data/CIFAR-10/cifar-10-batches-py/data_batch_4\n",
      "Loading data: data/CIFAR-10/cifar-10-batches-py/data_batch_5\n"
     ]
    }
   ],
   "source": [
    "images_train, cls_train, labels_train = cifar10.load_training_data()"
   ]
  },
  {
   "cell_type": "markdown",
   "metadata": {},
   "source": [
    "Load the test-set."
   ]
  },
  {
   "cell_type": "code",
   "execution_count": 6,
   "metadata": {},
   "outputs": [
    {
     "name": "stdout",
     "output_type": "stream",
     "text": [
      "Loading data: data/CIFAR-10/cifar-10-batches-py/test_batch\n"
     ]
    }
   ],
   "source": [
    "images_test, cls_test, labels_test = cifar10.load_test_data()"
   ]
  },
  {
   "cell_type": "markdown",
   "metadata": {},
   "source": [
    "The CIFAR-10 data-set has now been loaded and consists of 60,000 images and associated labels (i.e. classifications of the images). The data-set is split into 2 mutually exclusive sub-sets, the training-set and the test-set."
   ]
  },
  {
   "cell_type": "code",
   "execution_count": 7,
   "metadata": {
    "scrolled": true
   },
   "outputs": [
    {
     "name": "stdout",
     "output_type": "stream",
     "text": [
      "Size of:\n",
      "- Training-set:\t\t50000\n",
      "- Test-set:\t\t10000\n"
     ]
    }
   ],
   "source": [
    "print(\"Size of:\")\n",
    "print(\"- Training-set:\\t\\t{}\".format(len(images_train)))\n",
    "print(\"- Test-set:\\t\\t{}\".format(len(images_test)))"
   ]
  },
  {
   "cell_type": "markdown",
   "metadata": {},
   "source": [
    "The data dimensions are used in several places in the source-code below. They have already been defined in the cifar10 module, so we just need to import them."
   ]
  },
  {
   "cell_type": "code",
   "execution_count": 8,
   "metadata": {
    "collapsed": true
   },
   "outputs": [],
   "source": [
    "from cifar10 import img_size, num_channels, num_classes"
   ]
  },
  {
   "cell_type": "markdown",
   "metadata": {},
   "source": [
    "The images are 32 x 32 pixels, but we will crop the images to 24 x 24 pixels."
   ]
  },
  {
   "cell_type": "code",
   "execution_count": 9,
   "metadata": {
    "collapsed": true
   },
   "outputs": [],
   "source": [
    "img_size_cropped = 24"
   ]
  },
  {
   "cell_type": "markdown",
   "metadata": {},
   "source": [
    "Function used to plot 9 images in a 3x3 grid, and writing the true and predicted classes below each image."
   ]
  },
  {
   "cell_type": "code",
   "execution_count": 10,
   "metadata": {
    "collapsed": true
   },
   "outputs": [],
   "source": [
    "def plot_images(images, cls_true, cls_pred=None, smooth=True):\n",
    "\n",
    "    assert len(images) == len(cls_true) == 9\n",
    "\n",
    "    # Create figure with sub-plots.\n",
    "    fig, axes = plt.subplots(3, 3)\n",
    "\n",
    "    # Adjust vertical spacing if we need to print ensemble and best-net.\n",
    "    if cls_pred is None:\n",
    "        hspace = 0.3\n",
    "    else:\n",
    "        hspace = 0.6\n",
    "    fig.subplots_adjust(hspace=hspace, wspace=0.3)\n",
    "\n",
    "    for i, ax in enumerate(axes.flat):\n",
    "        # Interpolation type.\n",
    "        if smooth:\n",
    "            interpolation = 'spline16'\n",
    "        else:\n",
    "            interpolation = 'nearest'\n",
    "\n",
    "        # Plot image.\n",
    "        ax.imshow(images[i, :, :, :],\n",
    "                  interpolation=interpolation)\n",
    "            \n",
    "        # Name of the true class.\n",
    "        cls_true_name = class_names[cls_true[i]]\n",
    "\n",
    "        # Show true and predicted classes.\n",
    "        if cls_pred is None:\n",
    "            xlabel = \"True: {0}\".format(cls_true_name)\n",
    "        else:\n",
    "            # Name of the predicted class.\n",
    "            cls_pred_name = class_names[cls_pred[i]]\n",
    "\n",
    "            xlabel = \"True: {0}\\nPred: {1}\".format(cls_true_name, cls_pred_name)\n",
    "\n",
    "        # Show the classes as the label on the x-axis.\n",
    "        ax.set_xlabel(xlabel)\n",
    "        \n",
    "        # Remove ticks from the plot.\n",
    "        ax.set_xticks([])\n",
    "        ax.set_yticks([])\n",
    "    \n",
    "    # Ensure the plot is shown correctly with multiple plots\n",
    "    # in a single Notebook cell.\n",
    "    plt.show()"
   ]
  },
  {
   "cell_type": "markdown",
   "metadata": {},
   "source": [
    "### Plot a few images to see if data is correct"
   ]
  },
  {
   "cell_type": "code",
   "execution_count": 11,
   "metadata": {
    "scrolled": true
   },
   "outputs": [
    {
     "data": {
      "image/png": "[encoded data removed]",
      "text/plain": [
       "<matplotlib.figure.Figure at 0x7f8d6ac91b00>"
      ]
     },
     "metadata": {},
     "output_type": "display_data"
    }
   ],
   "source": [
    "# Get the first images from the test-set.\n",
    "images = images_test[0:9]\n",
    "\n",
    "# Get the true classes for those images.\n",
    "cls_true = cls_test[0:9]\n",
    "\n",
    "# Plot the images and labels using our helper-function above.\n",
    "plot_images(images=images, cls_true=cls_true, smooth=False)"
   ]
  },
  {
   "cell_type": "markdown",
   "metadata": {},
   "source": [
    "The pixelated images above are what the neural network will get as input. The images might be a bit easier for the human eye to recognize if we smoothen the pixels."
   ]
  },
  {
   "cell_type": "code",
   "execution_count": 12,
   "metadata": {},
   "outputs": [
    {
     "data": {
      "image/png": "[encoded data removed]",
      "text/plain": [
       "<matplotlib.figure.Figure at 0x7f8d6ac91f60>"
      ]
     },
     "metadata": {},
     "output_type": "display_data"
    }
   ],
   "source": [
    "plot_images(images=images, cls_true=cls_true, smooth=True)"
   ]
  },
  {
   "cell_type": "code",
   "execution_count": 13,
   "metadata": {
    "collapsed": true
   },
   "outputs": [],
   "source": [
    "x = tf.placeholder(tf.float32, shape=[None, img_size, img_size, num_channels], name='x')"
   ]
  },
  {
   "cell_type": "code",
   "execution_count": 14,
   "metadata": {
    "collapsed": true
   },
   "outputs": [],
   "source": [
    "y_true = tf.placeholder(tf.float32, shape=[None, num_classes], name='y_true')"
   ]
  },
  {
   "cell_type": "code",
   "execution_count": 15,
   "metadata": {
    "collapsed": true
   },
   "outputs": [],
   "source": [
    "y_true_cls = tf.argmax(y_true, dimension=1)"
   ]
  },
  {
   "cell_type": "markdown",
   "metadata": {},
   "source": [
    "### Data augmentation for images"
   ]
  },
  {
   "cell_type": "markdown",
   "metadata": {},
   "source": [
    "The following helper-functions create the part of the TensorFlow computational graph that pre-processes the input images. Nothing is actually calculated at this point, the function merely adds nodes to the computational graph for TensorFlow.\n",
    "\n",
    "The pre-processing is different for training and testing of the neural network:\n",
    "* For training, the input images are randomly cropped, randomly flipped horizontally, and the hue, contrast and saturation is adjusted with random values. This artificially inflates the size of the training-set by creating random variations of the original input images. Examples of distorted images are shown further below.\n",
    "\n",
    "* For testing, the input images are cropped around the centre and nothing else is adjusted."
   ]
  },
  {
   "cell_type": "code",
   "execution_count": 16,
   "metadata": {
    "collapsed": true
   },
   "outputs": [],
   "source": [
    "def pre_process_image(image, training):\n",
    "    # This function takes a single image as input,\n",
    "    # and a boolean whether to build the training or testing graph.\n",
    "    \n",
    "    if training:\n",
    "        # For training, add the following to the TensorFlow graph.\n",
    "\n",
    "        # Randomly crop the input image.\n",
    "        image = tf.random_crop(image, size=[img_size_cropped, img_size_cropped, num_channels])\n",
    "\n",
    "        # Randomly flip the image horizontally.\n",
    "        image = tf.image.random_flip_left_right(image)\n",
    "        \n",
    "        # Randomly adjust hue, contrast and saturation.\n",
    "        image = tf.image.random_hue(image, max_delta=0.05)\n",
    "        image = tf.image.random_contrast(image, lower=0.3, upper=1.0)\n",
    "        image = tf.image.random_brightness(image, max_delta=0.2)\n",
    "        image = tf.image.random_saturation(image, lower=0.0, upper=2.0)\n",
    "\n",
    "        # Some of these functions may overflow and result in pixel\n",
    "        # values beyond the [0, 1] range. It is unclear from the\n",
    "        # documentation of TensorFlow whether this is\n",
    "        # intended. A simple solution is to limit the range.\n",
    "\n",
    "        # Limit the image pixels between [0, 1] in case of overflow.\n",
    "        image = tf.minimum(image, 1.0)\n",
    "        image = tf.maximum(image, 0.0)\n",
    "    else:\n",
    "        # For training, add the following to the TensorFlow graph.\n",
    "\n",
    "        # Crop the input image around the centre so it is the same\n",
    "        # size as images that are randomly cropped during training.\n",
    "        image = tf.image.resize_image_with_crop_or_pad(image,\n",
    "                                                       target_height=img_size_cropped,\n",
    "                                                       target_width=img_size_cropped)\n",
    "\n",
    "    return image"
   ]
  },
  {
   "cell_type": "markdown",
   "metadata": {},
   "source": [
    "The function above is called for each image in the input batch using the following function."
   ]
  },
  {
   "cell_type": "code",
   "execution_count": 17,
   "metadata": {
    "collapsed": true
   },
   "outputs": [],
   "source": [
    "def pre_process(images, training):\n",
    "    # Use TensorFlow to loop over all the input images and call\n",
    "    # the function above which takes a single image as input.\n",
    "    images = tf.map_fn(lambda image: pre_process_image(image, training), images)\n",
    "\n",
    "    return images"
   ]
  },
  {
   "cell_type": "markdown",
   "metadata": {},
   "source": [
    "In order to plot the distorted images, we create the pre-processing graph for TensorFlow, so we may execute it later."
   ]
  },
  {
   "cell_type": "code",
   "execution_count": 18,
   "metadata": {
    "collapsed": true
   },
   "outputs": [],
   "source": [
    "distorted_images = pre_process(images=x, training=True)"
   ]
  },
  {
   "cell_type": "markdown",
   "metadata": {},
   "source": [
    "### AlexNet"
   ]
  },
  {
   "cell_type": "code",
   "execution_count": 19,
   "metadata": {
    "collapsed": true
   },
   "outputs": [],
   "source": [
    "def weight_variable(shape, name):\n",
    "    return tf.get_variable(initializer=tf.truncated_normal(stddev=0.1, shape=shape), name=name)\n",
    "\n",
    "def bias_variable(shape, name):\n",
    "    return tf.get_variable(initializer=tf.constant(value=0.5, shape=shape), name=name)\n",
    "\n",
    "def conv(x, filter_height, filter_width, filters_number, stride_y, stride_x, name, groups=1, padding=\"SAME\"):\n",
    "    with tf.variable_scope(name) as scope:\n",
    "        convolve = lambda x, w: tf.nn.conv2d(x, w, strides=[1, stride_y, stride_x, 1], padding=padding)\n",
    "        channels = int(x.get_shape()[-1])\n",
    "        w = weight_variable([filter_height, filter_width, channels // groups, filters_number], name=\"w\")\n",
    "        b = bias_variable([filters_number], name=\"b\")\n",
    "        \n",
    "        if groups == 1:\n",
    "            convolution = convolve(x, w)\n",
    "        else:\n",
    "            x_groups = tf.split(x, num_or_size_splits=groups, axis=3)\n",
    "            w_groups = tf.split(w, num_or_size_splits=groups, axis=3)\n",
    "            convolution = tf.concat([convolve(x_, w_) for x_, w_ in zip(x_groups, w_groups)], axis=3)\n",
    "        return tf.nn.relu(tf.nn.bias_add(convolution, b), name=scope.name)\n",
    "\n",
    "def max_pool(x, filter_height, filter_width, stride_y, stride_x, name, padding=\"SAME\"):\n",
    "    return tf.nn.max_pool(x, ksize=[1, filter_height, filter_width, 1], strides=[1, stride_y, stride_x, 1], \n",
    "                          padding=padding, name= name)\n",
    "\n",
    "def lrn(x, name, radius=2, alpha=1e-4, beta=0.75, bias=2.0):\n",
    "    return tf.nn.local_response_normalization(x, depth_radius=radius, alpha=alpha, beta=beta, bias=bias, name=name)\n",
    "\n",
    "def fc(x, out_number, name, relu=True):\n",
    "    with tf.variable_scope(name) as scope:\n",
    "        in_number = int(np.prod(x.shape[1:]))\n",
    "        flattened = tf.reshape(x, [-1, in_number])\n",
    "        w = weight_variable([in_number, out_number], name=\"w\")\n",
    "        b = bias_variable([out_number], name=\"b\")\n",
    "        result = tf.nn.xw_plus_b(flattened, w, b, name=scope.name)\n",
    "        if relu:\n",
    "            return tf.nn.relu(result)\n",
    "        return result\n",
    "\n",
    "def dropout(x, name, keep_prob=0.5):\n",
    "    return tf.nn.dropout(x, keep_prob=keep_prob, name=name)\n",
    "\n",
    "class AlexNet:\n",
    "    def __init__(self, x, training):\n",
    "        self.x = x\n",
    "        self.training = training\n",
    "        self.create_layers()\n",
    "        \n",
    "    def create_layers(self):\n",
    "        with tf.name_scope(\"layer1\"):\n",
    "            conv1 = conv(self.x, filter_height=4, filter_width=4, filters_number=48, stride_y=2, stride_x=2, name=\"conv1\")\n",
    "            norm1 = lrn(conv1, name=\"norm1\")\n",
    "            pool1 = max_pool(norm1, filter_height=2, filter_width=2, stride_y=1, stride_x=1, name=\"pool1\")\n",
    "        \n",
    "        with tf.name_scope(\"layer2\"):\n",
    "            conv2 = conv(pool1, filter_height=3, filter_width=3, filters_number=128, stride_y=2, stride_x=2, name=\"conv2\", groups=2)\n",
    "            norm2 = lrn(conv2, name=\"norm2\")\n",
    "            pool2 = max_pool(norm2, filter_height=2, filter_width=2, stride_y=1, stride_x=1, name=\"pool2\")\n",
    "        \n",
    "        with tf.name_scope(\"layer3\"):\n",
    "            conv3 = conv(pool2, filter_height=3, filter_width=3, filters_number=192, stride_y=1, stride_x=1, name=\"conv3\")\n",
    "        \n",
    "        with tf.name_scope(\"layer4\"):\n",
    "            conv4 = conv(conv3, filter_height=3, filter_width=3, filters_number=192, stride_y=1, stride_x=1, groups=2, \n",
    "                     name=\"conv4\")\n",
    "        \n",
    "        with tf.name_scope(\"layer5\"):\n",
    "            conv5 = conv(conv4, filter_height=3, filter_width=3, filters_number=128, stride_y=1, stride_x=1, groups=2, \n",
    "                     name=\"conv5\")\n",
    "            pool5 = max_pool(conv5, filter_height=3, filter_width=3, stride_y=2, stride_x=2, name=\"pool5\")\n",
    "        \n",
    "        with tf.name_scope(\"layer6\"):\n",
    "            fc6 = fc(pool5, out_number=2048, name=\"fc6\")\n",
    "        \n",
    "        with tf.name_scope(\"layer7\"):\n",
    "            if self.training:\n",
    "                dropout6 = dropout(fc6, name=\"dropout6\") \n",
    "                fc7 = fc(dropout6, out_number=2048, name=\"fc7\")\n",
    "            else:\n",
    "                fc7 = fc(fc6, out_number=2048, name=\"fc7\")\n",
    "                \n",
    "        with tf.name_scope(\"layer8\"):\n",
    "            if self.training:\n",
    "                dropout7 = dropout(fc7, name=\"dropout7\")\n",
    "                self.output = fc(dropout7, out_number=num_classes, relu=False, name=\"output\")\n",
    "            else:\n",
    "                self.output = fc(fc7, out_number=num_classes, relu=False, name=\"output\")\n",
    "                \n",
    "        self.loss = tf.reduce_mean(tf.nn.softmax_cross_entropy_with_logits(logits=self.output, labels=y_true))                "
   ]
  },
  {
   "cell_type": "markdown",
   "metadata": {},
   "source": [
    "### Creating Neural Network"
   ]
  },
  {
   "cell_type": "markdown",
   "metadata": {},
   "source": [
    "Note that the neural network is enclosed in the variable-scope named 'network'. This is because we are actually creating two neural networks in the TensorFlow graph. By assigning a variable-scope like this, we can re-use the variables for the two neural networks, so the variables that are optimized for the training-network are re-used for the other network that is used for testing."
   ]
  },
  {
   "cell_type": "code",
   "execution_count": 20,
   "metadata": {
    "collapsed": true
   },
   "outputs": [],
   "source": [
    "def create_network(training):\n",
    "    # Wrap the neural network in the scope named 'network'.\n",
    "    # Create new variables during training, and re-use during testing.\n",
    "    with tf.variable_scope('network', reuse=not training):\n",
    "        # Just rename the input placeholder variable for convenience.\n",
    "        images = x\n",
    "\n",
    "        # Create TensorFlow graph for pre-processing.\n",
    "        images = pre_process(images=images, training=training)\n",
    "\n",
    "        # Create TensorFlow graph for the main processing.\n",
    "        net = AlexNet(x=images, training=training)\n",
    "     \n",
    "    #return net.score, net.loss\n",
    "    return net.output, net.loss"
   ]
  },
  {
   "cell_type": "markdown",
   "metadata": {},
   "source": [
    "### Create Neural Network for Training Phase"
   ]
  },
  {
   "cell_type": "markdown",
   "metadata": {},
   "source": [
    "Note that `trainable=False` which means that TensorFlow will not try to optimize this variable."
   ]
  },
  {
   "cell_type": "code",
   "execution_count": 21,
   "metadata": {
    "collapsed": true
   },
   "outputs": [],
   "source": [
    "global_step = tf.Variable(initial_value=0,\n",
    "                          name='global_step', trainable=False)"
   ]
  },
  {
   "cell_type": "markdown",
   "metadata": {},
   "source": [
    "Create the neural network to be used for training. The `create_network()` function returns both `y_pred` and `loss`, but we only need the `loss`-function during training."
   ]
  },
  {
   "cell_type": "code",
   "execution_count": 22,
   "metadata": {},
   "outputs": [],
   "source": [
    "_, loss = create_network(training=True)"
   ]
  },
  {
   "cell_type": "markdown",
   "metadata": {},
   "source": [
    "Create an optimizer which will minimize the `loss`-function. Also pass the `global_step` variable to the optimizer so it will be increased by one after each iteration."
   ]
  },
  {
   "cell_type": "code",
   "execution_count": 23,
   "metadata": {},
   "outputs": [],
   "source": [
    "optimizer = tf.train.AdamOptimizer(learning_rate=1e-4).minimize(loss, global_step=global_step)"
   ]
  },
  {
   "cell_type": "markdown",
   "metadata": {},
   "source": [
    "### Create Neural Network for Test Phase / Inference"
   ]
  },
  {
   "cell_type": "markdown",
   "metadata": {},
   "source": [
    "Now create the neural network for the test-phase. Once again the `create_network()` function returns the predicted class-labels `y_pred` for the input images, as well as the `loss`-function to be used during optimization. During testing we only need `y_pred`."
   ]
  },
  {
   "cell_type": "code",
   "execution_count": 24,
   "metadata": {
    "collapsed": true
   },
   "outputs": [],
   "source": [
    "y_pred, _ = create_network(training=False)"
   ]
  },
  {
   "cell_type": "markdown",
   "metadata": {},
   "source": [
    "We then calculate the predicted class number as an integer. The output of the network `y_pred` is an array with 10 elements. The class number is the index of the largest element in the array."
   ]
  },
  {
   "cell_type": "code",
   "execution_count": 25,
   "metadata": {
    "collapsed": true
   },
   "outputs": [],
   "source": [
    "y_pred_cls = tf.argmax(y_pred, dimension=1)"
   ]
  },
  {
   "cell_type": "markdown",
   "metadata": {},
   "source": [
    "Then we create a vector of booleans telling us whether the predicted class equals the true class of each image."
   ]
  },
  {
   "cell_type": "code",
   "execution_count": 26,
   "metadata": {
    "collapsed": true
   },
   "outputs": [],
   "source": [
    "correct_prediction = tf.equal(y_pred_cls, y_true_cls)"
   ]
  },
  {
   "cell_type": "markdown",
   "metadata": {},
   "source": [
    "The classification accuracy is calculated by first type-casting the vector of booleans to floats, so that False becomes 0 and True becomes 1, and then taking the average of these numbers."
   ]
  },
  {
   "cell_type": "code",
   "execution_count": 27,
   "metadata": {
    "collapsed": true
   },
   "outputs": [],
   "source": [
    "accuracy = tf.reduce_mean(tf.cast(correct_prediction, tf.float32))"
   ]
  },
  {
   "cell_type": "markdown",
   "metadata": {},
   "source": [
    "### Saver\n",
    "\n",
    "In order to save the variables of the neural network, so they can be reloaded quickly without having to train the network again, we now create a so-called Saver-object which is used for storing and retrieving all the variables of the TensorFlow graph. Nothing is actually saved at this point, which will be done further below."
   ]
  },
  {
   "cell_type": "code",
   "execution_count": 28,
   "metadata": {
    "collapsed": true
   },
   "outputs": [],
   "source": [
    "saver = tf.train.Saver()"
   ]
  },
  {
   "cell_type": "markdown",
   "metadata": {},
   "source": [
    "### Getting the Weights"
   ]
  },
  {
   "cell_type": "markdown",
   "metadata": {},
   "source": [
    "Further below, we want to plot the weights of the neural network. When the network is constructed using Pretty Tensor, all the variables of the layers are created indirectly by Pretty Tensor. We therefore have to retrieve the variables from TensorFlow.\n",
    "\n",
    "We used the names `layer_conv1` and `layer_conv2` for the two convolutional layers. These are also called variable scopes. Pretty Tensor automatically gives names to the variables it creates for each layer, so we can retrieve the weights for a layer using the layer's scope-name and the variable-name.\n",
    "\n",
    "The implementation is somewhat awkward because we have to use the TensorFlow function `get_variable()` which was designed for another purpose; either creating a new variable or re-using an existing variable. The easiest thing is to make the following helper-function."
   ]
  },
  {
   "cell_type": "code",
   "execution_count": 29,
   "metadata": {
    "collapsed": true
   },
   "outputs": [],
   "source": [
    "def get_weights_variable(layer_name):\n",
    "    # Retrieve an existing variable named 'weights' in the scope\n",
    "    # with the given layer_name.\n",
    "    # This is awkward because the TensorFlow function was\n",
    "    # really intended for another purpose.\n",
    "\n",
    "    with tf.variable_scope(\"network/\" + layer_name, reuse=True):\n",
    "        variable = tf.get_variable('weights')\n",
    "\n",
    "    return variable"
   ]
  },
  {
   "cell_type": "markdown",
   "metadata": {},
   "source": [
    "Using this helper-function we can retrieve the variables. These are TensorFlow objects. In order to get the contents of the variables, you must do something like: `contents = session.run(weights_conv1)` as demonstrated further below."
   ]
  },
  {
   "cell_type": "markdown",
   "metadata": {},
   "source": [
    "## TensorFlow Run"
   ]
  },
  {
   "cell_type": "markdown",
   "metadata": {},
   "source": [
    "### Create TensorFlow session\n",
    "\n",
    "Once the TensorFlow graph has been created, we have to create a TensorFlow session which is used to execute the graph."
   ]
  },
  {
   "cell_type": "code",
   "execution_count": 30,
   "metadata": {
    "collapsed": true
   },
   "outputs": [],
   "source": [
    "session = tf.Session()\n",
    "writer = tf.summary.FileWriter('./graphs', session.graph)"
   ]
  },
  {
   "cell_type": "markdown",
   "metadata": {},
   "source": [
    "### Restore or initialize variables\n",
    "\n",
    "Training this neural network may take a long time, especially if you do not have a GPU. We therefore save checkpoints during training so we can continue training at another time (e.g. during the night), and also for performing analysis later without having to train the neural network every time we want to use it.\n",
    "\n",
    "If you want to restart the training of the neural network, you have to delete the checkpoints first.\n",
    "\n",
    "This is the directory used for the checkpoints."
   ]
  },
  {
   "cell_type": "code",
   "execution_count": 31,
   "metadata": {
    "collapsed": true
   },
   "outputs": [],
   "source": [
    "save_dir = 'alexnet_checkpoints/'"
   ]
  },
  {
   "cell_type": "markdown",
   "metadata": {},
   "source": [
    "Create the directory if it does not exist."
   ]
  },
  {
   "cell_type": "code",
   "execution_count": 32,
   "metadata": {
    "collapsed": true
   },
   "outputs": [],
   "source": [
    "if not os.path.exists(save_dir):\n",
    "    os.makedirs(save_dir)"
   ]
  },
  {
   "cell_type": "markdown",
   "metadata": {},
   "source": [
    "This is the base-filename for the checkpoints, TensorFlow will append the iteration number, etc."
   ]
  },
  {
   "cell_type": "code",
   "execution_count": 33,
   "metadata": {
    "collapsed": true
   },
   "outputs": [],
   "source": [
    "save_path = os.path.join(save_dir, 'cifar10_cnn')"
   ]
  },
  {
   "cell_type": "markdown",
   "metadata": {},
   "source": [
    "First try to restore the latest checkpoint. This may fail and raise an exception e.g. if such a checkpoint does not exist, or if you have changed the TensorFlow graph."
   ]
  },
  {
   "cell_type": "code",
   "execution_count": 34,
   "metadata": {},
   "outputs": [
    {
     "name": "stdout",
     "output_type": "stream",
     "text": [
      "Trying to restore last checkpoint ...\n",
      "INFO:tensorflow:Restoring parameters from None\n",
      "Failed to restore checkpoint. Initializing variables instead.\n"
     ]
    }
   ],
   "source": [
    "try:\n",
    "    print(\"Trying to restore last checkpoint ...\")\n",
    "\n",
    "    # Use TensorFlow to find the latest checkpoint - if any.\n",
    "    last_chk_path = tf.train.latest_checkpoint(checkpoint_dir=save_dir)\n",
    "\n",
    "    # Try and load the data in the checkpoint.\n",
    "    saver.restore(session, save_path=last_chk_path)\n",
    "\n",
    "    # If we get to this point, the checkpoint was successfully loaded.\n",
    "    print(\"Restored checkpoint from:\", last_chk_path)\n",
    "except:\n",
    "    # If the above failed for some reason, simply\n",
    "    # initialize all the variables for the TensorFlow graph.\n",
    "    print(\"Failed to restore checkpoint. Initializing variables instead.\")\n",
    "    session.run(tf.global_variables_initializer())"
   ]
  },
  {
   "cell_type": "markdown",
   "metadata": {},
   "source": [
    "### Helper-function to get a random training-batch"
   ]
  },
  {
   "cell_type": "markdown",
   "metadata": {},
   "source": [
    "There are 50,000 images in the training-set. It takes a long time to calculate the gradient of the model using all these images. We therefore only use a small batch of images in each iteration of the optimizer.\n",
    "\n",
    "If your computer crashes or becomes very slow because you run out of RAM, then you may try and lower this number, but you may then need to perform more optimization iterations."
   ]
  },
  {
   "cell_type": "code",
   "execution_count": 35,
   "metadata": {
    "collapsed": true
   },
   "outputs": [],
   "source": [
    "train_batch_size = 64"
   ]
  },
  {
   "cell_type": "markdown",
   "metadata": {},
   "source": [
    "Function for selecting a random batch of images from the training-set."
   ]
  },
  {
   "cell_type": "code",
   "execution_count": 36,
   "metadata": {
    "collapsed": true
   },
   "outputs": [],
   "source": [
    "def random_batch():\n",
    "    # Number of images in the training-set.\n",
    "    num_images = len(images_train)\n",
    "\n",
    "    # Create a random index.\n",
    "    idx = np.random.choice(num_images,\n",
    "                           size=train_batch_size,\n",
    "                           replace=False)\n",
    "\n",
    "    # Use the random index to select random images and labels.\n",
    "    x_batch = images_train[idx, :, :, :]\n",
    "    y_batch = labels_train[idx, :]\n",
    "\n",
    "    return x_batch, y_batch"
   ]
  },
  {
   "cell_type": "markdown",
   "metadata": {},
   "source": [
    "### Optimization"
   ]
  },
  {
   "cell_type": "markdown",
   "metadata": {},
   "source": [
    "The progress is printed every 100 iterations. A checkpoint is saved every 1000 iterations and also after the last iteration."
   ]
  },
  {
   "cell_type": "code",
   "execution_count": 37,
   "metadata": {
    "collapsed": true
   },
   "outputs": [],
   "source": [
    "def optimize(num_iterations):\n",
    "    # Start-time used for printing time-usage below.\n",
    "    start_time = time.time()\n",
    "\n",
    "    for i in range(num_iterations):\n",
    "        # Get a batch of training examples.\n",
    "        # x_batch now holds a batch of images and\n",
    "        # y_true_batch are the true labels for those images.\n",
    "        x_batch, y_true_batch = random_batch()\n",
    "\n",
    "        # Put the batch into a dict with the proper names\n",
    "        # for placeholder variables in the TensorFlow graph.\n",
    "        feed_dict_train = {x: x_batch,\n",
    "                           y_true: y_true_batch}\n",
    "\n",
    "        # Run the optimizer using this batch of training data.\n",
    "        # TensorFlow assigns the variables in feed_dict_train\n",
    "        # to the placeholder variables and then runs the optimizer.\n",
    "        # We also want to retrieve the global_step counter.\n",
    "        i_global, current_loss, _ = session.run([global_step, loss, optimizer],\n",
    "                                  feed_dict=feed_dict_train)\n",
    "        \n",
    "        # Print status to screen every 100 iterations (and last).\n",
    "        if (i_global % 100 == 0) or (i == num_iterations - 1):\n",
    "            # Calculate the accuracy on the training-batch.            \n",
    "            batch_acc = session.run(accuracy,\n",
    "                                    feed_dict=feed_dict_train)\n",
    "\n",
    "            # Print status.\n",
    "            msg = \"Global Step: {0:>6}, Loss: {1:>6}, Training Batch Accuracy: {2:>6.1%}\"\n",
    "            print(msg.format(i_global, current_loss, batch_acc))\n",
    "\n",
    "        # Save a checkpoint to disk every 1000 iterations (and last).\n",
    "        if (i_global % 1000 == 0) or (i == num_iterations - 1):\n",
    "            # Save all variables of the TensorFlow graph to a\n",
    "            # checkpoint. Append the global_step counter\n",
    "            # to the filename so we save the last several checkpoints.\n",
    "            saver.save(session,\n",
    "                       save_path=save_path,\n",
    "                       global_step=global_step)\n",
    "\n",
    "            print(\"Saved checkpoint.\")\n",
    "\n",
    "    # Ending time.\n",
    "    end_time = time.time()\n",
    "\n",
    "    # Difference between start and end-times.\n",
    "    time_dif = end_time - start_time\n",
    "\n",
    "    # Print the time-usage.\n",
    "    print(\"Time usage: \" + str(timedelta(seconds=int(round(time_dif)))))"
   ]
  },
  {
   "cell_type": "markdown",
   "metadata": {},
   "source": [
    "### Plot example errors"
   ]
  },
  {
   "cell_type": "markdown",
   "metadata": {},
   "source": [
    "Function for plotting examples of images from the test-set that have been mis-classified."
   ]
  },
  {
   "cell_type": "code",
   "execution_count": 38,
   "metadata": {
    "collapsed": true
   },
   "outputs": [],
   "source": [
    "def plot_example_errors(cls_pred, correct):\n",
    "    # This function is called from print_test_accuracy() below.\n",
    "\n",
    "    # cls_pred is an array of the predicted class-number for\n",
    "    # all images in the test-set.\n",
    "\n",
    "    # correct is a boolean array whether the predicted class\n",
    "    # is equal to the true class for each image in the test-set.\n",
    "\n",
    "    # Negate the boolean array.\n",
    "    incorrect = (correct == False)\n",
    "    \n",
    "    # Get the images from the test-set that have been\n",
    "    # incorrectly classified.\n",
    "    images = images_test[incorrect]\n",
    "    \n",
    "    # Get the predicted classes for those images.\n",
    "    cls_pred = cls_pred[incorrect]\n",
    "\n",
    "    # Get the true classes for those images.\n",
    "    cls_true = cls_test[incorrect]\n",
    "    \n",
    "    # Plot the first 9 images.\n",
    "    plot_images(images=images[0:9],\n",
    "                cls_true=cls_true[0:9],\n",
    "                cls_pred=cls_pred[0:9])"
   ]
  },
  {
   "cell_type": "markdown",
   "metadata": {},
   "source": [
    "### Plot confusion matrix"
   ]
  },
  {
   "cell_type": "code",
   "execution_count": 39,
   "metadata": {
    "collapsed": true
   },
   "outputs": [],
   "source": [
    "def plot_confusion_matrix(cls_pred):\n",
    "    # This is called from print_test_accuracy() below.\n",
    "\n",
    "    # cls_pred is an array of the predicted class-number for\n",
    "    # all images in the test-set.\n",
    "\n",
    "    # Get the confusion matrix using sklearn.\n",
    "    cm = confusion_matrix(y_true=cls_test,  # True class for test-set.\n",
    "                          y_pred=cls_pred)  # Predicted class.\n",
    "\n",
    "    # Print the confusion matrix as text.\n",
    "    for i in range(num_classes):\n",
    "        # Append the class-name to each line.\n",
    "        class_name = \"({}) {}\".format(i, class_names[i])\n",
    "        print(cm[i, :], class_name)\n",
    "\n",
    "    # Print the class-numbers for easy reference.\n",
    "    class_numbers = [\" ({0})\".format(i) for i in range(num_classes)]\n",
    "    print(\"\".join(class_numbers))"
   ]
  },
  {
   "cell_type": "markdown",
   "metadata": {},
   "source": [
    "### Calculating classifications\n",
    "\n",
    "This function calculates the predicted classes of images and also returns a boolean array whether the classification of each image is correct.\n",
    "\n",
    "The calculation is done in batches because it might use too much RAM otherwise. If your computer crashes then you can try and lower the batch-size."
   ]
  },
  {
   "cell_type": "code",
   "execution_count": 40,
   "metadata": {
    "collapsed": true
   },
   "outputs": [],
   "source": [
    "# Split the data-set in batches of this size to limit RAM usage.\n",
    "batch_size = 256\n",
    "\n",
    "def predict_cls(images, labels, cls_true):\n",
    "    # Number of images.\n",
    "    num_images = len(images)\n",
    "\n",
    "    # Allocate an array for the predicted classes which\n",
    "    # will be calculated in batches and filled into this array.\n",
    "    cls_pred = np.zeros(shape=num_images, dtype=np.int)\n",
    "\n",
    "    # Now calculate the predicted classes for the batches.\n",
    "    # We will just iterate through all the batches.\n",
    "    # There might be a more clever and Pythonic way of doing this.\n",
    "\n",
    "    # The starting index for the next batch is denoted i.\n",
    "    i = 0\n",
    "\n",
    "    while i < num_images:\n",
    "        # The ending index for the next batch is denoted j.\n",
    "        j = min(i + batch_size, num_images)\n",
    "\n",
    "        # Create a feed-dict with the images and labels\n",
    "        # between index i and j.\n",
    "        feed_dict = {x: images[i:j, :],\n",
    "                     y_true: labels[i:j, :]}\n",
    "\n",
    "        # Calculate the predicted class using TensorFlow.\n",
    "        cls_pred[i:j] = session.run(y_pred_cls, feed_dict=feed_dict)\n",
    "\n",
    "        # Set the start-index for the next batch to the\n",
    "        # end-index of the current batch.\n",
    "        i = j\n",
    "\n",
    "    # Create a boolean array whether each image is correctly classified.\n",
    "    correct = (cls_true == cls_pred)\n",
    "\n",
    "    return correct, cls_pred"
   ]
  },
  {
   "cell_type": "markdown",
   "metadata": {},
   "source": [
    "Calculate the predicted class for the test-set."
   ]
  },
  {
   "cell_type": "code",
   "execution_count": 41,
   "metadata": {
    "collapsed": true
   },
   "outputs": [],
   "source": [
    "def predict_cls_test():\n",
    "    return predict_cls(images = images_test,\n",
    "                       labels = labels_test,\n",
    "                       cls_true = cls_test)"
   ]
  },
  {
   "cell_type": "markdown",
   "metadata": {},
   "source": [
    "### Helper-functions for the classification accuracy\n",
    "\n",
    "This function calculates the classification accuracy given a boolean array whether each image was correctly classified. E.g. `classification_accuracy([True, True, False, False, False]) = 2/5 = 0.4`. The function also returns the number of correct classifications."
   ]
  },
  {
   "cell_type": "code",
   "execution_count": 42,
   "metadata": {
    "collapsed": true
   },
   "outputs": [],
   "source": [
    "def classification_accuracy(correct):\n",
    "    # When averaging a boolean array, False means 0 and True means 1.\n",
    "    # So we are calculating: number of True / len(correct) which is\n",
    "    # the same as the classification accuracy.\n",
    "    \n",
    "    # Return the classification accuracy\n",
    "    # and the number of correct classifications.\n",
    "    return correct.mean(), correct.sum()"
   ]
  },
  {
   "cell_type": "markdown",
   "metadata": {},
   "source": [
    "### Helper-function for showing the performance"
   ]
  },
  {
   "cell_type": "markdown",
   "metadata": {},
   "source": [
    "Function for printing the classification accuracy on the test-set.\n",
    "\n",
    "It takes a while to compute the classification for all the images in the test-set, that's why the results are re-used by calling the above functions directly from this function, so the classifications don't have to be recalculated by each function."
   ]
  },
  {
   "cell_type": "code",
   "execution_count": 43,
   "metadata": {
    "collapsed": true
   },
   "outputs": [],
   "source": [
    "def print_test_accuracy(show_example_errors=False,\n",
    "                        show_confusion_matrix=False):\n",
    "\n",
    "    # For all the images in the test-set,\n",
    "    # calculate the predicted classes and whether they are correct.\n",
    "    correct, cls_pred = predict_cls_test()\n",
    "    \n",
    "    # Classification accuracy and the number of correct classifications.\n",
    "    acc, num_correct = classification_accuracy(correct)\n",
    "    \n",
    "    # Number of images being classified.\n",
    "    num_images = len(correct)\n",
    "\n",
    "    # Print the accuracy.\n",
    "    msg = \"Accuracy on Test-Set: {0:.1%} ({1} / {2})\"\n",
    "    print(msg.format(acc, num_correct, num_images))\n",
    "\n",
    "    # Plot some examples of mis-classifications, if desired.\n",
    "    if show_example_errors:\n",
    "        print(\"Example errors:\")\n",
    "        plot_example_errors(cls_pred=cls_pred, correct=correct)\n",
    "\n",
    "    # Plot the confusion matrix, if desired.\n",
    "    if show_confusion_matrix:\n",
    "        print(\"Confusion Matrix:\")\n",
    "        plot_confusion_matrix(cls_pred=cls_pred)"
   ]
  },
  {
   "cell_type": "markdown",
   "metadata": {},
   "source": [
    "### Helper-function for plotting convolutional weights"
   ]
  },
  {
   "cell_type": "code",
   "execution_count": 44,
   "metadata": {
    "collapsed": true
   },
   "outputs": [],
   "source": [
    "def plot_conv_weights(weights, input_channel=0):\n",
    "    # Assume weights are TensorFlow ops for 4-dim variables\n",
    "    # e.g. weights_conv1 or weights_conv2.\n",
    "\n",
    "    # Retrieve the values of the weight-variables from TensorFlow.\n",
    "    # A feed-dict is not necessary because nothing is calculated.\n",
    "    w = session.run(weights)\n",
    "\n",
    "    # Print statistics for the weights.\n",
    "    print(\"Min:  {0:.5f}, Max:   {1:.5f}\".format(w.min(), w.max()))\n",
    "    print(\"Mean: {0:.5f}, Stdev: {1:.5f}\".format(w.mean(), w.std()))\n",
    "    \n",
    "    # Get the lowest and highest values for the weights.\n",
    "    # This is used to correct the colour intensity across\n",
    "    # the images so they can be compared with each other.\n",
    "    w_min = np.min(w)\n",
    "    w_max = np.max(w)\n",
    "    abs_max = max(abs(w_min), abs(w_max))\n",
    "\n",
    "    # Number of filters used in the conv. layer.\n",
    "    num_filters = w.shape[3]\n",
    "\n",
    "    # Number of grids to plot.\n",
    "    # Rounded-up, square-root of the number of filters.\n",
    "    num_grids = math.ceil(math.sqrt(num_filters))\n",
    "    \n",
    "    # Create figure with a grid of sub-plots.\n",
    "    fig, axes = plt.subplots(num_grids, num_grids)\n",
    "\n",
    "    # Plot all the filter-weights.\n",
    "    for i, ax in enumerate(axes.flat):\n",
    "        # Only plot the valid filter-weights.\n",
    "        if i<num_filters:\n",
    "            # Get the weights for the i'th filter of the input channel.\n",
    "            # The format of this 4-dim tensor is determined by the\n",
    "            img = w[:, :, input_channel, i]\n",
    "\n",
    "            # Plot image.\n",
    "            ax.imshow(img, vmin=-abs_max, vmax=abs_max,\n",
    "                      interpolation='nearest', cmap='seismic')\n",
    "        \n",
    "        # Remove ticks from the plot.\n",
    "        ax.set_xticks([])\n",
    "        ax.set_yticks([])\n",
    "    \n",
    "    # Ensure the plot is shown correctly with multiple plots\n",
    "    # in a single Notebook cell.\n",
    "    plt.show()"
   ]
  },
  {
   "cell_type": "markdown",
   "metadata": {},
   "source": [
    "### Helper-function for plotting the output of convolutional layers"
   ]
  },
  {
   "cell_type": "code",
   "execution_count": 45,
   "metadata": {
    "collapsed": true
   },
   "outputs": [],
   "source": [
    "def plot_layer_output(layer_output, image):\n",
    "    # Assume layer_output is a 4-dim tensor\n",
    "    # e.g. output_conv1 or output_conv2.\n",
    "\n",
    "    # Create a feed-dict which holds the single input image.\n",
    "    # Note that TensorFlow needs a list of images,\n",
    "    # so we just create a list with this one image.\n",
    "    feed_dict = {x: [image]}\n",
    "    \n",
    "    # Retrieve the output of the layer after inputting this image.\n",
    "    values = session.run(layer_output, feed_dict=feed_dict)\n",
    "\n",
    "    # Get the lowest and highest values.\n",
    "    # This is used to correct the colour intensity across\n",
    "    # the images so they can be compared with each other.\n",
    "    values_min = np.min(values)\n",
    "    values_max = np.max(values)\n",
    "\n",
    "    # Number of image channels output by the conv. layer.\n",
    "    num_images = values.shape[3]\n",
    "\n",
    "    # Number of grid-cells to plot.\n",
    "    # Rounded-up, square-root of the number of filters.\n",
    "    num_grids = math.ceil(math.sqrt(num_images))\n",
    "    \n",
    "    # Create figure with a grid of sub-plots.\n",
    "    fig, axes = plt.subplots(num_grids, num_grids)\n",
    "\n",
    "    # Plot all the filter-weights.\n",
    "    for i, ax in enumerate(axes.flat):\n",
    "        # Only plot the valid image-channels.\n",
    "        if i<num_images:\n",
    "            # Get the images for the i'th output channel.\n",
    "            img = values[0, :, :, i]\n",
    "\n",
    "            # Plot image.\n",
    "            ax.imshow(img, vmin=values_min, vmax=values_max,\n",
    "                      interpolation='nearest', cmap='binary')\n",
    "        \n",
    "        # Remove ticks from the plot.\n",
    "        ax.set_xticks([])\n",
    "        ax.set_yticks([])\n",
    "    \n",
    "    # Ensure the plot is shown correctly with multiple plots\n",
    "    # in a single Notebook cell.\n",
    "    plt.show()"
   ]
  },
  {
   "cell_type": "markdown",
   "metadata": {},
   "source": [
    "## Examples of distorted input images"
   ]
  },
  {
   "cell_type": "markdown",
   "metadata": {},
   "source": [
    "In order to artificially inflate the number of images available for training, the neural network uses pre-processing with random distortions of the input images. This should hopefully make the neural network more flexible at recognizing and classifying images.\n",
    "\n",
    "This is a helper-function for plotting distorted input images."
   ]
  },
  {
   "cell_type": "code",
   "execution_count": 46,
   "metadata": {
    "collapsed": true
   },
   "outputs": [],
   "source": [
    "def plot_distorted_image(image, cls_true):\n",
    "    # Repeat the input image 9 times.\n",
    "    image_duplicates = np.repeat(image[np.newaxis, :, :, :], 9, axis=0)\n",
    "\n",
    "    # Create a feed-dict for TensorFlow.\n",
    "    feed_dict = {x: image_duplicates}\n",
    "\n",
    "    # Calculate only the pre-processing of the TensorFlow graph\n",
    "    # which distorts the images in the feed-dict.\n",
    "    result = session.run(distorted_images, feed_dict=feed_dict)\n",
    "\n",
    "    # Plot the images.\n",
    "    plot_images(images=result, cls_true=np.repeat(cls_true, 9))"
   ]
  },
  {
   "cell_type": "markdown",
   "metadata": {},
   "source": [
    "Helper-function for getting an image and its class-number from the test-set."
   ]
  },
  {
   "cell_type": "code",
   "execution_count": 47,
   "metadata": {
    "collapsed": true
   },
   "outputs": [],
   "source": [
    "def get_test_image(i):\n",
    "    return images_test[i, :, :, :], cls_test[i]"
   ]
  },
  {
   "cell_type": "markdown",
   "metadata": {},
   "source": [
    "Get an image and its true class from the test-set."
   ]
  },
  {
   "cell_type": "code",
   "execution_count": 48,
   "metadata": {
    "collapsed": true
   },
   "outputs": [],
   "source": [
    "img, cls = get_test_image(16)"
   ]
  },
  {
   "cell_type": "markdown",
   "metadata": {},
   "source": [
    "Plot 9 random distortions of the image. If you re-run this code you will get slightly different results."
   ]
  },
  {
   "cell_type": "code",
   "execution_count": 49,
   "metadata": {
    "scrolled": true
   },
   "outputs": [
    {
     "data": {
      "image/png": "[encoded data removed]",
      "text/plain": [
       "<matplotlib.figure.Figure at 0x7f8d9a2794a8>"
      ]
     },
     "metadata": {},
     "output_type": "display_data"
    }
   ],
   "source": [
    "plot_distorted_image(img, cls)"
   ]
  },
  {
   "cell_type": "markdown",
   "metadata": {},
   "source": [
    "## Perform optimization"
   ]
  },
  {
   "cell_type": "code",
   "execution_count": 50,
   "metadata": {
    "scrolled": true
   },
   "outputs": [
    {
     "name": "stdout",
     "output_type": "stream",
     "text": [
      "Global Step:    100, Loss: 25.620967864990234, Training Batch Accuracy:  25.0%\n",
      "Global Step:    200, Loss: 12.366570472717285, Training Batch Accuracy:  21.9%\n",
      "Global Step:    300, Loss: 10.043354034423828, Training Batch Accuracy:  21.9%\n",
      "Global Step:    400, Loss: 7.598535060882568, Training Batch Accuracy:  15.6%\n",
      "Global Step:    500, Loss: 6.397973537445068, Training Batch Accuracy:  21.9%\n",
      "Global Step:    600, Loss: 5.793632507324219, Training Batch Accuracy:  23.4%\n",
      "Global Step:    700, Loss: 5.012920379638672, Training Batch Accuracy:  18.8%\n",
      "Global Step:    800, Loss: 4.60271692276001, Training Batch Accuracy:  18.8%\n",
      "Global Step:    900, Loss: 3.3158130645751953, Training Batch Accuracy:  25.0%\n",
      "Global Step:   1000, Loss: 3.596997022628784, Training Batch Accuracy:  28.1%\n",
      "Saved checkpoint.\n",
      "Global Step:   1100, Loss: 3.0484728813171387, Training Batch Accuracy:  20.3%\n",
      "Global Step:   1200, Loss: 3.253835439682007, Training Batch Accuracy:  29.7%\n",
      "Global Step:   1300, Loss: 2.9475882053375244, Training Batch Accuracy:  34.4%\n",
      "Global Step:   1400, Loss: 3.048499584197998, Training Batch Accuracy:  31.2%\n",
      "Global Step:   1500, Loss: 3.08341121673584, Training Batch Accuracy:  32.8%\n",
      "Global Step:   1600, Loss: 2.9293370246887207, Training Batch Accuracy:  21.9%\n",
      "Global Step:   1700, Loss: 3.1413254737854004, Training Batch Accuracy:  32.8%\n",
      "Global Step:   1800, Loss: 2.982616901397705, Training Batch Accuracy:  29.7%\n",
      "Global Step:   1900, Loss: 2.721888542175293, Training Batch Accuracy:  21.9%\n",
      "Global Step:   2000, Loss: 2.8812341690063477, Training Batch Accuracy:  25.0%\n",
      "Saved checkpoint.\n",
      "Global Step:   2100, Loss: 2.70699405670166, Training Batch Accuracy:  23.4%\n",
      "Global Step:   2200, Loss: 2.5942225456237793, Training Batch Accuracy:  28.1%\n",
      "Global Step:   2300, Loss: 2.832611083984375, Training Batch Accuracy:  21.9%\n",
      "Global Step:   2400, Loss: 2.5550780296325684, Training Batch Accuracy:  34.4%\n",
      "Global Step:   2500, Loss: 2.4368417263031006, Training Batch Accuracy:  26.6%\n",
      "Global Step:   2600, Loss: 2.470564365386963, Training Batch Accuracy:  25.0%\n",
      "Global Step:   2700, Loss: 2.3081798553466797, Training Batch Accuracy:  20.3%\n",
      "Global Step:   2800, Loss: 2.606837272644043, Training Batch Accuracy:  23.4%\n",
      "Global Step:   2900, Loss: 2.3092963695526123, Training Batch Accuracy:  15.6%\n",
      "Global Step:   3000, Loss: 2.269681453704834, Training Batch Accuracy:  17.2%\n",
      "Saved checkpoint.\n",
      "Global Step:   3100, Loss: 2.4088046550750732, Training Batch Accuracy:  17.2%\n",
      "Global Step:   3200, Loss: 2.326862335205078, Training Batch Accuracy:  26.6%\n",
      "Global Step:   3300, Loss: 2.293790340423584, Training Batch Accuracy:  40.6%\n",
      "Global Step:   3400, Loss: 2.33504319190979, Training Batch Accuracy:  26.6%\n",
      "Global Step:   3500, Loss: 2.4858078956604004, Training Batch Accuracy:  28.1%\n",
      "Global Step:   3600, Loss: 2.447159767150879, Training Batch Accuracy:  26.6%\n",
      "Global Step:   3700, Loss: 2.215916156768799, Training Batch Accuracy:  31.2%\n",
      "Global Step:   3800, Loss: 2.1250340938568115, Training Batch Accuracy:  25.0%\n",
      "Global Step:   3900, Loss: 2.280879020690918, Training Batch Accuracy:  31.2%\n",
      "Global Step:   4000, Loss: 2.205296754837036, Training Batch Accuracy:  25.0%\n",
      "Saved checkpoint.\n",
      "Global Step:   4100, Loss: 2.3342013359069824, Training Batch Accuracy:  18.8%\n",
      "Global Step:   4200, Loss: 2.0879931449890137, Training Batch Accuracy:  20.3%\n",
      "Global Step:   4300, Loss: 2.243156909942627, Training Batch Accuracy:  18.8%\n",
      "Global Step:   4400, Loss: 2.215526580810547, Training Batch Accuracy:  31.2%\n",
      "Global Step:   4500, Loss: 2.2117676734924316, Training Batch Accuracy:  31.2%\n",
      "Global Step:   4600, Loss: 2.092966079711914, Training Batch Accuracy:  29.7%\n",
      "Global Step:   4700, Loss: 2.3026490211486816, Training Batch Accuracy:  10.9%\n",
      "Global Step:   4800, Loss: 2.1876273155212402, Training Batch Accuracy:  31.2%\n",
      "Global Step:   4900, Loss: 2.2097790241241455, Training Batch Accuracy:  29.7%\n",
      "Global Step:   5000, Loss: 2.1877055168151855, Training Batch Accuracy:  15.6%\n",
      "Saved checkpoint.\n",
      "Global Step:   5100, Loss: 1.9750043153762817, Training Batch Accuracy:  40.6%\n",
      "Global Step:   5200, Loss: 2.2111728191375732, Training Batch Accuracy:  25.0%\n",
      "Global Step:   5300, Loss: 2.1190173625946045, Training Batch Accuracy:  25.0%\n",
      "Global Step:   5400, Loss: 2.204543113708496, Training Batch Accuracy:  23.4%\n",
      "Global Step:   5500, Loss: 2.169079303741455, Training Batch Accuracy:  18.8%\n",
      "Global Step:   5600, Loss: 2.1397151947021484, Training Batch Accuracy:  23.4%\n",
      "Global Step:   5700, Loss: 2.216876983642578, Training Batch Accuracy:  23.4%\n",
      "Global Step:   5800, Loss: 2.1206274032592773, Training Batch Accuracy:  25.0%\n",
      "Global Step:   5900, Loss: 2.118957757949829, Training Batch Accuracy:  26.6%\n",
      "Global Step:   6000, Loss: 2.0390231609344482, Training Batch Accuracy:  28.1%\n",
      "Saved checkpoint.\n",
      "Global Step:   6100, Loss: 2.084524393081665, Training Batch Accuracy:  15.6%\n",
      "Global Step:   6200, Loss: 2.125349283218384, Training Batch Accuracy:  25.0%\n",
      "Global Step:   6300, Loss: 2.0760748386383057, Training Batch Accuracy:  32.8%\n",
      "Global Step:   6400, Loss: 2.0702435970306396, Training Batch Accuracy:  26.6%\n",
      "Global Step:   6500, Loss: 2.1972737312316895, Training Batch Accuracy:  32.8%\n",
      "Global Step:   6600, Loss: 1.9760345220565796, Training Batch Accuracy:  23.4%\n",
      "Global Step:   6700, Loss: 2.030141830444336, Training Batch Accuracy:  32.8%\n",
      "Global Step:   6800, Loss: 2.086822986602783, Training Batch Accuracy:  25.0%\n",
      "Global Step:   6900, Loss: 1.93376624584198, Training Batch Accuracy:  31.2%\n",
      "Global Step:   7000, Loss: 2.200474500656128, Training Batch Accuracy:  34.4%\n",
      "Saved checkpoint.\n",
      "Global Step:   7100, Loss: 2.0378258228302, Training Batch Accuracy:  32.8%\n",
      "Global Step:   7200, Loss: 2.040295362472534, Training Batch Accuracy:  26.6%\n",
      "Global Step:   7300, Loss: 1.9383383989334106, Training Batch Accuracy:  31.2%\n",
      "Global Step:   7400, Loss: 2.0332493782043457, Training Batch Accuracy:  40.6%\n",
      "Global Step:   7500, Loss: 2.0663607120513916, Training Batch Accuracy:  35.9%\n",
      "Global Step:   7600, Loss: 1.9714264869689941, Training Batch Accuracy:  40.6%\n",
      "Global Step:   7700, Loss: 2.014869213104248, Training Batch Accuracy:  32.8%\n",
      "Global Step:   7800, Loss: 2.013120174407959, Training Batch Accuracy:  34.4%\n",
      "Global Step:   7900, Loss: 1.8764883279800415, Training Batch Accuracy:  26.6%\n",
      "Global Step:   8000, Loss: 1.9568357467651367, Training Batch Accuracy:  26.6%\n",
      "Saved checkpoint.\n",
      "Global Step:   8100, Loss: 1.8275296688079834, Training Batch Accuracy:  29.7%\n",
      "Global Step:   8200, Loss: 2.058940887451172, Training Batch Accuracy:  39.1%\n",
      "Global Step:   8300, Loss: 2.047088146209717, Training Batch Accuracy:  29.7%\n",
      "Global Step:   8400, Loss: 2.209000587463379, Training Batch Accuracy:  21.9%\n",
      "Global Step:   8500, Loss: 1.9371747970581055, Training Batch Accuracy:  39.1%\n",
      "Global Step:   8600, Loss: 2.0173871517181396, Training Batch Accuracy:  32.8%\n",
      "Global Step:   8700, Loss: 2.146785259246826, Training Batch Accuracy:  31.2%\n",
      "Global Step:   8800, Loss: 1.9390989542007446, Training Batch Accuracy:  28.1%\n",
      "Global Step:   8900, Loss: 1.7499141693115234, Training Batch Accuracy:  40.6%\n",
      "Global Step:   9000, Loss: 2.0698442459106445, Training Batch Accuracy:  37.5%\n",
      "Saved checkpoint.\n",
      "Global Step:   9100, Loss: 2.0066444873809814, Training Batch Accuracy:  28.1%\n",
      "Global Step:   9200, Loss: 2.027315139770508, Training Batch Accuracy:  40.6%\n",
      "Global Step:   9300, Loss: 1.9805761575698853, Training Batch Accuracy:  37.5%\n",
      "Global Step:   9400, Loss: 1.7280771732330322, Training Batch Accuracy:  43.8%\n",
      "Global Step:   9500, Loss: 1.9145522117614746, Training Batch Accuracy:  42.2%\n",
      "Global Step:   9600, Loss: 1.9010963439941406, Training Batch Accuracy:  35.9%\n",
      "Global Step:   9700, Loss: 1.9122565984725952, Training Batch Accuracy:  29.7%\n",
      "Global Step:   9800, Loss: 2.0470900535583496, Training Batch Accuracy:  35.9%\n",
      "Global Step:   9900, Loss: 2.172574281692505, Training Batch Accuracy:  35.9%\n",
      "Global Step:  10000, Loss: 1.8190535306930542, Training Batch Accuracy:  40.6%\n",
      "Saved checkpoint.\n",
      "Global Step:  10100, Loss: 2.0555198192596436, Training Batch Accuracy:  32.8%\n",
      "Global Step:  10200, Loss: 1.970212459564209, Training Batch Accuracy:  37.5%\n",
      "Global Step:  10300, Loss: 1.842414379119873, Training Batch Accuracy:  35.9%\n"
     ]
    },
    {
     "name": "stdout",
     "output_type": "stream",
     "text": [
      "Global Step:  10400, Loss: 2.015695571899414, Training Batch Accuracy:  35.9%\n",
      "Global Step:  10500, Loss: 2.0779218673706055, Training Batch Accuracy:  35.9%\n",
      "Global Step:  10600, Loss: 1.8459856510162354, Training Batch Accuracy:  34.4%\n",
      "Global Step:  10700, Loss: 2.0847911834716797, Training Batch Accuracy:  31.2%\n",
      "Global Step:  10800, Loss: 1.983549952507019, Training Batch Accuracy:  39.1%\n",
      "Global Step:  10900, Loss: 1.81613028049469, Training Batch Accuracy:  35.9%\n",
      "Global Step:  11000, Loss: 2.237405300140381, Training Batch Accuracy:  40.6%\n",
      "Saved checkpoint.\n",
      "Global Step:  11100, Loss: 1.9921765327453613, Training Batch Accuracy:  43.8%\n",
      "Global Step:  11200, Loss: 1.8519747257232666, Training Batch Accuracy:  43.8%\n",
      "Global Step:  11300, Loss: 1.8270723819732666, Training Batch Accuracy:  28.1%\n",
      "Global Step:  11400, Loss: 1.8667446374893188, Training Batch Accuracy:  39.1%\n",
      "Global Step:  11500, Loss: 1.9008578062057495, Training Batch Accuracy:  43.8%\n",
      "Global Step:  11600, Loss: 1.8381001949310303, Training Batch Accuracy:  35.9%\n",
      "Global Step:  11700, Loss: 1.9305500984191895, Training Batch Accuracy:  37.5%\n",
      "Global Step:  11800, Loss: 1.988088607788086, Training Batch Accuracy:  34.4%\n",
      "Global Step:  11900, Loss: 1.9993606805801392, Training Batch Accuracy:  35.9%\n",
      "Global Step:  12000, Loss: 1.910706639289856, Training Batch Accuracy:  34.4%\n",
      "Saved checkpoint.\n",
      "Global Step:  12100, Loss: 1.9080486297607422, Training Batch Accuracy:  40.6%\n",
      "Global Step:  12200, Loss: 1.9495340585708618, Training Batch Accuracy:  50.0%\n",
      "Global Step:  12300, Loss: 2.0039308071136475, Training Batch Accuracy:  31.2%\n",
      "Global Step:  12400, Loss: 1.9711744785308838, Training Batch Accuracy:  43.8%\n",
      "Global Step:  12500, Loss: 1.7768428325653076, Training Batch Accuracy:  53.1%\n",
      "Global Step:  12600, Loss: 1.9413679838180542, Training Batch Accuracy:  39.1%\n",
      "Global Step:  12700, Loss: 1.8403785228729248, Training Batch Accuracy:  32.8%\n",
      "Global Step:  12800, Loss: 1.9758236408233643, Training Batch Accuracy:  39.1%\n",
      "Global Step:  12900, Loss: 1.6803462505340576, Training Batch Accuracy:  43.8%\n",
      "Global Step:  13000, Loss: 1.9873322248458862, Training Batch Accuracy:  34.4%\n",
      "Saved checkpoint.\n",
      "Global Step:  13100, Loss: 1.8802096843719482, Training Batch Accuracy:  37.5%\n",
      "Global Step:  13200, Loss: 1.8779945373535156, Training Batch Accuracy:  32.8%\n",
      "Global Step:  13300, Loss: 1.877514123916626, Training Batch Accuracy:  43.8%\n",
      "Global Step:  13400, Loss: 1.8248727321624756, Training Batch Accuracy:  45.3%\n",
      "Global Step:  13500, Loss: 1.9206171035766602, Training Batch Accuracy:  32.8%\n",
      "Global Step:  13600, Loss: 1.8033299446105957, Training Batch Accuracy:  39.1%\n",
      "Global Step:  13700, Loss: 1.8966481685638428, Training Batch Accuracy:  32.8%\n",
      "Global Step:  13800, Loss: 1.892852544784546, Training Batch Accuracy:  40.6%\n",
      "Global Step:  13900, Loss: 1.9891557693481445, Training Batch Accuracy:  32.8%\n",
      "Global Step:  14000, Loss: 1.9352465867996216, Training Batch Accuracy:  37.5%\n",
      "Saved checkpoint.\n",
      "Global Step:  14100, Loss: 1.7285974025726318, Training Batch Accuracy:  34.4%\n",
      "Global Step:  14200, Loss: 1.6556661128997803, Training Batch Accuracy:  46.9%\n",
      "Global Step:  14300, Loss: 1.6728847026824951, Training Batch Accuracy:  32.8%\n",
      "Global Step:  14400, Loss: 1.7787156105041504, Training Batch Accuracy:  45.3%\n",
      "Global Step:  14500, Loss: 1.905463695526123, Training Batch Accuracy:  32.8%\n",
      "Global Step:  14600, Loss: 1.6595691442489624, Training Batch Accuracy:  51.6%\n",
      "Global Step:  14700, Loss: 1.871567964553833, Training Batch Accuracy:  45.3%\n",
      "Global Step:  14800, Loss: 1.7570455074310303, Training Batch Accuracy:  40.6%\n",
      "Global Step:  14900, Loss: 1.6266438961029053, Training Batch Accuracy:  45.3%\n",
      "Global Step:  15000, Loss: 1.8015142679214478, Training Batch Accuracy:  40.6%\n",
      "Saved checkpoint.\n",
      "Global Step:  15100, Loss: 1.8614921569824219, Training Batch Accuracy:  42.2%\n",
      "Global Step:  15200, Loss: 1.76023268699646, Training Batch Accuracy:  42.2%\n",
      "Global Step:  15300, Loss: 1.8636932373046875, Training Batch Accuracy:  39.1%\n",
      "Global Step:  15400, Loss: 2.1303677558898926, Training Batch Accuracy:  31.2%\n",
      "Global Step:  15500, Loss: 1.7428206205368042, Training Batch Accuracy:  46.9%\n",
      "Global Step:  15600, Loss: 1.9538929462432861, Training Batch Accuracy:  37.5%\n",
      "Global Step:  15700, Loss: 2.0123887062072754, Training Batch Accuracy:  28.1%\n",
      "Global Step:  15800, Loss: 1.8343714475631714, Training Batch Accuracy:  46.9%\n",
      "Global Step:  15900, Loss: 1.9047987461090088, Training Batch Accuracy:  40.6%\n",
      "Global Step:  16000, Loss: 1.8368992805480957, Training Batch Accuracy:  45.3%\n",
      "Saved checkpoint.\n",
      "Global Step:  16100, Loss: 1.7506303787231445, Training Batch Accuracy:  43.8%\n",
      "Global Step:  16200, Loss: 1.7271984815597534, Training Batch Accuracy:  53.1%\n",
      "Global Step:  16300, Loss: 1.7255840301513672, Training Batch Accuracy:  32.8%\n",
      "Global Step:  16400, Loss: 1.7608873844146729, Training Batch Accuracy:  43.8%\n",
      "Global Step:  16500, Loss: 1.9181630611419678, Training Batch Accuracy:  35.9%\n",
      "Global Step:  16600, Loss: 1.9248175621032715, Training Batch Accuracy:  32.8%\n",
      "Global Step:  16700, Loss: 1.65807044506073, Training Batch Accuracy:  35.9%\n",
      "Global Step:  16800, Loss: 1.7882198095321655, Training Batch Accuracy:  43.8%\n",
      "Global Step:  16900, Loss: 1.605583667755127, Training Batch Accuracy:  43.8%\n",
      "Global Step:  17000, Loss: 1.9336580038070679, Training Batch Accuracy:  50.0%\n",
      "Saved checkpoint.\n",
      "Global Step:  17100, Loss: 1.7300829887390137, Training Batch Accuracy:  43.8%\n",
      "Global Step:  17200, Loss: 1.9899158477783203, Training Batch Accuracy:  35.9%\n",
      "Global Step:  17300, Loss: 1.6894454956054688, Training Batch Accuracy:  45.3%\n",
      "Global Step:  17400, Loss: 1.756028652191162, Training Batch Accuracy:  39.1%\n",
      "Global Step:  17500, Loss: 1.7237272262573242, Training Batch Accuracy:  54.7%\n",
      "Global Step:  17600, Loss: 1.6963038444519043, Training Batch Accuracy:  42.2%\n",
      "Global Step:  17700, Loss: 1.9509882926940918, Training Batch Accuracy:  42.2%\n",
      "Global Step:  17800, Loss: 1.644136667251587, Training Batch Accuracy:  51.6%\n",
      "Global Step:  17900, Loss: 1.8838798999786377, Training Batch Accuracy:  46.9%\n",
      "Global Step:  18000, Loss: 2.039452075958252, Training Batch Accuracy:  39.1%\n",
      "Saved checkpoint.\n",
      "Global Step:  18100, Loss: 1.770702600479126, Training Batch Accuracy:  31.2%\n",
      "Global Step:  18200, Loss: 1.832456111907959, Training Batch Accuracy:  40.6%\n",
      "Global Step:  18300, Loss: 1.6803967952728271, Training Batch Accuracy:  43.8%\n",
      "Global Step:  18400, Loss: 1.7268774509429932, Training Batch Accuracy:  45.3%\n",
      "Global Step:  18500, Loss: 1.742212176322937, Training Batch Accuracy:  43.8%\n",
      "Global Step:  18600, Loss: 1.6915245056152344, Training Batch Accuracy:  50.0%\n",
      "Global Step:  18700, Loss: 1.79252290725708, Training Batch Accuracy:  48.4%\n",
      "Global Step:  18800, Loss: 1.7073276042938232, Training Batch Accuracy:  39.1%\n",
      "Global Step:  18900, Loss: 1.7401313781738281, Training Batch Accuracy:  40.6%\n",
      "Global Step:  19000, Loss: 1.754045009613037, Training Batch Accuracy:  37.5%\n",
      "Saved checkpoint.\n",
      "Global Step:  19100, Loss: 1.7382712364196777, Training Batch Accuracy:  45.3%\n",
      "Global Step:  19200, Loss: 1.7014654874801636, Training Batch Accuracy:  45.3%\n",
      "Global Step:  19300, Loss: 1.6495671272277832, Training Batch Accuracy:  51.6%\n",
      "Global Step:  19400, Loss: 1.9023773670196533, Training Batch Accuracy:  43.8%\n",
      "Global Step:  19500, Loss: 1.6891992092132568, Training Batch Accuracy:  46.9%\n",
      "Global Step:  19600, Loss: 1.6611504554748535, Training Batch Accuracy:  32.8%\n",
      "Global Step:  19700, Loss: 1.7153266668319702, Training Batch Accuracy:  40.6%\n",
      "Global Step:  19800, Loss: 1.4395074844360352, Training Batch Accuracy:  51.6%\n",
      "Global Step:  19900, Loss: 1.6730953454971313, Training Batch Accuracy:  42.2%\n",
      "Global Step:  20000, Loss: 1.5777473449707031, Training Batch Accuracy:  53.1%\n",
      "Saved checkpoint.\n",
      "Global Step:  20100, Loss: 1.639480710029602, Training Batch Accuracy:  39.1%\n",
      "Global Step:  20200, Loss: 1.8995025157928467, Training Batch Accuracy:  37.5%\n",
      "Global Step:  20300, Loss: 1.6799267530441284, Training Batch Accuracy:  57.8%\n",
      "Global Step:  20400, Loss: 1.8319971561431885, Training Batch Accuracy:  25.0%\n",
      "Global Step:  20500, Loss: 1.6274417638778687, Training Batch Accuracy:  45.3%\n"
     ]
    },
    {
     "name": "stdout",
     "output_type": "stream",
     "text": [
      "Global Step:  20600, Loss: 1.7018135786056519, Training Batch Accuracy:  42.2%\n",
      "Global Step:  20700, Loss: 1.7977824211120605, Training Batch Accuracy:  40.6%\n",
      "Global Step:  20800, Loss: 1.9072433710098267, Training Batch Accuracy:  50.0%\n",
      "Global Step:  20900, Loss: 1.7791767120361328, Training Batch Accuracy:  40.6%\n",
      "Global Step:  21000, Loss: 1.594886302947998, Training Batch Accuracy:  48.4%\n",
      "Saved checkpoint.\n",
      "Global Step:  21100, Loss: 1.5952670574188232, Training Batch Accuracy:  50.0%\n",
      "Global Step:  21200, Loss: 1.7879095077514648, Training Batch Accuracy:  48.4%\n",
      "Global Step:  21300, Loss: 1.7875460386276245, Training Batch Accuracy:  53.1%\n",
      "Global Step:  21400, Loss: 1.7703468799591064, Training Batch Accuracy:  42.2%\n",
      "Global Step:  21500, Loss: 1.6589866876602173, Training Batch Accuracy:  57.8%\n",
      "Global Step:  21600, Loss: 1.6803953647613525, Training Batch Accuracy:  54.7%\n",
      "Global Step:  21700, Loss: 1.7319074869155884, Training Batch Accuracy:  48.4%\n",
      "Global Step:  21800, Loss: 1.684706211090088, Training Batch Accuracy:  48.4%\n",
      "Global Step:  21900, Loss: 1.7046685218811035, Training Batch Accuracy:  51.6%\n",
      "Global Step:  22000, Loss: 1.637394666671753, Training Batch Accuracy:  45.3%\n",
      "Saved checkpoint.\n",
      "Global Step:  22100, Loss: 1.7807056903839111, Training Batch Accuracy:  46.9%\n",
      "Global Step:  22200, Loss: 1.7114274501800537, Training Batch Accuracy:  42.2%\n",
      "Global Step:  22300, Loss: 1.5385737419128418, Training Batch Accuracy:  53.1%\n",
      "Global Step:  22400, Loss: 1.7651399374008179, Training Batch Accuracy:  53.1%\n",
      "Global Step:  22500, Loss: 1.775861382484436, Training Batch Accuracy:  35.9%\n",
      "Global Step:  22600, Loss: 1.623329997062683, Training Batch Accuracy:  53.1%\n",
      "Global Step:  22700, Loss: 1.549187421798706, Training Batch Accuracy:  57.8%\n",
      "Global Step:  22800, Loss: 1.6564369201660156, Training Batch Accuracy:  54.7%\n",
      "Global Step:  22900, Loss: 1.615113377571106, Training Batch Accuracy:  37.5%\n",
      "Global Step:  23000, Loss: 1.8327405452728271, Training Batch Accuracy:  54.7%\n",
      "Saved checkpoint.\n",
      "Global Step:  23100, Loss: 1.488586187362671, Training Batch Accuracy:  45.3%\n",
      "Global Step:  23200, Loss: 1.5852254629135132, Training Batch Accuracy:  45.3%\n",
      "Global Step:  23300, Loss: 1.6415640115737915, Training Batch Accuracy:  40.6%\n",
      "Global Step:  23400, Loss: 1.6544020175933838, Training Batch Accuracy:  54.7%\n",
      "Global Step:  23500, Loss: 1.7578797340393066, Training Batch Accuracy:  54.7%\n",
      "Global Step:  23600, Loss: 1.638942003250122, Training Batch Accuracy:  53.1%\n",
      "Global Step:  23700, Loss: 1.8185555934906006, Training Batch Accuracy:  45.3%\n",
      "Global Step:  23800, Loss: 1.7356587648391724, Training Batch Accuracy:  42.2%\n",
      "Global Step:  23900, Loss: 1.5393688678741455, Training Batch Accuracy:  60.9%\n",
      "Global Step:  24000, Loss: 1.611388087272644, Training Batch Accuracy:  50.0%\n",
      "Saved checkpoint.\n",
      "Global Step:  24100, Loss: 1.7965620756149292, Training Batch Accuracy:  40.6%\n",
      "Global Step:  24200, Loss: 1.631040334701538, Training Batch Accuracy:  48.4%\n",
      "Global Step:  24300, Loss: 1.4710026979446411, Training Batch Accuracy:  56.2%\n",
      "Global Step:  24400, Loss: 1.515265941619873, Training Batch Accuracy:  65.6%\n",
      "Global Step:  24500, Loss: 1.6525964736938477, Training Batch Accuracy:  48.4%\n",
      "Global Step:  24600, Loss: 1.444427251815796, Training Batch Accuracy:  59.4%\n",
      "Global Step:  24700, Loss: 1.6595940589904785, Training Batch Accuracy:  48.4%\n",
      "Global Step:  24800, Loss: 1.4900200366973877, Training Batch Accuracy:  54.7%\n",
      "Global Step:  24900, Loss: 1.5435917377471924, Training Batch Accuracy:  51.6%\n",
      "Global Step:  25000, Loss: 1.6061468124389648, Training Batch Accuracy:  54.7%\n",
      "Saved checkpoint.\n",
      "Global Step:  25100, Loss: 1.6777993440628052, Training Batch Accuracy:  54.7%\n",
      "Global Step:  25200, Loss: 1.515625238418579, Training Batch Accuracy:  57.8%\n",
      "Global Step:  25300, Loss: 1.665980577468872, Training Batch Accuracy:  46.9%\n",
      "Global Step:  25400, Loss: 1.416814923286438, Training Batch Accuracy:  50.0%\n",
      "Global Step:  25500, Loss: 1.5667320489883423, Training Batch Accuracy:  51.6%\n",
      "Global Step:  25600, Loss: 1.7172932624816895, Training Batch Accuracy:  46.9%\n",
      "Global Step:  25700, Loss: 1.8372868299484253, Training Batch Accuracy:  40.6%\n",
      "Global Step:  25800, Loss: 1.618988275527954, Training Batch Accuracy:  45.3%\n",
      "Global Step:  25900, Loss: 1.8308448791503906, Training Batch Accuracy:  51.6%\n",
      "Global Step:  26000, Loss: 1.7580747604370117, Training Batch Accuracy:  48.4%\n",
      "Saved checkpoint.\n",
      "Global Step:  26100, Loss: 1.5998272895812988, Training Batch Accuracy:  46.9%\n",
      "Global Step:  26200, Loss: 1.841926097869873, Training Batch Accuracy:  54.7%\n",
      "Global Step:  26300, Loss: 1.608557105064392, Training Batch Accuracy:  53.1%\n",
      "Global Step:  26400, Loss: 1.5834505558013916, Training Batch Accuracy:  50.0%\n",
      "Global Step:  26500, Loss: 1.6074771881103516, Training Batch Accuracy:  46.9%\n",
      "Global Step:  26600, Loss: 1.8416701555252075, Training Batch Accuracy:  40.6%\n",
      "Global Step:  26700, Loss: 1.7061080932617188, Training Batch Accuracy:  54.7%\n",
      "Global Step:  26800, Loss: 1.5394320487976074, Training Batch Accuracy:  48.4%\n",
      "Global Step:  26900, Loss: 1.7442594766616821, Training Batch Accuracy:  53.1%\n",
      "Global Step:  27000, Loss: 1.9470608234405518, Training Batch Accuracy:  39.1%\n",
      "Saved checkpoint.\n",
      "Global Step:  27100, Loss: 1.7120361328125, Training Batch Accuracy:  32.8%\n",
      "Global Step:  27200, Loss: 1.564140796661377, Training Batch Accuracy:  48.4%\n",
      "Global Step:  27300, Loss: 1.5809634923934937, Training Batch Accuracy:  56.2%\n",
      "Global Step:  27400, Loss: 1.6113042831420898, Training Batch Accuracy:  43.8%\n",
      "Global Step:  27500, Loss: 1.49318528175354, Training Batch Accuracy:  54.7%\n",
      "Global Step:  27600, Loss: 1.4853999614715576, Training Batch Accuracy:  53.1%\n",
      "Global Step:  27700, Loss: 1.5368725061416626, Training Batch Accuracy:  50.0%\n",
      "Global Step:  27800, Loss: 1.7226018905639648, Training Batch Accuracy:  42.2%\n",
      "Global Step:  27900, Loss: 1.5841013193130493, Training Batch Accuracy:  56.2%\n",
      "Global Step:  28000, Loss: 1.4969199895858765, Training Batch Accuracy:  62.5%\n",
      "Saved checkpoint.\n",
      "Global Step:  28100, Loss: 1.5009812116622925, Training Batch Accuracy:  57.8%\n",
      "Global Step:  28200, Loss: 1.641074299812317, Training Batch Accuracy:  48.4%\n",
      "Global Step:  28300, Loss: 1.6795575618743896, Training Batch Accuracy:  54.7%\n",
      "Global Step:  28400, Loss: 1.4777578115463257, Training Batch Accuracy:  57.8%\n",
      "Global Step:  28500, Loss: 1.642979383468628, Training Batch Accuracy:  67.2%\n",
      "Global Step:  28600, Loss: 1.681842565536499, Training Batch Accuracy:  56.2%\n",
      "Global Step:  28700, Loss: 1.4250099658966064, Training Batch Accuracy:  50.0%\n",
      "Global Step:  28800, Loss: 1.629988670349121, Training Batch Accuracy:  45.3%\n",
      "Global Step:  28900, Loss: 1.5196270942687988, Training Batch Accuracy:  57.8%\n",
      "Global Step:  29000, Loss: 1.6088855266571045, Training Batch Accuracy:  56.2%\n",
      "Saved checkpoint.\n",
      "Global Step:  29100, Loss: 1.3799636363983154, Training Batch Accuracy:  56.2%\n",
      "Global Step:  29200, Loss: 1.54612135887146, Training Batch Accuracy:  56.2%\n",
      "Global Step:  29300, Loss: 1.5243339538574219, Training Batch Accuracy:  46.9%\n",
      "Global Step:  29400, Loss: 1.659226894378662, Training Batch Accuracy:  60.9%\n",
      "Global Step:  29500, Loss: 1.7851197719573975, Training Batch Accuracy:  46.9%\n",
      "Global Step:  29600, Loss: 1.4912837743759155, Training Batch Accuracy:  57.8%\n",
      "Global Step:  29700, Loss: 1.3218640089035034, Training Batch Accuracy:  54.7%\n",
      "Global Step:  29800, Loss: 1.71769380569458, Training Batch Accuracy:  39.1%\n",
      "Global Step:  29900, Loss: 1.5851937532424927, Training Batch Accuracy:  53.1%\n",
      "Global Step:  30000, Loss: 1.6385581493377686, Training Batch Accuracy:  50.0%\n",
      "Saved checkpoint.\n",
      "Global Step:  30100, Loss: 1.446866512298584, Training Batch Accuracy:  54.7%\n",
      "Global Step:  30200, Loss: 1.4089126586914062, Training Batch Accuracy:  59.4%\n",
      "Global Step:  30300, Loss: 1.5652399063110352, Training Batch Accuracy:  59.4%\n",
      "Global Step:  30400, Loss: 1.5188772678375244, Training Batch Accuracy:  43.8%\n",
      "Global Step:  30500, Loss: 1.5515269041061401, Training Batch Accuracy:  56.2%\n",
      "Global Step:  30600, Loss: 1.3226983547210693, Training Batch Accuracy:  57.8%\n",
      "Global Step:  30700, Loss: 1.4238831996917725, Training Batch Accuracy:  60.9%\n"
     ]
    },
    {
     "name": "stdout",
     "output_type": "stream",
     "text": [
      "Global Step:  30800, Loss: 1.4857819080352783, Training Batch Accuracy:  53.1%\n",
      "Global Step:  30900, Loss: 1.4189977645874023, Training Batch Accuracy:  48.4%\n",
      "Global Step:  31000, Loss: 1.5388175249099731, Training Batch Accuracy:  50.0%\n",
      "Saved checkpoint.\n",
      "Global Step:  31100, Loss: 1.3623559474945068, Training Batch Accuracy:  51.6%\n",
      "Global Step:  31200, Loss: 1.4214662313461304, Training Batch Accuracy:  57.8%\n",
      "Global Step:  31300, Loss: 1.4479049444198608, Training Batch Accuracy:  57.8%\n",
      "Global Step:  31400, Loss: 1.5456688404083252, Training Batch Accuracy:  51.6%\n",
      "Global Step:  31500, Loss: 1.495728850364685, Training Batch Accuracy:  56.2%\n",
      "Global Step:  31600, Loss: 1.5490665435791016, Training Batch Accuracy:  50.0%\n",
      "Global Step:  31700, Loss: 1.4562733173370361, Training Batch Accuracy:  56.2%\n",
      "Global Step:  31800, Loss: 1.5754793882369995, Training Batch Accuracy:  64.1%\n",
      "Global Step:  31900, Loss: 1.4600601196289062, Training Batch Accuracy:  53.1%\n",
      "Global Step:  32000, Loss: 1.6377935409545898, Training Batch Accuracy:  59.4%\n",
      "Saved checkpoint.\n",
      "Global Step:  32100, Loss: 1.2999248504638672, Training Batch Accuracy:  67.2%\n",
      "Global Step:  32200, Loss: 1.641749620437622, Training Batch Accuracy:  48.4%\n",
      "Global Step:  32300, Loss: 1.6484956741333008, Training Batch Accuracy:  54.7%\n",
      "Global Step:  32400, Loss: 1.4412790536880493, Training Batch Accuracy:  56.2%\n",
      "Global Step:  32500, Loss: 1.4864919185638428, Training Batch Accuracy:  60.9%\n",
      "Global Step:  32600, Loss: 1.55623197555542, Training Batch Accuracy:  48.4%\n",
      "Global Step:  32700, Loss: 1.4513425827026367, Training Batch Accuracy:  57.8%\n",
      "Global Step:  32800, Loss: 1.3812921047210693, Training Batch Accuracy:  57.8%\n",
      "Global Step:  32900, Loss: 1.4507617950439453, Training Batch Accuracy:  64.1%\n",
      "Global Step:  33000, Loss: 1.4301669597625732, Training Batch Accuracy:  53.1%\n",
      "Saved checkpoint.\n",
      "Global Step:  33100, Loss: 1.4130423069000244, Training Batch Accuracy:  43.8%\n",
      "Global Step:  33200, Loss: 1.3626904487609863, Training Batch Accuracy:  62.5%\n",
      "Global Step:  33300, Loss: 1.297468662261963, Training Batch Accuracy:  59.4%\n",
      "Global Step:  33400, Loss: 1.606813907623291, Training Batch Accuracy:  53.1%\n",
      "Global Step:  33500, Loss: 1.7516944408416748, Training Batch Accuracy:  53.1%\n",
      "Global Step:  33600, Loss: 1.394140362739563, Training Batch Accuracy:  53.1%\n",
      "Global Step:  33700, Loss: 1.3586294651031494, Training Batch Accuracy:  60.9%\n",
      "Global Step:  33800, Loss: 1.5684692859649658, Training Batch Accuracy:  60.9%\n",
      "Global Step:  33900, Loss: 1.54990816116333, Training Batch Accuracy:  60.9%\n",
      "Global Step:  34000, Loss: 1.306478500366211, Training Batch Accuracy:  59.4%\n",
      "Saved checkpoint.\n",
      "Global Step:  34100, Loss: 1.472119688987732, Training Batch Accuracy:  59.4%\n",
      "Global Step:  34200, Loss: 1.6625611782073975, Training Batch Accuracy:  59.4%\n",
      "Global Step:  34300, Loss: 1.5951740741729736, Training Batch Accuracy:  50.0%\n",
      "Global Step:  34400, Loss: 1.3374474048614502, Training Batch Accuracy:  71.9%\n",
      "Global Step:  34500, Loss: 1.5406711101531982, Training Batch Accuracy:  54.7%\n",
      "Global Step:  34600, Loss: 1.4818077087402344, Training Batch Accuracy:  57.8%\n",
      "Global Step:  34700, Loss: 1.4667255878448486, Training Batch Accuracy:  51.6%\n",
      "Global Step:  34800, Loss: 1.5417349338531494, Training Batch Accuracy:  53.1%\n",
      "Global Step:  34900, Loss: 1.4946435689926147, Training Batch Accuracy:  54.7%\n",
      "Global Step:  35000, Loss: 1.8627643585205078, Training Batch Accuracy:  42.2%\n",
      "Saved checkpoint.\n",
      "Global Step:  35100, Loss: 1.4647862911224365, Training Batch Accuracy:  57.8%\n",
      "Global Step:  35200, Loss: 1.5431698560714722, Training Batch Accuracy:  56.2%\n",
      "Global Step:  35300, Loss: 1.5667365789413452, Training Batch Accuracy:  50.0%\n",
      "Global Step:  35400, Loss: 1.5439733266830444, Training Batch Accuracy:  53.1%\n",
      "Global Step:  35500, Loss: 1.4485336542129517, Training Batch Accuracy:  56.2%\n",
      "Global Step:  35600, Loss: 1.164333701133728, Training Batch Accuracy:  51.6%\n",
      "Global Step:  35700, Loss: 1.4206076860427856, Training Batch Accuracy:  54.7%\n",
      "Global Step:  35800, Loss: 1.4718003273010254, Training Batch Accuracy:  53.1%\n",
      "Global Step:  35900, Loss: 1.3817479610443115, Training Batch Accuracy:  50.0%\n",
      "Global Step:  36000, Loss: 1.5682041645050049, Training Batch Accuracy:  42.2%\n",
      "Saved checkpoint.\n",
      "Global Step:  36100, Loss: 1.7209982872009277, Training Batch Accuracy:  53.1%\n",
      "Global Step:  36200, Loss: 1.531398057937622, Training Batch Accuracy:  42.2%\n",
      "Global Step:  36300, Loss: 1.214860200881958, Training Batch Accuracy:  73.4%\n",
      "Global Step:  36400, Loss: 1.315711498260498, Training Batch Accuracy:  60.9%\n",
      "Global Step:  36500, Loss: 1.409001350402832, Training Batch Accuracy:  54.7%\n",
      "Global Step:  36600, Loss: 1.34224271774292, Training Batch Accuracy:  56.2%\n",
      "Global Step:  36700, Loss: 1.3358771800994873, Training Batch Accuracy:  60.9%\n",
      "Global Step:  36800, Loss: 1.4793763160705566, Training Batch Accuracy:  54.7%\n",
      "Global Step:  36900, Loss: 1.3839962482452393, Training Batch Accuracy:  60.9%\n",
      "Global Step:  37000, Loss: 1.3793178796768188, Training Batch Accuracy:  54.7%\n",
      "Saved checkpoint.\n",
      "Global Step:  37100, Loss: 1.1590310335159302, Training Batch Accuracy:  64.1%\n",
      "Global Step:  37200, Loss: 1.3649110794067383, Training Batch Accuracy:  62.5%\n",
      "Global Step:  37300, Loss: 1.4550611972808838, Training Batch Accuracy:  53.1%\n",
      "Global Step:  37400, Loss: 1.493211269378662, Training Batch Accuracy:  65.6%\n",
      "Global Step:  37500, Loss: 1.465714454650879, Training Batch Accuracy:  67.2%\n",
      "Global Step:  37600, Loss: 1.451282024383545, Training Batch Accuracy:  56.2%\n",
      "Global Step:  37700, Loss: 1.5678737163543701, Training Batch Accuracy:  57.8%\n",
      "Global Step:  37800, Loss: 1.2929644584655762, Training Batch Accuracy:  60.9%\n",
      "Global Step:  37900, Loss: 1.5809643268585205, Training Batch Accuracy:  53.1%\n",
      "Global Step:  38000, Loss: 1.484922170639038, Training Batch Accuracy:  45.3%\n",
      "Saved checkpoint.\n",
      "Global Step:  38100, Loss: 1.3577284812927246, Training Batch Accuracy:  60.9%\n",
      "Global Step:  38200, Loss: 1.3562445640563965, Training Batch Accuracy:  57.8%\n",
      "Global Step:  38300, Loss: 1.3562066555023193, Training Batch Accuracy:  53.1%\n",
      "Global Step:  38400, Loss: 1.4274089336395264, Training Batch Accuracy:  43.8%\n",
      "Global Step:  38500, Loss: 1.3713383674621582, Training Batch Accuracy:  65.6%\n",
      "Global Step:  38600, Loss: 1.7477188110351562, Training Batch Accuracy:  51.6%\n",
      "Global Step:  38700, Loss: 1.3378114700317383, Training Batch Accuracy:  64.1%\n",
      "Global Step:  38800, Loss: 1.4858696460723877, Training Batch Accuracy:  53.1%\n",
      "Global Step:  38900, Loss: 1.4515738487243652, Training Batch Accuracy:  64.1%\n",
      "Global Step:  39000, Loss: 1.288701057434082, Training Batch Accuracy:  67.2%\n",
      "Saved checkpoint.\n",
      "Global Step:  39100, Loss: 1.2647618055343628, Training Batch Accuracy:  71.9%\n",
      "Global Step:  39200, Loss: 1.5677838325500488, Training Batch Accuracy:  53.1%\n",
      "Global Step:  39300, Loss: 1.507490873336792, Training Batch Accuracy:  51.6%\n",
      "Global Step:  39400, Loss: 1.4039380550384521, Training Batch Accuracy:  60.9%\n",
      "Global Step:  39500, Loss: 1.3560407161712646, Training Batch Accuracy:  59.4%\n",
      "Global Step:  39600, Loss: 1.4907457828521729, Training Batch Accuracy:  64.1%\n",
      "Global Step:  39700, Loss: 1.3964033126831055, Training Batch Accuracy:  45.3%\n",
      "Global Step:  39800, Loss: 1.314223289489746, Training Batch Accuracy:  62.5%\n",
      "Global Step:  39900, Loss: 1.3336950540542603, Training Batch Accuracy:  57.8%\n",
      "Global Step:  40000, Loss: 1.2930541038513184, Training Batch Accuracy:  70.3%\n",
      "Saved checkpoint.\n",
      "Global Step:  40100, Loss: 1.1297791004180908, Training Batch Accuracy:  70.3%\n",
      "Global Step:  40200, Loss: 1.3623006343841553, Training Batch Accuracy:  60.9%\n",
      "Global Step:  40300, Loss: 1.4732584953308105, Training Batch Accuracy:  70.3%\n",
      "Global Step:  40400, Loss: 1.5295767784118652, Training Batch Accuracy:  57.8%\n",
      "Global Step:  40500, Loss: 1.1612428426742554, Training Batch Accuracy:  67.2%\n",
      "Global Step:  40600, Loss: 1.3459587097167969, Training Batch Accuracy:  70.3%\n",
      "Global Step:  40700, Loss: 1.3539938926696777, Training Batch Accuracy:  60.9%\n",
      "Global Step:  40800, Loss: 1.3393371105194092, Training Batch Accuracy:  68.8%\n",
      "Global Step:  40900, Loss: 1.3464257717132568, Training Batch Accuracy:  56.2%\n"
     ]
    },
    {
     "name": "stdout",
     "output_type": "stream",
     "text": [
      "Global Step:  41000, Loss: 1.5005443096160889, Training Batch Accuracy:  54.7%\n",
      "Saved checkpoint.\n",
      "Global Step:  41100, Loss: 1.374182939529419, Training Batch Accuracy:  51.6%\n",
      "Global Step:  41200, Loss: 1.6102478504180908, Training Batch Accuracy:  60.9%\n",
      "Global Step:  41300, Loss: 1.640259027481079, Training Batch Accuracy:  54.7%\n",
      "Global Step:  41400, Loss: 1.4552550315856934, Training Batch Accuracy:  60.9%\n",
      "Global Step:  41500, Loss: 1.3585573434829712, Training Batch Accuracy:  56.2%\n",
      "Global Step:  41600, Loss: 1.3939719200134277, Training Batch Accuracy:  59.4%\n",
      "Global Step:  41700, Loss: 1.3820443153381348, Training Batch Accuracy:  70.3%\n",
      "Global Step:  41800, Loss: 1.5827116966247559, Training Batch Accuracy:  57.8%\n",
      "Global Step:  41900, Loss: 1.4636588096618652, Training Batch Accuracy:  56.2%\n",
      "Global Step:  42000, Loss: 1.4336169958114624, Training Batch Accuracy:  48.4%\n",
      "Saved checkpoint.\n",
      "Global Step:  42100, Loss: 1.2246928215026855, Training Batch Accuracy:  56.2%\n",
      "Global Step:  42200, Loss: 1.4790197610855103, Training Batch Accuracy:  53.1%\n",
      "Global Step:  42300, Loss: 1.7193310260772705, Training Batch Accuracy:  53.1%\n",
      "Global Step:  42400, Loss: 1.3328536748886108, Training Batch Accuracy:  51.6%\n",
      "Global Step:  42500, Loss: 1.516808032989502, Training Batch Accuracy:  51.6%\n",
      "Global Step:  42600, Loss: 1.3149418830871582, Training Batch Accuracy:  59.4%\n",
      "Global Step:  42700, Loss: 1.395777940750122, Training Batch Accuracy:  54.7%\n",
      "Global Step:  42800, Loss: 1.195221185684204, Training Batch Accuracy:  59.4%\n",
      "Global Step:  42900, Loss: 1.4056872129440308, Training Batch Accuracy:  60.9%\n",
      "Global Step:  43000, Loss: 1.2077374458312988, Training Batch Accuracy:  67.2%\n",
      "Saved checkpoint.\n",
      "Global Step:  43100, Loss: 1.51953125, Training Batch Accuracy:  59.4%\n",
      "Global Step:  43200, Loss: 1.0996639728546143, Training Batch Accuracy:  62.5%\n",
      "Global Step:  43300, Loss: 1.291203498840332, Training Batch Accuracy:  62.5%\n",
      "Global Step:  43400, Loss: 1.5164275169372559, Training Batch Accuracy:  56.2%\n",
      "Global Step:  43500, Loss: 1.540658712387085, Training Batch Accuracy:  46.9%\n",
      "Global Step:  43600, Loss: 1.219779133796692, Training Batch Accuracy:  53.1%\n",
      "Global Step:  43700, Loss: 1.4000797271728516, Training Batch Accuracy:  62.5%\n",
      "Global Step:  43800, Loss: 1.345504641532898, Training Batch Accuracy:  60.9%\n",
      "Global Step:  43900, Loss: 1.3740957975387573, Training Batch Accuracy:  50.0%\n",
      "Global Step:  44000, Loss: 1.419692873954773, Training Batch Accuracy:  65.6%\n",
      "Saved checkpoint.\n",
      "Global Step:  44100, Loss: 1.4242563247680664, Training Batch Accuracy:  65.6%\n",
      "Global Step:  44200, Loss: 1.6133540868759155, Training Batch Accuracy:  64.1%\n",
      "Global Step:  44300, Loss: 1.2920148372650146, Training Batch Accuracy:  53.1%\n",
      "Global Step:  44400, Loss: 1.291746735572815, Training Batch Accuracy:  59.4%\n",
      "Global Step:  44500, Loss: 1.3109923601150513, Training Batch Accuracy:  65.6%\n",
      "Global Step:  44600, Loss: 1.4359533786773682, Training Batch Accuracy:  67.2%\n",
      "Global Step:  44700, Loss: 1.2664170265197754, Training Batch Accuracy:  67.2%\n",
      "Global Step:  44800, Loss: 1.140835165977478, Training Batch Accuracy:  71.9%\n",
      "Global Step:  44900, Loss: 1.5035114288330078, Training Batch Accuracy:  51.6%\n",
      "Global Step:  45000, Loss: 1.3702366352081299, Training Batch Accuracy:  51.6%\n",
      "Saved checkpoint.\n",
      "Global Step:  45100, Loss: 1.2099802494049072, Training Batch Accuracy:  59.4%\n",
      "Global Step:  45200, Loss: 1.3727750778198242, Training Batch Accuracy:  64.1%\n",
      "Global Step:  45300, Loss: 1.1763641834259033, Training Batch Accuracy:  73.4%\n",
      "Global Step:  45400, Loss: 1.4039511680603027, Training Batch Accuracy:  62.5%\n",
      "Global Step:  45500, Loss: 1.095986008644104, Training Batch Accuracy:  62.5%\n",
      "Global Step:  45600, Loss: 1.3709189891815186, Training Batch Accuracy:  64.1%\n",
      "Global Step:  45700, Loss: 1.393348217010498, Training Batch Accuracy:  53.1%\n",
      "Global Step:  45800, Loss: 1.2971274852752686, Training Batch Accuracy:  71.9%\n",
      "Global Step:  45900, Loss: 1.2391562461853027, Training Batch Accuracy:  54.7%\n",
      "Global Step:  46000, Loss: 1.5024700164794922, Training Batch Accuracy:  64.1%\n",
      "Saved checkpoint.\n",
      "Global Step:  46100, Loss: 1.3824524879455566, Training Batch Accuracy:  65.6%\n",
      "Global Step:  46200, Loss: 1.6988660097122192, Training Batch Accuracy:  51.6%\n",
      "Global Step:  46300, Loss: 1.2839937210083008, Training Batch Accuracy:  65.6%\n",
      "Global Step:  46400, Loss: 1.4520684480667114, Training Batch Accuracy:  56.2%\n",
      "Global Step:  46500, Loss: 1.5260910987854004, Training Batch Accuracy:  54.7%\n",
      "Global Step:  46600, Loss: 1.3278381824493408, Training Batch Accuracy:  53.1%\n",
      "Global Step:  46700, Loss: 1.141148328781128, Training Batch Accuracy:  70.3%\n",
      "Global Step:  46800, Loss: 1.2164366245269775, Training Batch Accuracy:  57.8%\n",
      "Global Step:  46900, Loss: 1.3050916194915771, Training Batch Accuracy:  64.1%\n",
      "Global Step:  47000, Loss: 1.178788423538208, Training Batch Accuracy:  60.9%\n",
      "Saved checkpoint.\n",
      "Global Step:  47100, Loss: 1.3504924774169922, Training Batch Accuracy:  64.1%\n",
      "Global Step:  47200, Loss: 1.4575212001800537, Training Batch Accuracy:  56.2%\n",
      "Global Step:  47300, Loss: 1.2898809909820557, Training Batch Accuracy:  59.4%\n",
      "Global Step:  47400, Loss: 1.3855295181274414, Training Batch Accuracy:  56.2%\n",
      "Global Step:  47500, Loss: 1.2061712741851807, Training Batch Accuracy:  67.2%\n",
      "Global Step:  47600, Loss: 1.5540874004364014, Training Batch Accuracy:  51.6%\n",
      "Global Step:  47700, Loss: 1.4349178075790405, Training Batch Accuracy:  56.2%\n",
      "Global Step:  47800, Loss: 1.3699884414672852, Training Batch Accuracy:  57.8%\n",
      "Global Step:  47900, Loss: 1.568892240524292, Training Batch Accuracy:  54.7%\n",
      "Global Step:  48000, Loss: 1.6432435512542725, Training Batch Accuracy:  56.2%\n",
      "Saved checkpoint.\n",
      "Global Step:  48100, Loss: 1.300050139427185, Training Batch Accuracy:  70.3%\n",
      "Global Step:  48200, Loss: 1.5102876424789429, Training Batch Accuracy:  60.9%\n",
      "Global Step:  48300, Loss: 1.2096890211105347, Training Batch Accuracy:  62.5%\n",
      "Global Step:  48400, Loss: 1.503462553024292, Training Batch Accuracy:  60.9%\n",
      "Global Step:  48500, Loss: 1.2300071716308594, Training Batch Accuracy:  64.1%\n",
      "Global Step:  48600, Loss: 0.9617208242416382, Training Batch Accuracy:  64.1%\n",
      "Global Step:  48700, Loss: 1.4567545652389526, Training Batch Accuracy:  54.7%\n",
      "Global Step:  48800, Loss: 1.351602554321289, Training Batch Accuracy:  57.8%\n",
      "Global Step:  48900, Loss: 1.1901955604553223, Training Batch Accuracy:  73.4%\n",
      "Global Step:  49000, Loss: 1.3172612190246582, Training Batch Accuracy:  57.8%\n",
      "Saved checkpoint.\n",
      "Global Step:  49100, Loss: 1.3215941190719604, Training Batch Accuracy:  60.9%\n",
      "Global Step:  49200, Loss: 1.356667160987854, Training Batch Accuracy:  67.2%\n",
      "Global Step:  49300, Loss: 1.4208860397338867, Training Batch Accuracy:  51.6%\n",
      "Global Step:  49400, Loss: 1.4542369842529297, Training Batch Accuracy:  51.6%\n",
      "Global Step:  49500, Loss: 1.370389461517334, Training Batch Accuracy:  57.8%\n",
      "Global Step:  49600, Loss: 1.5123023986816406, Training Batch Accuracy:  59.4%\n",
      "Global Step:  49700, Loss: 1.1772956848144531, Training Batch Accuracy:  60.9%\n",
      "Global Step:  49800, Loss: 1.4144201278686523, Training Batch Accuracy:  65.6%\n",
      "Global Step:  49900, Loss: 1.131006121635437, Training Batch Accuracy:  60.9%\n",
      "Global Step:  50000, Loss: 1.4048621654510498, Training Batch Accuracy:  56.2%\n",
      "Saved checkpoint.\n",
      "Global Step:  50100, Loss: 1.599766731262207, Training Batch Accuracy:  51.6%\n",
      "Global Step:  50200, Loss: 1.2806962728500366, Training Batch Accuracy:  65.6%\n",
      "Global Step:  50300, Loss: 1.3996632099151611, Training Batch Accuracy:  59.4%\n",
      "Global Step:  50400, Loss: 1.3436546325683594, Training Batch Accuracy:  51.6%\n",
      "Global Step:  50500, Loss: 1.2247600555419922, Training Batch Accuracy:  57.8%\n",
      "Global Step:  50600, Loss: 1.380962610244751, Training Batch Accuracy:  54.7%\n",
      "Global Step:  50700, Loss: 1.3269374370574951, Training Batch Accuracy:  50.0%\n",
      "Global Step:  50800, Loss: 1.2728323936462402, Training Batch Accuracy:  59.4%\n",
      "Global Step:  50900, Loss: 1.270025372505188, Training Batch Accuracy:  70.3%\n",
      "Global Step:  51000, Loss: 1.2753959894180298, Training Batch Accuracy:  67.2%\n",
      "Saved checkpoint.\n",
      "Global Step:  51100, Loss: 1.4010587930679321, Training Batch Accuracy:  53.1%\n"
     ]
    },
    {
     "name": "stdout",
     "output_type": "stream",
     "text": [
      "Global Step:  51200, Loss: 1.3018842935562134, Training Batch Accuracy:  57.8%\n",
      "Global Step:  51300, Loss: 1.3277841806411743, Training Batch Accuracy:  60.9%\n",
      "Global Step:  51400, Loss: 1.7251651287078857, Training Batch Accuracy:  59.4%\n",
      "Global Step:  51500, Loss: 1.4016814231872559, Training Batch Accuracy:  62.5%\n",
      "Global Step:  51600, Loss: 1.2255816459655762, Training Batch Accuracy:  62.5%\n",
      "Global Step:  51700, Loss: 1.4187135696411133, Training Batch Accuracy:  67.2%\n",
      "Global Step:  51800, Loss: 1.0090279579162598, Training Batch Accuracy:  68.8%\n",
      "Global Step:  51900, Loss: 1.1470507383346558, Training Batch Accuracy:  57.8%\n",
      "Global Step:  52000, Loss: 1.22599196434021, Training Batch Accuracy:  62.5%\n",
      "Saved checkpoint.\n",
      "Global Step:  52100, Loss: 1.2610666751861572, Training Batch Accuracy:  65.6%\n",
      "Global Step:  52200, Loss: 1.4741727113723755, Training Batch Accuracy:  56.2%\n",
      "Global Step:  52300, Loss: 1.4905216693878174, Training Batch Accuracy:  65.6%\n",
      "Global Step:  52400, Loss: 1.3080428838729858, Training Batch Accuracy:  62.5%\n",
      "Global Step:  52500, Loss: 1.1778199672698975, Training Batch Accuracy:  78.1%\n",
      "Global Step:  52600, Loss: 1.372331976890564, Training Batch Accuracy:  56.2%\n",
      "Global Step:  52700, Loss: 1.1649339199066162, Training Batch Accuracy:  70.3%\n",
      "Global Step:  52800, Loss: 1.3342081308364868, Training Batch Accuracy:  62.5%\n",
      "Global Step:  52900, Loss: 1.3085464239120483, Training Batch Accuracy:  65.6%\n",
      "Global Step:  53000, Loss: 1.2519557476043701, Training Batch Accuracy:  67.2%\n",
      "Saved checkpoint.\n",
      "Global Step:  53100, Loss: 1.3086729049682617, Training Batch Accuracy:  60.9%\n",
      "Global Step:  53200, Loss: 1.4231228828430176, Training Batch Accuracy:  64.1%\n",
      "Global Step:  53300, Loss: 1.659519910812378, Training Batch Accuracy:  56.2%\n",
      "Global Step:  53400, Loss: 1.340599536895752, Training Batch Accuracy:  65.6%\n",
      "Global Step:  53500, Loss: 1.3674017190933228, Training Batch Accuracy:  51.6%\n",
      "Global Step:  53600, Loss: 1.2193089723587036, Training Batch Accuracy:  67.2%\n",
      "Global Step:  53700, Loss: 1.1545878648757935, Training Batch Accuracy:  65.6%\n",
      "Global Step:  53800, Loss: 1.266037940979004, Training Batch Accuracy:  60.9%\n",
      "Global Step:  53900, Loss: 1.529671549797058, Training Batch Accuracy:  59.4%\n",
      "Global Step:  54000, Loss: 1.3987863063812256, Training Batch Accuracy:  67.2%\n",
      "Saved checkpoint.\n",
      "Global Step:  54100, Loss: 0.9093853235244751, Training Batch Accuracy:  68.8%\n",
      "Global Step:  54200, Loss: 1.429469108581543, Training Batch Accuracy:  60.9%\n",
      "Global Step:  54300, Loss: 1.296899676322937, Training Batch Accuracy:  73.4%\n",
      "Global Step:  54400, Loss: 1.3627091646194458, Training Batch Accuracy:  59.4%\n",
      "Global Step:  54500, Loss: 1.3970295190811157, Training Batch Accuracy:  64.1%\n",
      "Global Step:  54600, Loss: 1.331085443496704, Training Batch Accuracy:  62.5%\n",
      "Global Step:  54700, Loss: 1.1468199491500854, Training Batch Accuracy:  65.6%\n",
      "Global Step:  54800, Loss: 0.9100314378738403, Training Batch Accuracy:  67.2%\n",
      "Global Step:  54900, Loss: 1.0845386981964111, Training Batch Accuracy:  64.1%\n",
      "Global Step:  55000, Loss: 1.4092862606048584, Training Batch Accuracy:  62.5%\n",
      "Saved checkpoint.\n",
      "Global Step:  55100, Loss: 1.2307517528533936, Training Batch Accuracy:  64.1%\n",
      "Global Step:  55200, Loss: 1.2481427192687988, Training Batch Accuracy:  62.5%\n",
      "Global Step:  55300, Loss: 1.5089333057403564, Training Batch Accuracy:  53.1%\n",
      "Global Step:  55400, Loss: 1.2871959209442139, Training Batch Accuracy:  54.7%\n",
      "Global Step:  55500, Loss: 1.4575175046920776, Training Batch Accuracy:  60.9%\n",
      "Global Step:  55600, Loss: 1.3277994394302368, Training Batch Accuracy:  50.0%\n",
      "Global Step:  55700, Loss: 1.348741054534912, Training Batch Accuracy:  53.1%\n",
      "Global Step:  55800, Loss: 1.4562547206878662, Training Batch Accuracy:  57.8%\n",
      "Global Step:  55900, Loss: 1.282470941543579, Training Batch Accuracy:  64.1%\n",
      "Global Step:  56000, Loss: 1.0247399806976318, Training Batch Accuracy:  67.2%\n",
      "Saved checkpoint.\n",
      "Global Step:  56100, Loss: 1.4390811920166016, Training Batch Accuracy:  59.4%\n",
      "Global Step:  56200, Loss: 1.3768280744552612, Training Batch Accuracy:  64.1%\n",
      "Global Step:  56300, Loss: 1.3025426864624023, Training Batch Accuracy:  65.6%\n",
      "Global Step:  56400, Loss: 1.2518547773361206, Training Batch Accuracy:  65.6%\n",
      "Global Step:  56500, Loss: 1.446050763130188, Training Batch Accuracy:  64.1%\n",
      "Global Step:  56600, Loss: 1.478108286857605, Training Batch Accuracy:  57.8%\n",
      "Global Step:  56700, Loss: 1.5416479110717773, Training Batch Accuracy:  60.9%\n",
      "Global Step:  56800, Loss: 1.412156105041504, Training Batch Accuracy:  60.9%\n",
      "Global Step:  56900, Loss: 1.331505298614502, Training Batch Accuracy:  79.7%\n",
      "Global Step:  57000, Loss: 1.2702269554138184, Training Batch Accuracy:  71.9%\n",
      "Saved checkpoint.\n",
      "Global Step:  57100, Loss: 1.3396174907684326, Training Batch Accuracy:  67.2%\n",
      "Global Step:  57200, Loss: 1.3111908435821533, Training Batch Accuracy:  70.3%\n",
      "Global Step:  57300, Loss: 1.4992643594741821, Training Batch Accuracy:  60.9%\n",
      "Global Step:  57400, Loss: 1.011423110961914, Training Batch Accuracy:  70.3%\n",
      "Global Step:  57500, Loss: 1.4531816244125366, Training Batch Accuracy:  62.5%\n",
      "Global Step:  57600, Loss: 1.3824472427368164, Training Batch Accuracy:  59.4%\n",
      "Global Step:  57700, Loss: 1.1951513290405273, Training Batch Accuracy:  68.8%\n",
      "Global Step:  57800, Loss: 1.3540513515472412, Training Batch Accuracy:  62.5%\n",
      "Global Step:  57900, Loss: 1.2333242893218994, Training Batch Accuracy:  59.4%\n",
      "Global Step:  58000, Loss: 1.451650857925415, Training Batch Accuracy:  68.8%\n",
      "Saved checkpoint.\n",
      "Global Step:  58100, Loss: 1.4381394386291504, Training Batch Accuracy:  67.2%\n",
      "Global Step:  58200, Loss: 1.3657011985778809, Training Batch Accuracy:  65.6%\n",
      "Global Step:  58300, Loss: 1.2166619300842285, Training Batch Accuracy:  70.3%\n",
      "Global Step:  58400, Loss: 1.2468125820159912, Training Batch Accuracy:  65.6%\n",
      "Global Step:  58500, Loss: 1.2220081090927124, Training Batch Accuracy:  67.2%\n",
      "Global Step:  58600, Loss: 1.2285070419311523, Training Batch Accuracy:  56.2%\n",
      "Global Step:  58700, Loss: 1.2823978662490845, Training Batch Accuracy:  62.5%\n",
      "Global Step:  58800, Loss: 1.072981595993042, Training Batch Accuracy:  75.0%\n",
      "Global Step:  58900, Loss: 1.185436487197876, Training Batch Accuracy:  59.4%\n",
      "Global Step:  59000, Loss: 1.5235978364944458, Training Batch Accuracy:  57.8%\n",
      "Saved checkpoint.\n",
      "Global Step:  59100, Loss: 1.1841416358947754, Training Batch Accuracy:  75.0%\n",
      "Global Step:  59200, Loss: 1.2934255599975586, Training Batch Accuracy:  67.2%\n",
      "Global Step:  59300, Loss: 1.1099677085876465, Training Batch Accuracy:  68.8%\n",
      "Global Step:  59400, Loss: 1.2792532444000244, Training Batch Accuracy:  64.1%\n",
      "Global Step:  59500, Loss: 1.4710063934326172, Training Batch Accuracy:  67.2%\n",
      "Global Step:  59600, Loss: 1.3870292901992798, Training Batch Accuracy:  60.9%\n",
      "Global Step:  59700, Loss: 1.4091486930847168, Training Batch Accuracy:  48.4%\n",
      "Global Step:  59800, Loss: 1.1612036228179932, Training Batch Accuracy:  64.1%\n",
      "Global Step:  59900, Loss: 1.2628010511398315, Training Batch Accuracy:  59.4%\n",
      "Global Step:  60000, Loss: 1.318554401397705, Training Batch Accuracy:  56.2%\n",
      "Saved checkpoint.\n",
      "Global Step:  60100, Loss: 1.3431247472763062, Training Batch Accuracy:  60.9%\n",
      "Global Step:  60200, Loss: 1.1698083877563477, Training Batch Accuracy:  71.9%\n",
      "Global Step:  60300, Loss: 1.5991766452789307, Training Batch Accuracy:  48.4%\n",
      "Global Step:  60400, Loss: 1.146277666091919, Training Batch Accuracy:  62.5%\n",
      "Global Step:  60500, Loss: 1.5578099489212036, Training Batch Accuracy:  48.4%\n",
      "Global Step:  60600, Loss: 1.048653483390808, Training Batch Accuracy:  67.2%\n",
      "Global Step:  60700, Loss: 1.4041099548339844, Training Batch Accuracy:  60.9%\n",
      "Global Step:  60800, Loss: 1.4504814147949219, Training Batch Accuracy:  57.8%\n",
      "Global Step:  60900, Loss: 1.3046739101409912, Training Batch Accuracy:  65.6%\n",
      "Global Step:  61000, Loss: 1.2472470998764038, Training Batch Accuracy:  62.5%\n",
      "Saved checkpoint.\n",
      "Global Step:  61100, Loss: 1.173445701599121, Training Batch Accuracy:  64.1%\n",
      "Global Step:  61200, Loss: 1.2128829956054688, Training Batch Accuracy:  65.6%\n",
      "Global Step:  61300, Loss: 1.4475712776184082, Training Batch Accuracy:  54.7%\n"
     ]
    },
    {
     "name": "stdout",
     "output_type": "stream",
     "text": [
      "Global Step:  61400, Loss: 0.9313820004463196, Training Batch Accuracy:  62.5%\n",
      "Global Step:  61500, Loss: 1.3569414615631104, Training Batch Accuracy:  53.1%\n",
      "Global Step:  61600, Loss: 1.377884030342102, Training Batch Accuracy:  62.5%\n",
      "Global Step:  61700, Loss: 1.1504579782485962, Training Batch Accuracy:  60.9%\n",
      "Global Step:  61800, Loss: 1.0066187381744385, Training Batch Accuracy:  75.0%\n",
      "Global Step:  61900, Loss: 1.2351593971252441, Training Batch Accuracy:  71.9%\n",
      "Global Step:  62000, Loss: 1.4992362260818481, Training Batch Accuracy:  60.9%\n",
      "Saved checkpoint.\n",
      "Global Step:  62100, Loss: 1.350391149520874, Training Batch Accuracy:  64.1%\n",
      "Global Step:  62200, Loss: 1.106531023979187, Training Batch Accuracy:  62.5%\n",
      "Global Step:  62300, Loss: 1.281314730644226, Training Batch Accuracy:  60.9%\n",
      "Global Step:  62400, Loss: 1.442614197731018, Training Batch Accuracy:  62.5%\n",
      "Global Step:  62500, Loss: 1.4285540580749512, Training Batch Accuracy:  57.8%\n",
      "Global Step:  62600, Loss: 1.50685715675354, Training Batch Accuracy:  50.0%\n",
      "Global Step:  62700, Loss: 1.2955700159072876, Training Batch Accuracy:  60.9%\n",
      "Global Step:  62800, Loss: 1.1264805793762207, Training Batch Accuracy:  64.1%\n",
      "Global Step:  62900, Loss: 1.4403917789459229, Training Batch Accuracy:  57.8%\n",
      "Global Step:  63000, Loss: 1.2947361469268799, Training Batch Accuracy:  57.8%\n",
      "Saved checkpoint.\n",
      "Global Step:  63100, Loss: 1.1340014934539795, Training Batch Accuracy:  67.2%\n",
      "Global Step:  63200, Loss: 1.538496732711792, Training Batch Accuracy:  57.8%\n",
      "Global Step:  63300, Loss: 1.1959760189056396, Training Batch Accuracy:  62.5%\n",
      "Global Step:  63400, Loss: 1.095421552658081, Training Batch Accuracy:  73.4%\n",
      "Global Step:  63500, Loss: 0.976478099822998, Training Batch Accuracy:  79.7%\n",
      "Global Step:  63600, Loss: 1.241755485534668, Training Batch Accuracy:  68.8%\n",
      "Global Step:  63700, Loss: 0.9896841645240784, Training Batch Accuracy:  67.2%\n",
      "Global Step:  63800, Loss: 1.2211387157440186, Training Batch Accuracy:  65.6%\n",
      "Global Step:  63900, Loss: 1.1135321855545044, Training Batch Accuracy:  76.6%\n",
      "Global Step:  64000, Loss: 1.385973334312439, Training Batch Accuracy:  62.5%\n",
      "Saved checkpoint.\n",
      "Global Step:  64100, Loss: 1.2733949422836304, Training Batch Accuracy:  64.1%\n",
      "Global Step:  64200, Loss: 1.171320915222168, Training Batch Accuracy:  70.3%\n",
      "Global Step:  64300, Loss: 1.32594633102417, Training Batch Accuracy:  65.6%\n",
      "Global Step:  64400, Loss: 1.3787117004394531, Training Batch Accuracy:  53.1%\n",
      "Global Step:  64500, Loss: 1.1612317562103271, Training Batch Accuracy:  65.6%\n",
      "Global Step:  64600, Loss: 1.24508535861969, Training Batch Accuracy:  54.7%\n",
      "Global Step:  64700, Loss: 1.282104730606079, Training Batch Accuracy:  65.6%\n",
      "Global Step:  64800, Loss: 1.3539255857467651, Training Batch Accuracy:  60.9%\n",
      "Global Step:  64900, Loss: 1.2555358409881592, Training Batch Accuracy:  59.4%\n",
      "Global Step:  65000, Loss: 1.284790277481079, Training Batch Accuracy:  54.7%\n",
      "Saved checkpoint.\n",
      "Global Step:  65100, Loss: 1.2573808431625366, Training Batch Accuracy:  64.1%\n",
      "Global Step:  65200, Loss: 1.0377801656723022, Training Batch Accuracy:  62.5%\n",
      "Global Step:  65300, Loss: 1.1476006507873535, Training Batch Accuracy:  71.9%\n",
      "Global Step:  65400, Loss: 0.9786896705627441, Training Batch Accuracy:  64.1%\n",
      "Global Step:  65500, Loss: 1.281686782836914, Training Batch Accuracy:  62.5%\n",
      "Global Step:  65600, Loss: 1.176336407661438, Training Batch Accuracy:  70.3%\n",
      "Global Step:  65700, Loss: 1.1881725788116455, Training Batch Accuracy:  75.0%\n",
      "Global Step:  65800, Loss: 1.3334112167358398, Training Batch Accuracy:  67.2%\n",
      "Global Step:  65900, Loss: 1.4312689304351807, Training Batch Accuracy:  56.2%\n",
      "Global Step:  66000, Loss: 1.2917312383651733, Training Batch Accuracy:  51.6%\n",
      "Saved checkpoint.\n",
      "Global Step:  66100, Loss: 1.0721731185913086, Training Batch Accuracy:  68.8%\n",
      "Global Step:  66200, Loss: 1.0910158157348633, Training Batch Accuracy:  75.0%\n",
      "Global Step:  66300, Loss: 1.3841122388839722, Training Batch Accuracy:  59.4%\n",
      "Global Step:  66400, Loss: 1.075026035308838, Training Batch Accuracy:  67.2%\n",
      "Global Step:  66500, Loss: 1.4074437618255615, Training Batch Accuracy:  67.2%\n",
      "Global Step:  66600, Loss: 1.0612008571624756, Training Batch Accuracy:  73.4%\n",
      "Global Step:  66700, Loss: 1.2969248294830322, Training Batch Accuracy:  60.9%\n",
      "Global Step:  66800, Loss: 1.3422942161560059, Training Batch Accuracy:  59.4%\n",
      "Global Step:  66900, Loss: 1.3787705898284912, Training Batch Accuracy:  64.1%\n",
      "Global Step:  67000, Loss: 1.056635856628418, Training Batch Accuracy:  67.2%\n",
      "Saved checkpoint.\n",
      "Global Step:  67100, Loss: 1.1750565767288208, Training Batch Accuracy:  60.9%\n",
      "Global Step:  67200, Loss: 1.2031828165054321, Training Batch Accuracy:  62.5%\n",
      "Global Step:  67300, Loss: 1.4139574766159058, Training Batch Accuracy:  59.4%\n",
      "Global Step:  67400, Loss: 1.4399324655532837, Training Batch Accuracy:  64.1%\n",
      "Global Step:  67500, Loss: 1.0361371040344238, Training Batch Accuracy:  68.8%\n",
      "Global Step:  67600, Loss: 1.0426437854766846, Training Batch Accuracy:  67.2%\n",
      "Global Step:  67700, Loss: 0.925423264503479, Training Batch Accuracy:  71.9%\n",
      "Global Step:  67800, Loss: 1.026235818862915, Training Batch Accuracy:  67.2%\n",
      "Global Step:  67900, Loss: 1.1217873096466064, Training Batch Accuracy:  67.2%\n",
      "Global Step:  68000, Loss: 1.4099276065826416, Training Batch Accuracy:  64.1%\n",
      "Saved checkpoint.\n",
      "Global Step:  68100, Loss: 1.2849316596984863, Training Batch Accuracy:  64.1%\n",
      "Global Step:  68200, Loss: 1.4787890911102295, Training Batch Accuracy:  62.5%\n",
      "Global Step:  68300, Loss: 1.1700248718261719, Training Batch Accuracy:  67.2%\n",
      "Global Step:  68400, Loss: 1.2540614604949951, Training Batch Accuracy:  60.9%\n",
      "Global Step:  68500, Loss: 1.0792210102081299, Training Batch Accuracy:  71.9%\n",
      "Global Step:  68600, Loss: 1.515224814414978, Training Batch Accuracy:  57.8%\n",
      "Global Step:  68700, Loss: 1.3690557479858398, Training Batch Accuracy:  65.6%\n",
      "Global Step:  68800, Loss: 1.3007926940917969, Training Batch Accuracy:  71.9%\n",
      "Global Step:  68900, Loss: 1.1603635549545288, Training Batch Accuracy:  65.6%\n",
      "Global Step:  69000, Loss: 1.1628036499023438, Training Batch Accuracy:  73.4%\n",
      "Saved checkpoint.\n",
      "Global Step:  69100, Loss: 1.3939446210861206, Training Batch Accuracy:  70.3%\n",
      "Global Step:  69200, Loss: 1.1899566650390625, Training Batch Accuracy:  70.3%\n",
      "Global Step:  69300, Loss: 1.1571146249771118, Training Batch Accuracy:  60.9%\n",
      "Global Step:  69400, Loss: 1.0495150089263916, Training Batch Accuracy:  70.3%\n",
      "Global Step:  69500, Loss: 1.0383317470550537, Training Batch Accuracy:  68.8%\n",
      "Global Step:  69600, Loss: 1.3811488151550293, Training Batch Accuracy:  67.2%\n",
      "Global Step:  69700, Loss: 1.235480785369873, Training Batch Accuracy:  64.1%\n",
      "Global Step:  69800, Loss: 1.3680238723754883, Training Batch Accuracy:  60.9%\n",
      "Global Step:  69900, Loss: 1.3740819692611694, Training Batch Accuracy:  73.4%\n",
      "Global Step:  70000, Loss: 1.4070494174957275, Training Batch Accuracy:  67.2%\n",
      "Saved checkpoint.\n",
      "Global Step:  70100, Loss: 1.071040391921997, Training Batch Accuracy:  71.9%\n",
      "Global Step:  70200, Loss: 1.1457505226135254, Training Batch Accuracy:  67.2%\n",
      "Global Step:  70300, Loss: 1.3035540580749512, Training Batch Accuracy:  78.1%\n",
      "Global Step:  70400, Loss: 1.1208763122558594, Training Batch Accuracy:  73.4%\n",
      "Global Step:  70500, Loss: 0.8771395683288574, Training Batch Accuracy:  78.1%\n",
      "Global Step:  70600, Loss: 1.0965220928192139, Training Batch Accuracy:  57.8%\n",
      "Global Step:  70700, Loss: 1.327613115310669, Training Batch Accuracy:  65.6%\n",
      "Global Step:  70800, Loss: 1.290635585784912, Training Batch Accuracy:  73.4%\n",
      "Global Step:  70900, Loss: 1.4184480905532837, Training Batch Accuracy:  62.5%\n",
      "Global Step:  71000, Loss: 1.0280323028564453, Training Batch Accuracy:  67.2%\n",
      "Saved checkpoint.\n",
      "Global Step:  71100, Loss: 1.0598946809768677, Training Batch Accuracy:  70.3%\n",
      "Global Step:  71200, Loss: 1.0803061723709106, Training Batch Accuracy:  67.2%\n",
      "Global Step:  71300, Loss: 1.4061199426651, Training Batch Accuracy:  57.8%\n",
      "Global Step:  71400, Loss: 1.070115089416504, Training Batch Accuracy:  62.5%\n",
      "Global Step:  71500, Loss: 1.0951966047286987, Training Batch Accuracy:  65.6%\n"
     ]
    },
    {
     "name": "stdout",
     "output_type": "stream",
     "text": [
      "Global Step:  71600, Loss: 1.0353281497955322, Training Batch Accuracy:  71.9%\n",
      "Global Step:  71700, Loss: 1.2165127992630005, Training Batch Accuracy:  65.6%\n",
      "Global Step:  71800, Loss: 1.4796022176742554, Training Batch Accuracy:  64.1%\n",
      "Global Step:  71900, Loss: 0.9878029823303223, Training Batch Accuracy:  64.1%\n",
      "Global Step:  72000, Loss: 1.557152509689331, Training Batch Accuracy:  59.4%\n",
      "Saved checkpoint.\n",
      "Global Step:  72100, Loss: 1.0716347694396973, Training Batch Accuracy:  68.8%\n",
      "Global Step:  72200, Loss: 1.1982216835021973, Training Batch Accuracy:  75.0%\n",
      "Global Step:  72300, Loss: 1.3628413677215576, Training Batch Accuracy:  64.1%\n",
      "Global Step:  72400, Loss: 1.4363746643066406, Training Batch Accuracy:  64.1%\n",
      "Global Step:  72500, Loss: 1.075578212738037, Training Batch Accuracy:  68.8%\n",
      "Global Step:  72600, Loss: 1.0663825273513794, Training Batch Accuracy:  64.1%\n",
      "Global Step:  72700, Loss: 1.377724528312683, Training Batch Accuracy:  64.1%\n",
      "Global Step:  72800, Loss: 1.1628047227859497, Training Batch Accuracy:  64.1%\n",
      "Global Step:  72900, Loss: 1.3644893169403076, Training Batch Accuracy:  70.3%\n",
      "Global Step:  73000, Loss: 1.33208429813385, Training Batch Accuracy:  62.5%\n",
      "Saved checkpoint.\n",
      "Global Step:  73100, Loss: 1.358072280883789, Training Batch Accuracy:  65.6%\n",
      "Global Step:  73200, Loss: 1.0149164199829102, Training Batch Accuracy:  75.0%\n",
      "Global Step:  73300, Loss: 1.0081758499145508, Training Batch Accuracy:  70.3%\n",
      "Global Step:  73400, Loss: 0.9710599184036255, Training Batch Accuracy:  73.4%\n",
      "Global Step:  73500, Loss: 1.171708345413208, Training Batch Accuracy:  71.9%\n",
      "Global Step:  73600, Loss: 1.2626447677612305, Training Batch Accuracy:  65.6%\n",
      "Global Step:  73700, Loss: 1.209507703781128, Training Batch Accuracy:  62.5%\n",
      "Global Step:  73800, Loss: 0.9981787204742432, Training Batch Accuracy:  68.8%\n",
      "Global Step:  73900, Loss: 1.0430030822753906, Training Batch Accuracy:  70.3%\n",
      "Global Step:  74000, Loss: 1.227156162261963, Training Batch Accuracy:  59.4%\n",
      "Saved checkpoint.\n",
      "Global Step:  74100, Loss: 1.4048430919647217, Training Batch Accuracy:  60.9%\n",
      "Global Step:  74200, Loss: 1.1985795497894287, Training Batch Accuracy:  68.8%\n",
      "Global Step:  74300, Loss: 1.163968563079834, Training Batch Accuracy:  59.4%\n",
      "Global Step:  74400, Loss: 1.3150399923324585, Training Batch Accuracy:  62.5%\n",
      "Global Step:  74500, Loss: 0.9934953451156616, Training Batch Accuracy:  67.2%\n",
      "Global Step:  74600, Loss: 1.2298128604888916, Training Batch Accuracy:  70.3%\n",
      "Global Step:  74700, Loss: 1.288591742515564, Training Batch Accuracy:  75.0%\n",
      "Global Step:  74800, Loss: 1.5812327861785889, Training Batch Accuracy:  59.4%\n",
      "Global Step:  74900, Loss: 1.429565668106079, Training Batch Accuracy:  64.1%\n",
      "Global Step:  75000, Loss: 1.1428558826446533, Training Batch Accuracy:  81.2%\n",
      "Saved checkpoint.\n",
      "Global Step:  75100, Loss: 1.3016223907470703, Training Batch Accuracy:  67.2%\n",
      "Global Step:  75200, Loss: 1.0759930610656738, Training Batch Accuracy:  70.3%\n",
      "Global Step:  75300, Loss: 1.0315550565719604, Training Batch Accuracy:  73.4%\n",
      "Global Step:  75400, Loss: 1.261551856994629, Training Batch Accuracy:  59.4%\n",
      "Global Step:  75500, Loss: 1.0140390396118164, Training Batch Accuracy:  81.2%\n",
      "Global Step:  75600, Loss: 1.065873622894287, Training Batch Accuracy:  75.0%\n",
      "Global Step:  75700, Loss: 1.1835589408874512, Training Batch Accuracy:  60.9%\n",
      "Global Step:  75800, Loss: 1.5504043102264404, Training Batch Accuracy:  56.2%\n",
      "Global Step:  75900, Loss: 1.2373864650726318, Training Batch Accuracy:  62.5%\n",
      "Global Step:  76000, Loss: 1.043344259262085, Training Batch Accuracy:  71.9%\n",
      "Saved checkpoint.\n",
      "Global Step:  76100, Loss: 1.4365994930267334, Training Batch Accuracy:  65.6%\n",
      "Global Step:  76200, Loss: 1.474571943283081, Training Batch Accuracy:  57.8%\n",
      "Global Step:  76300, Loss: 1.043525218963623, Training Batch Accuracy:  73.4%\n",
      "Global Step:  76400, Loss: 1.2816600799560547, Training Batch Accuracy:  67.2%\n",
      "Global Step:  76500, Loss: 1.099179744720459, Training Batch Accuracy:  68.8%\n",
      "Global Step:  76600, Loss: 1.093522071838379, Training Batch Accuracy:  59.4%\n",
      "Global Step:  76700, Loss: 1.3438513278961182, Training Batch Accuracy:  60.9%\n",
      "Global Step:  76800, Loss: 0.9678618907928467, Training Batch Accuracy:  65.6%\n",
      "Global Step:  76900, Loss: 0.9705935120582581, Training Batch Accuracy:  73.4%\n",
      "Global Step:  77000, Loss: 1.2321436405181885, Training Batch Accuracy:  70.3%\n",
      "Saved checkpoint.\n",
      "Global Step:  77100, Loss: 1.304987907409668, Training Batch Accuracy:  62.5%\n",
      "Global Step:  77200, Loss: 1.010237216949463, Training Batch Accuracy:  76.6%\n",
      "Global Step:  77300, Loss: 1.094773530960083, Training Batch Accuracy:  67.2%\n",
      "Global Step:  77400, Loss: 1.5608248710632324, Training Batch Accuracy:  67.2%\n",
      "Global Step:  77500, Loss: 1.2588624954223633, Training Batch Accuracy:  62.5%\n",
      "Global Step:  77600, Loss: 1.1563050746917725, Training Batch Accuracy:  65.6%\n",
      "Global Step:  77700, Loss: 1.1593692302703857, Training Batch Accuracy:  62.5%\n",
      "Global Step:  77800, Loss: 1.0644023418426514, Training Batch Accuracy:  60.9%\n",
      "Global Step:  77900, Loss: 1.2586736679077148, Training Batch Accuracy:  70.3%\n",
      "Global Step:  78000, Loss: 1.1234827041625977, Training Batch Accuracy:  71.9%\n",
      "Saved checkpoint.\n",
      "Global Step:  78100, Loss: 1.213680386543274, Training Batch Accuracy:  73.4%\n",
      "Global Step:  78200, Loss: 1.1616013050079346, Training Batch Accuracy:  64.1%\n",
      "Global Step:  78300, Loss: 1.224007248878479, Training Batch Accuracy:  73.4%\n",
      "Global Step:  78400, Loss: 1.179487705230713, Training Batch Accuracy:  70.3%\n",
      "Global Step:  78500, Loss: 1.2544183731079102, Training Batch Accuracy:  56.2%\n",
      "Global Step:  78600, Loss: 1.1878503561019897, Training Batch Accuracy:  65.6%\n",
      "Global Step:  78700, Loss: 1.4037258625030518, Training Batch Accuracy:  64.1%\n",
      "Global Step:  78800, Loss: 1.2265262603759766, Training Batch Accuracy:  73.4%\n",
      "Global Step:  78900, Loss: 1.1741503477096558, Training Batch Accuracy:  67.2%\n",
      "Global Step:  79000, Loss: 1.2359471321105957, Training Batch Accuracy:  65.6%\n",
      "Saved checkpoint.\n",
      "Global Step:  79100, Loss: 0.9542322158813477, Training Batch Accuracy:  75.0%\n",
      "Global Step:  79200, Loss: 1.002021312713623, Training Batch Accuracy:  76.6%\n",
      "Global Step:  79300, Loss: 1.0088926553726196, Training Batch Accuracy:  68.8%\n",
      "Global Step:  79400, Loss: 1.1338292360305786, Training Batch Accuracy:  70.3%\n",
      "Global Step:  79500, Loss: 0.9887377619743347, Training Batch Accuracy:  75.0%\n",
      "Global Step:  79600, Loss: 1.2198832035064697, Training Batch Accuracy:  65.6%\n",
      "Global Step:  79700, Loss: 1.1236695051193237, Training Batch Accuracy:  73.4%\n",
      "Global Step:  79800, Loss: 1.2089223861694336, Training Batch Accuracy:  65.6%\n",
      "Global Step:  79900, Loss: 1.1910059452056885, Training Batch Accuracy:  56.2%\n",
      "Global Step:  80000, Loss: 1.2494444847106934, Training Batch Accuracy:  67.2%\n",
      "Saved checkpoint.\n",
      "Global Step:  80100, Loss: 1.097032070159912, Training Batch Accuracy:  73.4%\n",
      "Global Step:  80200, Loss: 1.2370643615722656, Training Batch Accuracy:  70.3%\n",
      "Global Step:  80300, Loss: 1.2948695421218872, Training Batch Accuracy:  62.5%\n",
      "Global Step:  80400, Loss: 1.3240795135498047, Training Batch Accuracy:  59.4%\n",
      "Global Step:  80500, Loss: 1.1551175117492676, Training Batch Accuracy:  76.6%\n",
      "Global Step:  80600, Loss: 1.0172014236450195, Training Batch Accuracy:  60.9%\n",
      "Global Step:  80700, Loss: 1.269708514213562, Training Batch Accuracy:  62.5%\n",
      "Global Step:  80800, Loss: 0.9702799916267395, Training Batch Accuracy:  56.2%\n",
      "Global Step:  80900, Loss: 0.9776694774627686, Training Batch Accuracy:  71.9%\n",
      "Global Step:  81000, Loss: 1.0251049995422363, Training Batch Accuracy:  65.6%\n",
      "Saved checkpoint.\n",
      "Global Step:  81100, Loss: 1.1594973802566528, Training Batch Accuracy:  60.9%\n",
      "Global Step:  81200, Loss: 1.0950888395309448, Training Batch Accuracy:  75.0%\n",
      "Global Step:  81300, Loss: 1.0405219793319702, Training Batch Accuracy:  67.2%\n",
      "Global Step:  81400, Loss: 1.08107328414917, Training Batch Accuracy:  78.1%\n",
      "Global Step:  81500, Loss: 1.168302059173584, Training Batch Accuracy:  64.1%\n",
      "Global Step:  81600, Loss: 1.1363427639007568, Training Batch Accuracy:  70.3%\n",
      "Global Step:  81700, Loss: 1.1278326511383057, Training Batch Accuracy:  70.3%\n"
     ]
    },
    {
     "name": "stdout",
     "output_type": "stream",
     "text": [
      "Global Step:  81800, Loss: 1.2272834777832031, Training Batch Accuracy:  64.1%\n",
      "Global Step:  81900, Loss: 1.1570003032684326, Training Batch Accuracy:  65.6%\n",
      "Global Step:  82000, Loss: 1.1061439514160156, Training Batch Accuracy:  67.2%\n",
      "Saved checkpoint.\n",
      "Global Step:  82100, Loss: 1.1020946502685547, Training Batch Accuracy:  71.9%\n",
      "Global Step:  82200, Loss: 1.2880663871765137, Training Batch Accuracy:  64.1%\n",
      "Global Step:  82300, Loss: 1.242372989654541, Training Batch Accuracy:  62.5%\n",
      "Global Step:  82400, Loss: 1.0389262437820435, Training Batch Accuracy:  68.8%\n",
      "Global Step:  82500, Loss: 1.1331634521484375, Training Batch Accuracy:  82.8%\n",
      "Global Step:  82600, Loss: 0.9368218183517456, Training Batch Accuracy:  62.5%\n",
      "Global Step:  82700, Loss: 1.1571824550628662, Training Batch Accuracy:  67.2%\n",
      "Global Step:  82800, Loss: 1.019932508468628, Training Batch Accuracy:  64.1%\n",
      "Global Step:  82900, Loss: 0.9298175573348999, Training Batch Accuracy:  68.8%\n",
      "Global Step:  83000, Loss: 1.0018705129623413, Training Batch Accuracy:  68.8%\n",
      "Saved checkpoint.\n",
      "Global Step:  83100, Loss: 0.895632803440094, Training Batch Accuracy:  75.0%\n",
      "Global Step:  83200, Loss: 0.9627596735954285, Training Batch Accuracy:  76.6%\n",
      "Global Step:  83300, Loss: 1.0375934839248657, Training Batch Accuracy:  68.8%\n",
      "Global Step:  83400, Loss: 0.7848384380340576, Training Batch Accuracy:  81.2%\n",
      "Global Step:  83500, Loss: 1.025066614151001, Training Batch Accuracy:  71.9%\n",
      "Global Step:  83600, Loss: 1.2148003578186035, Training Batch Accuracy:  62.5%\n",
      "Global Step:  83700, Loss: 0.8778517842292786, Training Batch Accuracy:  71.9%\n",
      "Global Step:  83800, Loss: 1.0549969673156738, Training Batch Accuracy:  68.8%\n",
      "Global Step:  83900, Loss: 0.9915424585342407, Training Batch Accuracy:  68.8%\n",
      "Global Step:  84000, Loss: 1.1503870487213135, Training Batch Accuracy:  64.1%\n",
      "Saved checkpoint.\n",
      "Global Step:  84100, Loss: 1.206141471862793, Training Batch Accuracy:  68.8%\n",
      "Global Step:  84200, Loss: 1.1215953826904297, Training Batch Accuracy:  67.2%\n",
      "Global Step:  84300, Loss: 1.0049333572387695, Training Batch Accuracy:  70.3%\n",
      "Global Step:  84400, Loss: 1.0376603603363037, Training Batch Accuracy:  68.8%\n",
      "Global Step:  84500, Loss: 1.1765236854553223, Training Batch Accuracy:  75.0%\n",
      "Global Step:  84600, Loss: 1.33590829372406, Training Batch Accuracy:  67.2%\n",
      "Global Step:  84700, Loss: 1.3522766828536987, Training Batch Accuracy:  60.9%\n",
      "Global Step:  84800, Loss: 1.2740281820297241, Training Batch Accuracy:  60.9%\n",
      "Global Step:  84900, Loss: 0.9259913563728333, Training Batch Accuracy:  76.6%\n",
      "Global Step:  85000, Loss: 1.230100154876709, Training Batch Accuracy:  67.2%\n",
      "Saved checkpoint.\n",
      "Global Step:  85100, Loss: 1.0685031414031982, Training Batch Accuracy:  71.9%\n",
      "Global Step:  85200, Loss: 1.2155163288116455, Training Batch Accuracy:  70.3%\n",
      "Global Step:  85300, Loss: 1.4144783020019531, Training Batch Accuracy:  65.6%\n",
      "Global Step:  85400, Loss: 0.9961197972297668, Training Batch Accuracy:  65.6%\n",
      "Global Step:  85500, Loss: 0.8693828582763672, Training Batch Accuracy:  75.0%\n",
      "Global Step:  85600, Loss: 1.145794153213501, Training Batch Accuracy:  54.7%\n",
      "Global Step:  85700, Loss: 1.0537976026535034, Training Batch Accuracy:  71.9%\n",
      "Global Step:  85800, Loss: 1.1802692413330078, Training Batch Accuracy:  68.8%\n",
      "Global Step:  85900, Loss: 0.9035269021987915, Training Batch Accuracy:  71.9%\n",
      "Global Step:  86000, Loss: 1.087631344795227, Training Batch Accuracy:  67.2%\n",
      "Saved checkpoint.\n",
      "Global Step:  86100, Loss: 1.3582658767700195, Training Batch Accuracy:  57.8%\n",
      "Global Step:  86200, Loss: 1.0899717807769775, Training Batch Accuracy:  76.6%\n",
      "Global Step:  86300, Loss: 0.9526097178459167, Training Batch Accuracy:  71.9%\n",
      "Global Step:  86400, Loss: 1.1581971645355225, Training Batch Accuracy:  54.7%\n",
      "Global Step:  86500, Loss: 1.1310639381408691, Training Batch Accuracy:  71.9%\n",
      "Global Step:  86600, Loss: 1.0649794340133667, Training Batch Accuracy:  78.1%\n",
      "Global Step:  86700, Loss: 1.0990136861801147, Training Batch Accuracy:  71.9%\n",
      "Global Step:  86800, Loss: 0.8988965749740601, Training Batch Accuracy:  76.6%\n",
      "Global Step:  86900, Loss: 1.298100233078003, Training Batch Accuracy:  70.3%\n",
      "Global Step:  87000, Loss: 0.886228084564209, Training Batch Accuracy:  70.3%\n",
      "Saved checkpoint.\n",
      "Global Step:  87100, Loss: 1.1496577262878418, Training Batch Accuracy:  65.6%\n",
      "Global Step:  87200, Loss: 1.1074633598327637, Training Batch Accuracy:  71.9%\n",
      "Global Step:  87300, Loss: 0.9655529856681824, Training Batch Accuracy:  70.3%\n",
      "Global Step:  87400, Loss: 1.201380968093872, Training Batch Accuracy:  62.5%\n",
      "Global Step:  87500, Loss: 0.8867610692977905, Training Batch Accuracy:  82.8%\n",
      "Global Step:  87600, Loss: 1.2655370235443115, Training Batch Accuracy:  75.0%\n",
      "Global Step:  87700, Loss: 1.1670417785644531, Training Batch Accuracy:  70.3%\n",
      "Global Step:  87800, Loss: 1.1767311096191406, Training Batch Accuracy:  71.9%\n",
      "Global Step:  87900, Loss: 1.0870802402496338, Training Batch Accuracy:  76.6%\n",
      "Global Step:  88000, Loss: 1.3799686431884766, Training Batch Accuracy:  56.2%\n",
      "Saved checkpoint.\n",
      "Global Step:  88100, Loss: 1.1933238506317139, Training Batch Accuracy:  62.5%\n",
      "Global Step:  88200, Loss: 1.0458195209503174, Training Batch Accuracy:  65.6%\n",
      "Global Step:  88300, Loss: 0.9660172462463379, Training Batch Accuracy:  75.0%\n",
      "Global Step:  88400, Loss: 0.9600229263305664, Training Batch Accuracy:  78.1%\n",
      "Global Step:  88500, Loss: 1.1641415357589722, Training Batch Accuracy:  64.1%\n",
      "Global Step:  88600, Loss: 1.0613360404968262, Training Batch Accuracy:  64.1%\n",
      "Global Step:  88700, Loss: 1.0222601890563965, Training Batch Accuracy:  76.6%\n",
      "Global Step:  88800, Loss: 1.1988155841827393, Training Batch Accuracy:  67.2%\n",
      "Global Step:  88900, Loss: 0.9933967590332031, Training Batch Accuracy:  73.4%\n",
      "Global Step:  89000, Loss: 1.0334455966949463, Training Batch Accuracy:  73.4%\n",
      "Saved checkpoint.\n",
      "Global Step:  89100, Loss: 1.071432113647461, Training Batch Accuracy:  68.8%\n",
      "Global Step:  89200, Loss: 1.1144959926605225, Training Batch Accuracy:  71.9%\n",
      "Global Step:  89300, Loss: 1.3939909934997559, Training Batch Accuracy:  65.6%\n",
      "Global Step:  89400, Loss: 1.1767394542694092, Training Batch Accuracy:  67.2%\n",
      "Global Step:  89500, Loss: 1.123274326324463, Training Batch Accuracy:  71.9%\n",
      "Global Step:  89600, Loss: 0.8885232210159302, Training Batch Accuracy:  76.6%\n",
      "Global Step:  89700, Loss: 0.918113112449646, Training Batch Accuracy:  78.1%\n",
      "Global Step:  89800, Loss: 0.9880867004394531, Training Batch Accuracy:  78.1%\n",
      "Global Step:  89900, Loss: 1.2162107229232788, Training Batch Accuracy:  59.4%\n",
      "Global Step:  90000, Loss: 1.3357793092727661, Training Batch Accuracy:  59.4%\n",
      "Saved checkpoint.\n",
      "Global Step:  90100, Loss: 1.0779852867126465, Training Batch Accuracy:  75.0%\n",
      "Global Step:  90200, Loss: 1.1021604537963867, Training Batch Accuracy:  73.4%\n",
      "Global Step:  90300, Loss: 1.3136999607086182, Training Batch Accuracy:  59.4%\n",
      "Global Step:  90400, Loss: 1.3425045013427734, Training Batch Accuracy:  57.8%\n",
      "Global Step:  90500, Loss: 0.9581745266914368, Training Batch Accuracy:  76.6%\n",
      "Global Step:  90600, Loss: 1.3438096046447754, Training Batch Accuracy:  70.3%\n",
      "Global Step:  90700, Loss: 0.8790109753608704, Training Batch Accuracy:  78.1%\n",
      "Global Step:  90800, Loss: 1.2141573429107666, Training Batch Accuracy:  67.2%\n",
      "Global Step:  90900, Loss: 1.0277959108352661, Training Batch Accuracy:  70.3%\n",
      "Global Step:  91000, Loss: 0.7412096261978149, Training Batch Accuracy:  76.6%\n",
      "Saved checkpoint.\n",
      "Global Step:  91100, Loss: 1.1911733150482178, Training Batch Accuracy:  65.6%\n",
      "Global Step:  91200, Loss: 1.0853644609451294, Training Batch Accuracy:  79.7%\n",
      "Global Step:  91300, Loss: 1.182548999786377, Training Batch Accuracy:  64.1%\n",
      "Global Step:  91400, Loss: 1.2994567155838013, Training Batch Accuracy:  59.4%\n",
      "Global Step:  91500, Loss: 1.0956157445907593, Training Batch Accuracy:  76.6%\n",
      "Global Step:  91600, Loss: 1.1244583129882812, Training Batch Accuracy:  68.8%\n",
      "Global Step:  91700, Loss: 1.172316551208496, Training Batch Accuracy:  70.3%\n",
      "Global Step:  91800, Loss: 0.9358707070350647, Training Batch Accuracy:  71.9%\n",
      "Global Step:  91900, Loss: 1.0054502487182617, Training Batch Accuracy:  73.4%\n"
     ]
    },
    {
     "name": "stdout",
     "output_type": "stream",
     "text": [
      "Global Step:  92000, Loss: 1.1026806831359863, Training Batch Accuracy:  70.3%\n",
      "Saved checkpoint.\n",
      "Global Step:  92100, Loss: 1.2821204662322998, Training Batch Accuracy:  62.5%\n",
      "Global Step:  92200, Loss: 1.058143138885498, Training Batch Accuracy:  73.4%\n",
      "Global Step:  92300, Loss: 1.1324455738067627, Training Batch Accuracy:  68.8%\n",
      "Global Step:  92400, Loss: 0.958345890045166, Training Batch Accuracy:  75.0%\n",
      "Global Step:  92500, Loss: 1.3223299980163574, Training Batch Accuracy:  70.3%\n",
      "Global Step:  92600, Loss: 1.0281445980072021, Training Batch Accuracy:  62.5%\n",
      "Global Step:  92700, Loss: 1.2935711145401, Training Batch Accuracy:  64.1%\n",
      "Global Step:  92800, Loss: 0.9573124051094055, Training Batch Accuracy:  75.0%\n",
      "Global Step:  92900, Loss: 0.9804670810699463, Training Batch Accuracy:  76.6%\n",
      "Global Step:  93000, Loss: 1.0698812007904053, Training Batch Accuracy:  71.9%\n",
      "Saved checkpoint.\n",
      "Global Step:  93100, Loss: 0.9714832305908203, Training Batch Accuracy:  73.4%\n",
      "Global Step:  93200, Loss: 1.1365938186645508, Training Batch Accuracy:  60.9%\n",
      "Global Step:  93300, Loss: 1.1265459060668945, Training Batch Accuracy:  67.2%\n",
      "Global Step:  93400, Loss: 0.9074422717094421, Training Batch Accuracy:  76.6%\n",
      "Global Step:  93500, Loss: 1.079933524131775, Training Batch Accuracy:  81.2%\n",
      "Global Step:  93600, Loss: 0.8429352641105652, Training Batch Accuracy:  75.0%\n",
      "Global Step:  93700, Loss: 0.9454463124275208, Training Batch Accuracy:  79.7%\n",
      "Global Step:  93800, Loss: 0.9993730783462524, Training Batch Accuracy:  73.4%\n",
      "Global Step:  93900, Loss: 1.089033603668213, Training Batch Accuracy:  64.1%\n",
      "Global Step:  94000, Loss: 1.0174789428710938, Training Batch Accuracy:  68.8%\n",
      "Saved checkpoint.\n",
      "Global Step:  94100, Loss: 1.0766842365264893, Training Batch Accuracy:  75.0%\n",
      "Global Step:  94200, Loss: 1.0957787036895752, Training Batch Accuracy:  75.0%\n",
      "Global Step:  94300, Loss: 0.808146595954895, Training Batch Accuracy:  81.2%\n",
      "Global Step:  94400, Loss: 1.0424119234085083, Training Batch Accuracy:  71.9%\n",
      "Global Step:  94500, Loss: 1.0260639190673828, Training Batch Accuracy:  71.9%\n",
      "Global Step:  94600, Loss: 0.7923721075057983, Training Batch Accuracy:  70.3%\n",
      "Global Step:  94700, Loss: 1.0343254804611206, Training Batch Accuracy:  79.7%\n",
      "Global Step:  94800, Loss: 0.9099206924438477, Training Batch Accuracy:  75.0%\n",
      "Global Step:  94900, Loss: 1.1267530918121338, Training Batch Accuracy:  68.8%\n",
      "Global Step:  95000, Loss: 0.9171587824821472, Training Batch Accuracy:  71.9%\n",
      "Saved checkpoint.\n",
      "Global Step:  95100, Loss: 1.3262646198272705, Training Batch Accuracy:  67.2%\n",
      "Global Step:  95200, Loss: 0.9508293271064758, Training Batch Accuracy:  70.3%\n",
      "Global Step:  95300, Loss: 1.426948070526123, Training Batch Accuracy:  60.9%\n",
      "Global Step:  95400, Loss: 1.3427627086639404, Training Batch Accuracy:  65.6%\n",
      "Global Step:  95500, Loss: 1.1890079975128174, Training Batch Accuracy:  71.9%\n",
      "Global Step:  95600, Loss: 1.3316051959991455, Training Batch Accuracy:  65.6%\n",
      "Global Step:  95700, Loss: 1.183823585510254, Training Batch Accuracy:  70.3%\n",
      "Global Step:  95800, Loss: 1.3030288219451904, Training Batch Accuracy:  65.6%\n",
      "Global Step:  95900, Loss: 0.9666779041290283, Training Batch Accuracy:  78.1%\n",
      "Global Step:  96000, Loss: 1.3878121376037598, Training Batch Accuracy:  62.5%\n",
      "Saved checkpoint.\n",
      "Global Step:  96100, Loss: 0.9904143810272217, Training Batch Accuracy:  82.8%\n",
      "Global Step:  96200, Loss: 0.936653733253479, Training Batch Accuracy:  85.9%\n",
      "Global Step:  96300, Loss: 1.2095251083374023, Training Batch Accuracy:  65.6%\n",
      "Global Step:  96400, Loss: 1.2736411094665527, Training Batch Accuracy:  68.8%\n",
      "Global Step:  96500, Loss: 1.021959662437439, Training Batch Accuracy:  79.7%\n",
      "Global Step:  96600, Loss: 1.0691019296646118, Training Batch Accuracy:  76.6%\n",
      "Global Step:  96700, Loss: 0.8123668432235718, Training Batch Accuracy:  73.4%\n",
      "Global Step:  96800, Loss: 1.2101917266845703, Training Batch Accuracy:  78.1%\n",
      "Global Step:  96900, Loss: 0.8819616436958313, Training Batch Accuracy:  68.8%\n",
      "Global Step:  97000, Loss: 1.08843994140625, Training Batch Accuracy:  70.3%\n",
      "Saved checkpoint.\n",
      "Global Step:  97100, Loss: 1.2532843351364136, Training Batch Accuracy:  73.4%\n",
      "Global Step:  97200, Loss: 1.128352165222168, Training Batch Accuracy:  68.8%\n",
      "Global Step:  97300, Loss: 1.2781598567962646, Training Batch Accuracy:  59.4%\n",
      "Global Step:  97400, Loss: 1.049666166305542, Training Batch Accuracy:  67.2%\n",
      "Global Step:  97500, Loss: 1.2535669803619385, Training Batch Accuracy:  60.9%\n",
      "Global Step:  97600, Loss: 0.9693101048469543, Training Batch Accuracy:  71.9%\n",
      "Global Step:  97700, Loss: 1.162129521369934, Training Batch Accuracy:  71.9%\n",
      "Global Step:  97800, Loss: 1.2155094146728516, Training Batch Accuracy:  70.3%\n",
      "Global Step:  97900, Loss: 1.0602303743362427, Training Batch Accuracy:  76.6%\n",
      "Global Step:  98000, Loss: 0.9591516256332397, Training Batch Accuracy:  68.8%\n",
      "Saved checkpoint.\n",
      "Global Step:  98100, Loss: 1.3130743503570557, Training Batch Accuracy:  68.8%\n",
      "Global Step:  98200, Loss: 1.0022269487380981, Training Batch Accuracy:  67.2%\n",
      "Global Step:  98300, Loss: 1.0600796937942505, Training Batch Accuracy:  67.2%\n",
      "Global Step:  98400, Loss: 0.8564057350158691, Training Batch Accuracy:  73.4%\n",
      "Global Step:  98500, Loss: 1.048377513885498, Training Batch Accuracy:  65.6%\n",
      "Global Step:  98600, Loss: 0.7128890752792358, Training Batch Accuracy:  85.9%\n",
      "Global Step:  98700, Loss: 0.9974153637886047, Training Batch Accuracy:  68.8%\n",
      "Global Step:  98800, Loss: 0.9528520107269287, Training Batch Accuracy:  73.4%\n",
      "Global Step:  98900, Loss: 1.0055692195892334, Training Batch Accuracy:  78.1%\n",
      "Global Step:  99000, Loss: 1.0538145303726196, Training Batch Accuracy:  62.5%\n",
      "Saved checkpoint.\n",
      "Global Step:  99100, Loss: 1.3433327674865723, Training Batch Accuracy:  65.6%\n",
      "Global Step:  99200, Loss: 0.904339611530304, Training Batch Accuracy:  71.9%\n",
      "Global Step:  99300, Loss: 1.1173243522644043, Training Batch Accuracy:  75.0%\n",
      "Global Step:  99400, Loss: 1.0283536911010742, Training Batch Accuracy:  71.9%\n",
      "Global Step:  99500, Loss: 1.1867775917053223, Training Batch Accuracy:  70.3%\n",
      "Global Step:  99600, Loss: 1.2529845237731934, Training Batch Accuracy:  68.8%\n",
      "Global Step:  99700, Loss: 1.0780704021453857, Training Batch Accuracy:  73.4%\n",
      "Global Step:  99800, Loss: 1.1401405334472656, Training Batch Accuracy:  70.3%\n",
      "Global Step:  99900, Loss: 0.7465960383415222, Training Batch Accuracy:  71.9%\n",
      "Global Step: 100000, Loss: 0.8563164472579956, Training Batch Accuracy:  78.1%\n",
      "Saved checkpoint.\n",
      "Time usage: 2:51:29\n"
     ]
    }
   ],
   "source": [
    "# if False:\n",
    "optimize(num_iterations=100000)"
   ]
  },
  {
   "cell_type": "markdown",
   "metadata": {},
   "source": [
    "## Results\n",
    "\n",
    "Examples of mis-classifications are plotted below. Some of these are difficult to recognize even for humans and others are reasonable mistakes e.g. between a large car and a truck, or between a cat and a dog, while other mistakes seem a bit strange."
   ]
  },
  {
   "cell_type": "code",
   "execution_count": 51,
   "metadata": {
    "scrolled": true
   },
   "outputs": [
    {
     "name": "stdout",
     "output_type": "stream",
     "text": [
      "Accuracy on Test-Set: 69.4% (6939 / 10000)\n",
      "Example errors:\n"
     ]
    },
    {
     "data": {
      "image/png": "[encoded data removed]",
      "text/plain": [
       "<matplotlib.figure.Figure at 0x7f8d1c008b70>"
      ]
     },
     "metadata": {},
     "output_type": "display_data"
    },
    {
     "name": "stdout",
     "output_type": "stream",
     "text": [
      "Confusion Matrix:\n",
      "[736  40  41  24  12   4   5  10  71  57] (0) airplane\n",
      "[ 13 878   6   0   0   7   2   4  19  71] (1) automobile\n",
      "[ 63  17 549  72  67  90  52  40  18  32] (2) bird\n",
      "[ 20  16  57 439  47 231  51  51  25  63] (3) cat\n",
      "[ 27  11  48  53 595  61  50 117  14  24] (4) deer\n",
      "[  8  12  28 155  38 629  18  71  10  31] (5) dog\n",
      "[ 10  14  42  68  38  38 734  14  17  25] (6) frog\n",
      "[ 15   7  15  39  48  77   4 751   5  39] (7) horse\n",
      "[ 67  61   9   7   1   2   2   3 799  49] (8) ship\n",
      "[ 24  93   6   7   3   2   2  10  24 829] (9) truck\n",
      " (0) (1) (2) (3) (4) (5) (6) (7) (8) (9)\n"
     ]
    }
   ],
   "source": [
    "print_test_accuracy(show_example_errors=True,\n",
    "                    show_confusion_matrix=True)"
   ]
  },
  {
   "cell_type": "markdown",
   "metadata": {},
   "source": [
    "### Predicted class-labels"
   ]
  },
  {
   "cell_type": "markdown",
   "metadata": {},
   "source": [
    "Get the predicted class-label and class-number for this image."
   ]
  },
  {
   "cell_type": "code",
   "execution_count": 52,
   "metadata": {
    "collapsed": true
   },
   "outputs": [],
   "source": [
    "label_pred, cls_pred = session.run([y_pred, y_pred_cls],\n",
    "                                   feed_dict={x: [img]})"
   ]
  },
  {
   "cell_type": "markdown",
   "metadata": {},
   "source": [
    "Print the predicted class-label."
   ]
  },
  {
   "cell_type": "code",
   "execution_count": 53,
   "metadata": {
    "scrolled": true
   },
   "outputs": [
    {
     "name": "stdout",
     "output_type": "stream",
     "text": [
      "[-0.017 -1.137  1.978  2.994 -1.234  3.293 -0.31   2.809 -1.126  0.815]\n"
     ]
    }
   ],
   "source": [
    "# Set the rounding options for numpy.\n",
    "np.set_printoptions(precision=3, suppress=True)\n",
    "\n",
    "# Print the predicted label.\n",
    "print(label_pred[0])"
   ]
  },
  {
   "cell_type": "markdown",
   "metadata": {},
   "source": [
    "The predicted class-label is an array of length 10, with each element indicating how confident the neural network is that the image is the given class.\n",
    "\n",
    "In this case the element with index 3 has a value of 0.493, while the element with index 5 has a value of 0.490. This means the neural network believes the image either shows a class 3 or class 5, which is a cat or a dog, respectively."
   ]
  },
  {
   "cell_type": "code",
   "execution_count": 54,
   "metadata": {},
   "outputs": [
    {
     "data": {
      "text/plain": [
       "'cat'"
      ]
     },
     "execution_count": 54,
     "metadata": {},
     "output_type": "execute_result"
    }
   ],
   "source": [
    "class_names[3]"
   ]
  },
  {
   "cell_type": "code",
   "execution_count": 55,
   "metadata": {},
   "outputs": [
    {
     "data": {
      "text/plain": [
       "'dog'"
      ]
     },
     "execution_count": 55,
     "metadata": {},
     "output_type": "execute_result"
    }
   ],
   "source": [
    "class_names[5]"
   ]
  },
  {
   "cell_type": "markdown",
   "metadata": {},
   "source": [
    "## Close TensorFlow Session"
   ]
  },
  {
   "cell_type": "markdown",
   "metadata": {},
   "source": [
    "We are now done using TensorFlow, so we close the session to release its resources."
   ]
  },
  {
   "cell_type": "code",
   "execution_count": 56,
   "metadata": {
    "collapsed": true
   },
   "outputs": [],
   "source": [
    "# This has been commented out in case you want to modify and experiment\n",
    "# with the Notebook without having to restart it.\n",
    "# session.close()"
   ]
  },
  {
   "cell_type": "markdown",
   "metadata": {},
   "source": [
    "## Homework\n",
    "\n",
    "These are a few suggestions for exercises that may help improve your skills with TensorFlow. It is important to get hands-on experience with TensorFlow in order to learn how to use it properly.\n",
    "\n",
    "You may want to backup this Notebook before making any changes.\n",
    "\n",
    "* Run the optimization for 100,000 iterations and see what the classification accuracy is. This will create a checkpoint that saves all the variables of the TensorFlow graph.\n",
    "* Try changing the structure of the neural network to AlexNet. How does it affect the training time and the classification accuracy? Note that the checkpoints cannot be reloaded when you change the structure of the neural network."
   ]
  },
  {
   "cell_type": "code",
   "execution_count": null,
   "metadata": {
    "collapsed": true
   },
   "outputs": [],
   "source": []
  }
 ],
 "metadata": {
  "anaconda-cloud": {},
  "kernelspec": {
   "display_name": "Python 3",
   "language": "python",
   "name": "python3"
  },
  "language_info": {
   "codemirror_mode": {
    "name": "ipython",
    "version": 3
   },
   "file_extension": ".py",
   "mimetype": "text/x-python",
   "name": "python",
   "nbconvert_exporter": "python",
   "pygments_lexer": "ipython3",
   "version": "3.6.1"
  }
 },
 "nbformat": 4,
 "nbformat_minor": 1
}
