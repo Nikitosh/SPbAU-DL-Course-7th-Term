{
 "cells": [
  {
   "cell_type": "code",
   "execution_count": 1,
   "metadata": {
    "collapsed": true
   },
   "outputs": [],
   "source": [
    "%matplotlib inline\n",
    "import matplotlib.pyplot as plt\n",
    "import tensorflow as tf\n",
    "import numpy as np\n",
    "from sklearn.metrics import confusion_matrix\n",
    "import time\n",
    "from datetime import timedelta\n",
    "import math\n",
    "import os\n",
    "\n",
    "# Use PrettyTensor to simplify Neural Network construction.\n",
    "import prettytensor as pt"
   ]
  },
  {
   "cell_type": "markdown",
   "metadata": {},
   "source": [
    "## Load Data"
   ]
  },
  {
   "cell_type": "code",
   "execution_count": 2,
   "metadata": {
    "collapsed": true
   },
   "outputs": [],
   "source": [
    "import cifar10"
   ]
  },
  {
   "cell_type": "markdown",
   "metadata": {},
   "source": [
    "Set the path for storing the data-set on your computer."
   ]
  },
  {
   "cell_type": "markdown",
   "metadata": {},
   "source": [
    "The CIFAR-10 data-set is about 163 MB and will be downloaded automatically if it is not located in the given path."
   ]
  },
  {
   "cell_type": "code",
   "execution_count": 3,
   "metadata": {
    "scrolled": true
   },
   "outputs": [
    {
     "name": "stdout",
     "output_type": "stream",
     "text": [
      "Data has apparently already been downloaded and unpacked.\n"
     ]
    }
   ],
   "source": [
    "cifar10.maybe_download_and_extract()"
   ]
  },
  {
   "cell_type": "markdown",
   "metadata": {},
   "source": [
    "Load the class-names."
   ]
  },
  {
   "cell_type": "code",
   "execution_count": 4,
   "metadata": {},
   "outputs": [
    {
     "name": "stdout",
     "output_type": "stream",
     "text": [
      "Loading data: data/CIFAR-10/cifar-10-batches-py/batches.meta\n"
     ]
    },
    {
     "data": {
      "text/plain": [
       "['airplane',\n",
       " 'automobile',\n",
       " 'bird',\n",
       " 'cat',\n",
       " 'deer',\n",
       " 'dog',\n",
       " 'frog',\n",
       " 'horse',\n",
       " 'ship',\n",
       " 'truck']"
      ]
     },
     "execution_count": 4,
     "metadata": {},
     "output_type": "execute_result"
    }
   ],
   "source": [
    "class_names = cifar10.load_class_names()\n",
    "class_names"
   ]
  },
  {
   "cell_type": "markdown",
   "metadata": {},
   "source": [
    "Load the training-set. This returns the images, the class-numbers as integers, and the class-numbers as One-Hot encoded arrays called labels."
   ]
  },
  {
   "cell_type": "code",
   "execution_count": 5,
   "metadata": {},
   "outputs": [
    {
     "name": "stdout",
     "output_type": "stream",
     "text": [
      "Loading data: data/CIFAR-10/cifar-10-batches-py/data_batch_1\n",
      "Loading data: data/CIFAR-10/cifar-10-batches-py/data_batch_2\n",
      "Loading data: data/CIFAR-10/cifar-10-batches-py/data_batch_3\n",
      "Loading data: data/CIFAR-10/cifar-10-batches-py/data_batch_4\n",
      "Loading data: data/CIFAR-10/cifar-10-batches-py/data_batch_5\n"
     ]
    }
   ],
   "source": [
    "images_train, cls_train, labels_train = cifar10.load_training_data()"
   ]
  },
  {
   "cell_type": "markdown",
   "metadata": {},
   "source": [
    "Load the test-set."
   ]
  },
  {
   "cell_type": "code",
   "execution_count": 6,
   "metadata": {},
   "outputs": [
    {
     "name": "stdout",
     "output_type": "stream",
     "text": [
      "Loading data: data/CIFAR-10/cifar-10-batches-py/test_batch\n"
     ]
    }
   ],
   "source": [
    "images_test, cls_test, labels_test = cifar10.load_test_data()"
   ]
  },
  {
   "cell_type": "markdown",
   "metadata": {},
   "source": [
    "The CIFAR-10 data-set has now been loaded and consists of 60,000 images and associated labels (i.e. classifications of the images). The data-set is split into 2 mutually exclusive sub-sets, the training-set and the test-set."
   ]
  },
  {
   "cell_type": "code",
   "execution_count": 7,
   "metadata": {
    "scrolled": true
   },
   "outputs": [
    {
     "name": "stdout",
     "output_type": "stream",
     "text": [
      "Size of:\n",
      "- Training-set:\t\t50000\n",
      "- Test-set:\t\t10000\n"
     ]
    }
   ],
   "source": [
    "print(\"Size of:\")\n",
    "print(\"- Training-set:\\t\\t{}\".format(len(images_train)))\n",
    "print(\"- Test-set:\\t\\t{}\".format(len(images_test)))"
   ]
  },
  {
   "cell_type": "markdown",
   "metadata": {},
   "source": [
    "The data dimensions are used in several places in the source-code below. They have already been defined in the cifar10 module, so we just need to import them."
   ]
  },
  {
   "cell_type": "code",
   "execution_count": 8,
   "metadata": {
    "collapsed": true
   },
   "outputs": [],
   "source": [
    "from cifar10 import img_size, num_channels, num_classes"
   ]
  },
  {
   "cell_type": "markdown",
   "metadata": {},
   "source": [
    "The images are 32 x 32 pixels, but we will crop the images to 24 x 24 pixels."
   ]
  },
  {
   "cell_type": "code",
   "execution_count": 9,
   "metadata": {
    "collapsed": true
   },
   "outputs": [],
   "source": [
    "img_size_cropped = 24"
   ]
  },
  {
   "cell_type": "markdown",
   "metadata": {},
   "source": [
    "Function used to plot 9 images in a 3x3 grid, and writing the true and predicted classes below each image."
   ]
  },
  {
   "cell_type": "code",
   "execution_count": 10,
   "metadata": {
    "collapsed": true
   },
   "outputs": [],
   "source": [
    "def plot_images(images, cls_true, cls_pred=None, smooth=True):\n",
    "\n",
    "    assert len(images) == len(cls_true) == 9\n",
    "\n",
    "    # Create figure with sub-plots.\n",
    "    fig, axes = plt.subplots(3, 3)\n",
    "\n",
    "    # Adjust vertical spacing if we need to print ensemble and best-net.\n",
    "    if cls_pred is None:\n",
    "        hspace = 0.3\n",
    "    else:\n",
    "        hspace = 0.6\n",
    "    fig.subplots_adjust(hspace=hspace, wspace=0.3)\n",
    "\n",
    "    for i, ax in enumerate(axes.flat):\n",
    "        # Interpolation type.\n",
    "        if smooth:\n",
    "            interpolation = 'spline16'\n",
    "        else:\n",
    "            interpolation = 'nearest'\n",
    "\n",
    "        # Plot image.\n",
    "        ax.imshow(images[i, :, :, :],\n",
    "                  interpolation=interpolation)\n",
    "            \n",
    "        # Name of the true class.\n",
    "        cls_true_name = class_names[cls_true[i]]\n",
    "\n",
    "        # Show true and predicted classes.\n",
    "        if cls_pred is None:\n",
    "            xlabel = \"True: {0}\".format(cls_true_name)\n",
    "        else:\n",
    "            # Name of the predicted class.\n",
    "            cls_pred_name = class_names[cls_pred[i]]\n",
    "\n",
    "            xlabel = \"True: {0}\\nPred: {1}\".format(cls_true_name, cls_pred_name)\n",
    "\n",
    "        # Show the classes as the label on the x-axis.\n",
    "        ax.set_xlabel(xlabel)\n",
    "        \n",
    "        # Remove ticks from the plot.\n",
    "        ax.set_xticks([])\n",
    "        ax.set_yticks([])\n",
    "    \n",
    "    # Ensure the plot is shown correctly with multiple plots\n",
    "    # in a single Notebook cell.\n",
    "    plt.show()"
   ]
  },
  {
   "cell_type": "markdown",
   "metadata": {},
   "source": [
    "### Plot a few images to see if data is correct"
   ]
  },
  {
   "cell_type": "code",
   "execution_count": 11,
   "metadata": {
    "scrolled": true
   },
   "outputs": [
    {
     "data": {
      "image/png": "[encoded data removed]",
      "text/plain": [
       "<matplotlib.figure.Figure at 0x7fb5fa935ba8>"
      ]
     },
     "metadata": {},
     "output_type": "display_data"
    }
   ],
   "source": [
    "# Get the first images from the test-set.\n",
    "images = images_test[0:9]\n",
    "\n",
    "# Get the true classes for those images.\n",
    "cls_true = cls_test[0:9]\n",
    "\n",
    "# Plot the images and labels using our helper-function above.\n",
    "plot_images(images=images, cls_true=cls_true, smooth=False)"
   ]
  },
  {
   "cell_type": "markdown",
   "metadata": {},
   "source": [
    "The pixelated images above are what the neural network will get as input. The images might be a bit easier for the human eye to recognize if we smoothen the pixels."
   ]
  },
  {
   "cell_type": "code",
   "execution_count": 12,
   "metadata": {},
   "outputs": [
    {
     "data": {
      "image/png": "[encoded data removed]",
      "text/plain": [
       "<matplotlib.figure.Figure at 0x7fb5fa9358d0>"
      ]
     },
     "metadata": {},
     "output_type": "display_data"
    }
   ],
   "source": [
    "plot_images(images=images, cls_true=cls_true, smooth=True)"
   ]
  },
  {
   "cell_type": "code",
   "execution_count": 13,
   "metadata": {
    "collapsed": true
   },
   "outputs": [],
   "source": [
    "x = tf.placeholder(tf.float32, shape=[None, img_size, img_size, num_channels], name='x')"
   ]
  },
  {
   "cell_type": "code",
   "execution_count": 14,
   "metadata": {
    "collapsed": true
   },
   "outputs": [],
   "source": [
    "y_true = tf.placeholder(tf.float32, shape=[None, num_classes], name='y_true')"
   ]
  },
  {
   "cell_type": "code",
   "execution_count": 15,
   "metadata": {
    "collapsed": true
   },
   "outputs": [],
   "source": [
    "y_true_cls = tf.argmax(y_true, dimension=1)"
   ]
  },
  {
   "cell_type": "markdown",
   "metadata": {},
   "source": [
    "### Data augmentation for images"
   ]
  },
  {
   "cell_type": "markdown",
   "metadata": {},
   "source": [
    "The following helper-functions create the part of the TensorFlow computational graph that pre-processes the input images. Nothing is actually calculated at this point, the function merely adds nodes to the computational graph for TensorFlow.\n",
    "\n",
    "The pre-processing is different for training and testing of the neural network:\n",
    "* For training, the input images are randomly cropped, randomly flipped horizontally, and the hue, contrast and saturation is adjusted with random values. This artificially inflates the size of the training-set by creating random variations of the original input images. Examples of distorted images are shown further below.\n",
    "\n",
    "* For testing, the input images are cropped around the centre and nothing else is adjusted."
   ]
  },
  {
   "cell_type": "code",
   "execution_count": 16,
   "metadata": {
    "collapsed": true
   },
   "outputs": [],
   "source": [
    "def pre_process_image(image, training):\n",
    "    # This function takes a single image as input,\n",
    "    # and a boolean whether to build the training or testing graph.\n",
    "    \n",
    "    if training:\n",
    "        # For training, add the following to the TensorFlow graph.\n",
    "\n",
    "        # Randomly crop the input image.\n",
    "        image = tf.random_crop(image, size=[img_size_cropped, img_size_cropped, num_channels])\n",
    "\n",
    "        # Randomly flip the image horizontally.\n",
    "        image = tf.image.random_flip_left_right(image)\n",
    "        \n",
    "        # Randomly adjust hue, contrast and saturation.\n",
    "        image = tf.image.random_hue(image, max_delta=0.05)\n",
    "        image = tf.image.random_contrast(image, lower=0.3, upper=1.0)\n",
    "        image = tf.image.random_brightness(image, max_delta=0.2)\n",
    "        image = tf.image.random_saturation(image, lower=0.0, upper=2.0)\n",
    "\n",
    "        # Some of these functions may overflow and result in pixel\n",
    "        # values beyond the [0, 1] range. It is unclear from the\n",
    "        # documentation of TensorFlow whether this is\n",
    "        # intended. A simple solution is to limit the range.\n",
    "\n",
    "        # Limit the image pixels between [0, 1] in case of overflow.\n",
    "        image = tf.minimum(image, 1.0)\n",
    "        image = tf.maximum(image, 0.0)\n",
    "    else:\n",
    "        # For training, add the following to the TensorFlow graph.\n",
    "\n",
    "        # Crop the input image around the centre so it is the same\n",
    "        # size as images that are randomly cropped during training.\n",
    "        image = tf.image.resize_image_with_crop_or_pad(image,\n",
    "                                                       target_height=img_size_cropped,\n",
    "                                                       target_width=img_size_cropped)\n",
    "\n",
    "    return image"
   ]
  },
  {
   "cell_type": "markdown",
   "metadata": {},
   "source": [
    "The function above is called for each image in the input batch using the following function."
   ]
  },
  {
   "cell_type": "code",
   "execution_count": 17,
   "metadata": {
    "collapsed": true
   },
   "outputs": [],
   "source": [
    "def pre_process(images, training):\n",
    "    # Use TensorFlow to loop over all the input images and call\n",
    "    # the function above which takes a single image as input.\n",
    "    images = tf.map_fn(lambda image: pre_process_image(image, training), images)\n",
    "\n",
    "    return images"
   ]
  },
  {
   "cell_type": "markdown",
   "metadata": {},
   "source": [
    "In order to plot the distorted images, we create the pre-processing graph for TensorFlow, so we may execute it later."
   ]
  },
  {
   "cell_type": "code",
   "execution_count": 18,
   "metadata": {
    "collapsed": true
   },
   "outputs": [],
   "source": [
    "distorted_images = pre_process(images=x, training=True)"
   ]
  },
  {
   "cell_type": "markdown",
   "metadata": {},
   "source": [
    "### AlexNet"
   ]
  },
  {
   "cell_type": "code",
   "execution_count": 19,
   "metadata": {
    "collapsed": true
   },
   "outputs": [],
   "source": [
    "def weight_variable(shape, name):\n",
    "    return tf.get_variable(initializer=tf.truncated_normal(stddev=0.1, shape=shape), name=name)\n",
    "\n",
    "def bias_variable(shape, name):\n",
    "    return tf.get_variable(initializer=tf.constant(value=0.5, shape=shape), name=name)\n",
    "\n",
    "def conv(x, filter_height, filter_width, filters_number, stride_y, stride_x, name, groups=1, padding=\"SAME\"):\n",
    "    with tf.variable_scope(name) as scope:\n",
    "        convolve = lambda x, w: tf.nn.conv2d(x, w, strides=[1, stride_y, stride_x, 1], padding=padding)\n",
    "        channels = int(x.get_shape()[-1])\n",
    "        w = weight_variable([filter_height, filter_width, channels // groups, filters_number], name=\"w\")\n",
    "        b = bias_variable([filters_number], name=\"b\")\n",
    "        \n",
    "        if groups == 1:\n",
    "            convolution = convolve(x, w)\n",
    "        else:\n",
    "            x_groups = tf.split(x, num_or_size_splits=groups, axis=3)\n",
    "            w_groups = tf.split(w, num_or_size_splits=groups, axis=3)\n",
    "            convolution = tf.concat([convolve(x_, w_) for x_, w_ in zip(x_groups, w_groups)], axis=3)\n",
    "        return tf.nn.relu(tf.nn.bias_add(convolution, b), name=scope.name)\n",
    "\n",
    "def max_pool(x, filter_height, filter_width, stride_y, stride_x, name, padding=\"SAME\"):\n",
    "    return tf.nn.max_pool(x, ksize=[1, filter_height, filter_width, 1], strides=[1, stride_y, stride_x, 1], \n",
    "                          padding=padding, name= name)\n",
    "\n",
    "def lrn(x, name, radius=2, alpha=1e-4, beta=0.75, bias=2.0):\n",
    "    return tf.nn.local_response_normalization(x, depth_radius=radius, alpha=alpha, beta=beta, bias=bias, name=name)\n",
    "\n",
    "def fc(x, out_number, name, relu=True):\n",
    "    with tf.variable_scope(name) as scope:\n",
    "        in_number = int(np.prod(x.shape[1:]))\n",
    "        flattened = tf.reshape(x, [-1, in_number])\n",
    "        w = weight_variable([in_number, out_number], name=\"w\")\n",
    "        b = bias_variable([out_number], name=\"b\")\n",
    "        result = tf.nn.xw_plus_b(flattened, w, b, name=scope.name)\n",
    "        if relu:\n",
    "            return tf.nn.relu(result)\n",
    "        return result\n",
    "\n",
    "def dropout(x, name, keep_prob=0.5):\n",
    "    return tf.nn.dropout(x, keep_prob=keep_prob, name=name)\n",
    "\n",
    "class AlexNet:\n",
    "    def __init__(self, x):\n",
    "        self.x = x\n",
    "        self.create_layers()\n",
    "        \n",
    "    def create_layers(self):\n",
    "        conv1 = conv(self.x, filter_height=4, filter_width=4, filters_number=48, stride_y=2, stride_x=2, name=\"conv1\")\n",
    "        norm1 = lrn(conv1, name=\"norm1\")\n",
    "        pool1 = max_pool(norm1, filter_height=2, filter_width=2, stride_y=1, stride_x=1, name=\"pool1\")\n",
    "        \n",
    "        conv2 = conv(pool1, filter_height=3, filter_width=3, filters_number=128, stride_y=2, stride_x=2, name=\"conv2\", groups=2)\n",
    "        norm2 = lrn(conv2, name=\"norm2\")\n",
    "        pool2 = max_pool(norm2, filter_height=2, filter_width=2, stride_y=1, stride_x=1, name=\"pool2\")\n",
    "        \n",
    "        conv3 = conv(pool2, filter_height=3, filter_width=3, filters_number=192, stride_y=1, stride_x=1, name=\"conv3\")\n",
    "        \n",
    "        conv4 = conv(conv3, filter_height=3, filter_width=3, filters_number=192, stride_y=1, stride_x=1, groups=2, \n",
    "                     name=\"conv4\")\n",
    "        \n",
    "        conv5 = conv(conv4, filter_height=3, filter_width=3, filters_number=128, stride_y=1, stride_x=1, groups=2, \n",
    "                     name=\"conv5\")\n",
    "        pool5 = max_pool(conv5, filter_height=3, filter_width=3, stride_y=2, stride_x=2, name=\"pool5\")\n",
    "        \n",
    "        fc6 = fc(pool5, out_number=2048, name=\"fc6\")\n",
    "        dropout6 = dropout(fc6, name=\"dropout6\") \n",
    "        \n",
    "        fc7 = fc(dropout6, out_number=2048, name=\"fc7\")\n",
    "        dropout7 = dropout(fc7, name=\"dropout7\")\n",
    "        \n",
    "        self.output = fc(dropout7, out_number=num_classes, relu=False, name=\"output\")\n",
    "        self.loss = tf.reduce_mean(tf.nn.softmax_cross_entropy_with_logits(logits=self.output, labels=y_true))                "
   ]
  },
  {
   "cell_type": "markdown",
   "metadata": {},
   "source": [
    "### Creating Neural Network"
   ]
  },
  {
   "cell_type": "markdown",
   "metadata": {},
   "source": [
    "Note that the neural network is enclosed in the variable-scope named 'network'. This is because we are actually creating two neural networks in the TensorFlow graph. By assigning a variable-scope like this, we can re-use the variables for the two neural networks, so the variables that are optimized for the training-network are re-used for the other network that is used for testing."
   ]
  },
  {
   "cell_type": "code",
   "execution_count": 20,
   "metadata": {
    "collapsed": true
   },
   "outputs": [],
   "source": [
    "def create_network(training):\n",
    "    # Wrap the neural network in the scope named 'network'.\n",
    "    # Create new variables during training, and re-use during testing.\n",
    "    with tf.variable_scope('network', reuse=not training):\n",
    "        # Just rename the input placeholder variable for convenience.\n",
    "        images = x\n",
    "\n",
    "        # Create TensorFlow graph for pre-processing.\n",
    "        images = pre_process(images=images, training=training)\n",
    "\n",
    "        # Create TensorFlow graph for the main processing.\n",
    "        net = AlexNet(x=images)\n",
    "     \n",
    "    #return net.score, net.loss\n",
    "    return net.output, net.loss"
   ]
  },
  {
   "cell_type": "markdown",
   "metadata": {},
   "source": [
    "### Create Neural Network for Training Phase"
   ]
  },
  {
   "cell_type": "markdown",
   "metadata": {},
   "source": [
    "Note that `trainable=False` which means that TensorFlow will not try to optimize this variable."
   ]
  },
  {
   "cell_type": "code",
   "execution_count": 21,
   "metadata": {
    "collapsed": true
   },
   "outputs": [],
   "source": [
    "global_step = tf.Variable(initial_value=0,\n",
    "                          name='global_step', trainable=False)"
   ]
  },
  {
   "cell_type": "markdown",
   "metadata": {},
   "source": [
    "Create the neural network to be used for training. The `create_network()` function returns both `y_pred` and `loss`, but we only need the `loss`-function during training."
   ]
  },
  {
   "cell_type": "code",
   "execution_count": 22,
   "metadata": {
    "collapsed": true
   },
   "outputs": [],
   "source": [
    "_, loss = create_network(training=True)"
   ]
  },
  {
   "cell_type": "markdown",
   "metadata": {},
   "source": [
    "Create an optimizer which will minimize the `loss`-function. Also pass the `global_step` variable to the optimizer so it will be increased by one after each iteration."
   ]
  },
  {
   "cell_type": "code",
   "execution_count": 23,
   "metadata": {
    "collapsed": true
   },
   "outputs": [],
   "source": [
    "optimizer = tf.train.AdamOptimizer(learning_rate=1e-4).minimize(loss, global_step=global_step)"
   ]
  },
  {
   "cell_type": "markdown",
   "metadata": {},
   "source": [
    "### Create Neural Network for Test Phase / Inference"
   ]
  },
  {
   "cell_type": "markdown",
   "metadata": {},
   "source": [
    "Now create the neural network for the test-phase. Once again the `create_network()` function returns the predicted class-labels `y_pred` for the input images, as well as the `loss`-function to be used during optimization. During testing we only need `y_pred`."
   ]
  },
  {
   "cell_type": "code",
   "execution_count": 24,
   "metadata": {
    "collapsed": true
   },
   "outputs": [],
   "source": [
    "y_pred, _ = create_network(training=False)"
   ]
  },
  {
   "cell_type": "markdown",
   "metadata": {},
   "source": [
    "We then calculate the predicted class number as an integer. The output of the network `y_pred` is an array with 10 elements. The class number is the index of the largest element in the array."
   ]
  },
  {
   "cell_type": "code",
   "execution_count": 25,
   "metadata": {
    "collapsed": true
   },
   "outputs": [],
   "source": [
    "y_pred_cls = tf.argmax(y_pred, dimension=1)"
   ]
  },
  {
   "cell_type": "markdown",
   "metadata": {},
   "source": [
    "Then we create a vector of booleans telling us whether the predicted class equals the true class of each image."
   ]
  },
  {
   "cell_type": "code",
   "execution_count": 26,
   "metadata": {
    "collapsed": true
   },
   "outputs": [],
   "source": [
    "correct_prediction = tf.equal(y_pred_cls, y_true_cls)"
   ]
  },
  {
   "cell_type": "markdown",
   "metadata": {},
   "source": [
    "The classification accuracy is calculated by first type-casting the vector of booleans to floats, so that False becomes 0 and True becomes 1, and then taking the average of these numbers."
   ]
  },
  {
   "cell_type": "code",
   "execution_count": 27,
   "metadata": {
    "collapsed": true
   },
   "outputs": [],
   "source": [
    "accuracy = tf.reduce_mean(tf.cast(correct_prediction, tf.float32))"
   ]
  },
  {
   "cell_type": "markdown",
   "metadata": {},
   "source": [
    "### Saver\n",
    "\n",
    "In order to save the variables of the neural network, so they can be reloaded quickly without having to train the network again, we now create a so-called Saver-object which is used for storing and retrieving all the variables of the TensorFlow graph. Nothing is actually saved at this point, which will be done further below."
   ]
  },
  {
   "cell_type": "code",
   "execution_count": 28,
   "metadata": {
    "collapsed": true
   },
   "outputs": [],
   "source": [
    "saver = tf.train.Saver()"
   ]
  },
  {
   "cell_type": "markdown",
   "metadata": {},
   "source": [
    "### Getting the Weights"
   ]
  },
  {
   "cell_type": "markdown",
   "metadata": {},
   "source": [
    "Further below, we want to plot the weights of the neural network. When the network is constructed using Pretty Tensor, all the variables of the layers are created indirectly by Pretty Tensor. We therefore have to retrieve the variables from TensorFlow.\n",
    "\n",
    "We used the names `layer_conv1` and `layer_conv2` for the two convolutional layers. These are also called variable scopes. Pretty Tensor automatically gives names to the variables it creates for each layer, so we can retrieve the weights for a layer using the layer's scope-name and the variable-name.\n",
    "\n",
    "The implementation is somewhat awkward because we have to use the TensorFlow function `get_variable()` which was designed for another purpose; either creating a new variable or re-using an existing variable. The easiest thing is to make the following helper-function."
   ]
  },
  {
   "cell_type": "code",
   "execution_count": 29,
   "metadata": {
    "collapsed": true
   },
   "outputs": [],
   "source": [
    "def get_weights_variable(layer_name):\n",
    "    # Retrieve an existing variable named 'weights' in the scope\n",
    "    # with the given layer_name.\n",
    "    # This is awkward because the TensorFlow function was\n",
    "    # really intended for another purpose.\n",
    "\n",
    "    with tf.variable_scope(\"network/\" + layer_name, reuse=True):\n",
    "        variable = tf.get_variable('weights')\n",
    "\n",
    "    return variable"
   ]
  },
  {
   "cell_type": "markdown",
   "metadata": {},
   "source": [
    "Using this helper-function we can retrieve the variables. These are TensorFlow objects. In order to get the contents of the variables, you must do something like: `contents = session.run(weights_conv1)` as demonstrated further below."
   ]
  },
  {
   "cell_type": "markdown",
   "metadata": {},
   "source": [
    "## TensorFlow Run"
   ]
  },
  {
   "cell_type": "markdown",
   "metadata": {},
   "source": [
    "### Create TensorFlow session\n",
    "\n",
    "Once the TensorFlow graph has been created, we have to create a TensorFlow session which is used to execute the graph."
   ]
  },
  {
   "cell_type": "code",
   "execution_count": 30,
   "metadata": {
    "collapsed": true
   },
   "outputs": [],
   "source": [
    "session = tf.Session()\n",
    "writer = tf.summary.FileWriter('./graphs', session.graph)"
   ]
  },
  {
   "cell_type": "markdown",
   "metadata": {},
   "source": [
    "### Restore or initialize variables\n",
    "\n",
    "Training this neural network may take a long time, especially if you do not have a GPU. We therefore save checkpoints during training so we can continue training at another time (e.g. during the night), and also for performing analysis later without having to train the neural network every time we want to use it.\n",
    "\n",
    "If you want to restart the training of the neural network, you have to delete the checkpoints first.\n",
    "\n",
    "This is the directory used for the checkpoints."
   ]
  },
  {
   "cell_type": "code",
   "execution_count": 31,
   "metadata": {
    "collapsed": true
   },
   "outputs": [],
   "source": [
    "save_dir = 'alexnet_checkpoints/'"
   ]
  },
  {
   "cell_type": "markdown",
   "metadata": {},
   "source": [
    "Create the directory if it does not exist."
   ]
  },
  {
   "cell_type": "code",
   "execution_count": 32,
   "metadata": {
    "collapsed": true
   },
   "outputs": [],
   "source": [
    "if not os.path.exists(save_dir):\n",
    "    os.makedirs(save_dir)"
   ]
  },
  {
   "cell_type": "markdown",
   "metadata": {},
   "source": [
    "This is the base-filename for the checkpoints, TensorFlow will append the iteration number, etc."
   ]
  },
  {
   "cell_type": "code",
   "execution_count": 33,
   "metadata": {
    "collapsed": true
   },
   "outputs": [],
   "source": [
    "save_path = os.path.join(save_dir, 'cifar10_cnn')"
   ]
  },
  {
   "cell_type": "markdown",
   "metadata": {},
   "source": [
    "First try to restore the latest checkpoint. This may fail and raise an exception e.g. if such a checkpoint does not exist, or if you have changed the TensorFlow graph."
   ]
  },
  {
   "cell_type": "code",
   "execution_count": 34,
   "metadata": {},
   "outputs": [
    {
     "name": "stdout",
     "output_type": "stream",
     "text": [
      "Trying to restore last checkpoint ...\n",
      "INFO:tensorflow:Restoring parameters from None\n",
      "Failed to restore checkpoint. Initializing variables instead.\n"
     ]
    }
   ],
   "source": [
    "try:\n",
    "    print(\"Trying to restore last checkpoint ...\")\n",
    "\n",
    "    # Use TensorFlow to find the latest checkpoint - if any.\n",
    "    last_chk_path = tf.train.latest_checkpoint(checkpoint_dir=save_dir)\n",
    "\n",
    "    # Try and load the data in the checkpoint.\n",
    "    saver.restore(session, save_path=last_chk_path)\n",
    "\n",
    "    # If we get to this point, the checkpoint was successfully loaded.\n",
    "    print(\"Restored checkpoint from:\", last_chk_path)\n",
    "except:\n",
    "    # If the above failed for some reason, simply\n",
    "    # initialize all the variables for the TensorFlow graph.\n",
    "    print(\"Failed to restore checkpoint. Initializing variables instead.\")\n",
    "    session.run(tf.global_variables_initializer())"
   ]
  },
  {
   "cell_type": "markdown",
   "metadata": {},
   "source": [
    "### Helper-function to get a random training-batch"
   ]
  },
  {
   "cell_type": "markdown",
   "metadata": {},
   "source": [
    "There are 50,000 images in the training-set. It takes a long time to calculate the gradient of the model using all these images. We therefore only use a small batch of images in each iteration of the optimizer.\n",
    "\n",
    "If your computer crashes or becomes very slow because you run out of RAM, then you may try and lower this number, but you may then need to perform more optimization iterations."
   ]
  },
  {
   "cell_type": "code",
   "execution_count": 35,
   "metadata": {
    "collapsed": true
   },
   "outputs": [],
   "source": [
    "train_batch_size = 64"
   ]
  },
  {
   "cell_type": "markdown",
   "metadata": {},
   "source": [
    "Function for selecting a random batch of images from the training-set."
   ]
  },
  {
   "cell_type": "code",
   "execution_count": 36,
   "metadata": {
    "collapsed": true
   },
   "outputs": [],
   "source": [
    "def random_batch():\n",
    "    # Number of images in the training-set.\n",
    "    num_images = len(images_train)\n",
    "\n",
    "    # Create a random index.\n",
    "    idx = np.random.choice(num_images,\n",
    "                           size=train_batch_size,\n",
    "                           replace=False)\n",
    "\n",
    "    # Use the random index to select random images and labels.\n",
    "    x_batch = images_train[idx, :, :, :]\n",
    "    y_batch = labels_train[idx, :]\n",
    "\n",
    "    return x_batch, y_batch"
   ]
  },
  {
   "cell_type": "markdown",
   "metadata": {},
   "source": [
    "### Optimization"
   ]
  },
  {
   "cell_type": "markdown",
   "metadata": {},
   "source": [
    "The progress is printed every 100 iterations. A checkpoint is saved every 1000 iterations and also after the last iteration."
   ]
  },
  {
   "cell_type": "code",
   "execution_count": 37,
   "metadata": {
    "collapsed": true
   },
   "outputs": [],
   "source": [
    "def optimize(num_iterations):\n",
    "    # Start-time used for printing time-usage below.\n",
    "    start_time = time.time()\n",
    "\n",
    "    for i in range(num_iterations):\n",
    "        # Get a batch of training examples.\n",
    "        # x_batch now holds a batch of images and\n",
    "        # y_true_batch are the true labels for those images.\n",
    "        x_batch, y_true_batch = random_batch()\n",
    "\n",
    "        # Put the batch into a dict with the proper names\n",
    "        # for placeholder variables in the TensorFlow graph.\n",
    "        feed_dict_train = {x: x_batch,\n",
    "                           y_true: y_true_batch}\n",
    "\n",
    "        # Run the optimizer using this batch of training data.\n",
    "        # TensorFlow assigns the variables in feed_dict_train\n",
    "        # to the placeholder variables and then runs the optimizer.\n",
    "        # We also want to retrieve the global_step counter.\n",
    "        i_global, current_loss, _ = session.run([global_step, loss, optimizer],\n",
    "                                  feed_dict=feed_dict_train)\n",
    "        \n",
    "        # Print status to screen every 100 iterations (and last).\n",
    "        if (i_global % 100 == 0) or (i == num_iterations - 1):\n",
    "            # Calculate the accuracy on the training-batch.            \n",
    "            batch_acc = session.run(accuracy,\n",
    "                                    feed_dict=feed_dict_train)\n",
    "\n",
    "            # Print status.\n",
    "            msg = \"Global Step: {0:>6}, Loss: {1:>6}, Training Batch Accuracy: {2:>6.1%}\"\n",
    "            print(msg.format(i_global, current_loss, batch_acc))\n",
    "\n",
    "        # Save a checkpoint to disk every 1000 iterations (and last).\n",
    "        if (i_global % 1000 == 0) or (i == num_iterations - 1):\n",
    "            # Save all variables of the TensorFlow graph to a\n",
    "            # checkpoint. Append the global_step counter\n",
    "            # to the filename so we save the last several checkpoints.\n",
    "            saver.save(session,\n",
    "                       save_path=save_path,\n",
    "                       global_step=global_step)\n",
    "\n",
    "            print(\"Saved checkpoint.\")\n",
    "\n",
    "    # Ending time.\n",
    "    end_time = time.time()\n",
    "\n",
    "    # Difference between start and end-times.\n",
    "    time_dif = end_time - start_time\n",
    "\n",
    "    # Print the time-usage.\n",
    "    print(\"Time usage: \" + str(timedelta(seconds=int(round(time_dif)))))"
   ]
  },
  {
   "cell_type": "markdown",
   "metadata": {},
   "source": [
    "### Plot example errors"
   ]
  },
  {
   "cell_type": "markdown",
   "metadata": {},
   "source": [
    "Function for plotting examples of images from the test-set that have been mis-classified."
   ]
  },
  {
   "cell_type": "code",
   "execution_count": 38,
   "metadata": {
    "collapsed": true
   },
   "outputs": [],
   "source": [
    "def plot_example_errors(cls_pred, correct):\n",
    "    # This function is called from print_test_accuracy() below.\n",
    "\n",
    "    # cls_pred is an array of the predicted class-number for\n",
    "    # all images in the test-set.\n",
    "\n",
    "    # correct is a boolean array whether the predicted class\n",
    "    # is equal to the true class for each image in the test-set.\n",
    "\n",
    "    # Negate the boolean array.\n",
    "    incorrect = (correct == False)\n",
    "    \n",
    "    # Get the images from the test-set that have been\n",
    "    # incorrectly classified.\n",
    "    images = images_test[incorrect]\n",
    "    \n",
    "    # Get the predicted classes for those images.\n",
    "    cls_pred = cls_pred[incorrect]\n",
    "\n",
    "    # Get the true classes for those images.\n",
    "    cls_true = cls_test[incorrect]\n",
    "    \n",
    "    # Plot the first 9 images.\n",
    "    plot_images(images=images[0:9],\n",
    "                cls_true=cls_true[0:9],\n",
    "                cls_pred=cls_pred[0:9])"
   ]
  },
  {
   "cell_type": "markdown",
   "metadata": {},
   "source": [
    "### Plot confusion matrix"
   ]
  },
  {
   "cell_type": "code",
   "execution_count": 39,
   "metadata": {
    "collapsed": true
   },
   "outputs": [],
   "source": [
    "def plot_confusion_matrix(cls_pred):\n",
    "    # This is called from print_test_accuracy() below.\n",
    "\n",
    "    # cls_pred is an array of the predicted class-number for\n",
    "    # all images in the test-set.\n",
    "\n",
    "    # Get the confusion matrix using sklearn.\n",
    "    cm = confusion_matrix(y_true=cls_test,  # True class for test-set.\n",
    "                          y_pred=cls_pred)  # Predicted class.\n",
    "\n",
    "    # Print the confusion matrix as text.\n",
    "    for i in range(num_classes):\n",
    "        # Append the class-name to each line.\n",
    "        class_name = \"({}) {}\".format(i, class_names[i])\n",
    "        print(cm[i, :], class_name)\n",
    "\n",
    "    # Print the class-numbers for easy reference.\n",
    "    class_numbers = [\" ({0})\".format(i) for i in range(num_classes)]\n",
    "    print(\"\".join(class_numbers))"
   ]
  },
  {
   "cell_type": "markdown",
   "metadata": {},
   "source": [
    "### Calculating classifications\n",
    "\n",
    "This function calculates the predicted classes of images and also returns a boolean array whether the classification of each image is correct.\n",
    "\n",
    "The calculation is done in batches because it might use too much RAM otherwise. If your computer crashes then you can try and lower the batch-size."
   ]
  },
  {
   "cell_type": "code",
   "execution_count": 40,
   "metadata": {
    "collapsed": true
   },
   "outputs": [],
   "source": [
    "# Split the data-set in batches of this size to limit RAM usage.\n",
    "batch_size = 256\n",
    "\n",
    "def predict_cls(images, labels, cls_true):\n",
    "    # Number of images.\n",
    "    num_images = len(images)\n",
    "\n",
    "    # Allocate an array for the predicted classes which\n",
    "    # will be calculated in batches and filled into this array.\n",
    "    cls_pred = np.zeros(shape=num_images, dtype=np.int)\n",
    "\n",
    "    # Now calculate the predicted classes for the batches.\n",
    "    # We will just iterate through all the batches.\n",
    "    # There might be a more clever and Pythonic way of doing this.\n",
    "\n",
    "    # The starting index for the next batch is denoted i.\n",
    "    i = 0\n",
    "\n",
    "    while i < num_images:\n",
    "        # The ending index for the next batch is denoted j.\n",
    "        j = min(i + batch_size, num_images)\n",
    "\n",
    "        # Create a feed-dict with the images and labels\n",
    "        # between index i and j.\n",
    "        feed_dict = {x: images[i:j, :],\n",
    "                     y_true: labels[i:j, :]}\n",
    "\n",
    "        # Calculate the predicted class using TensorFlow.\n",
    "        cls_pred[i:j] = session.run(y_pred_cls, feed_dict=feed_dict)\n",
    "\n",
    "        # Set the start-index for the next batch to the\n",
    "        # end-index of the current batch.\n",
    "        i = j\n",
    "\n",
    "    # Create a boolean array whether each image is correctly classified.\n",
    "    correct = (cls_true == cls_pred)\n",
    "\n",
    "    return correct, cls_pred"
   ]
  },
  {
   "cell_type": "markdown",
   "metadata": {},
   "source": [
    "Calculate the predicted class for the test-set."
   ]
  },
  {
   "cell_type": "code",
   "execution_count": 41,
   "metadata": {
    "collapsed": true
   },
   "outputs": [],
   "source": [
    "def predict_cls_test():\n",
    "    return predict_cls(images = images_test,\n",
    "                       labels = labels_test,\n",
    "                       cls_true = cls_test)"
   ]
  },
  {
   "cell_type": "markdown",
   "metadata": {},
   "source": [
    "### Helper-functions for the classification accuracy\n",
    "\n",
    "This function calculates the classification accuracy given a boolean array whether each image was correctly classified. E.g. `classification_accuracy([True, True, False, False, False]) = 2/5 = 0.4`. The function also returns the number of correct classifications."
   ]
  },
  {
   "cell_type": "code",
   "execution_count": 42,
   "metadata": {
    "collapsed": true
   },
   "outputs": [],
   "source": [
    "def classification_accuracy(correct):\n",
    "    # When averaging a boolean array, False means 0 and True means 1.\n",
    "    # So we are calculating: number of True / len(correct) which is\n",
    "    # the same as the classification accuracy.\n",
    "    \n",
    "    # Return the classification accuracy\n",
    "    # and the number of correct classifications.\n",
    "    return correct.mean(), correct.sum()"
   ]
  },
  {
   "cell_type": "markdown",
   "metadata": {},
   "source": [
    "### Helper-function for showing the performance"
   ]
  },
  {
   "cell_type": "markdown",
   "metadata": {},
   "source": [
    "Function for printing the classification accuracy on the test-set.\n",
    "\n",
    "It takes a while to compute the classification for all the images in the test-set, that's why the results are re-used by calling the above functions directly from this function, so the classifications don't have to be recalculated by each function."
   ]
  },
  {
   "cell_type": "code",
   "execution_count": 43,
   "metadata": {
    "collapsed": true
   },
   "outputs": [],
   "source": [
    "def print_test_accuracy(show_example_errors=False,\n",
    "                        show_confusion_matrix=False):\n",
    "\n",
    "    # For all the images in the test-set,\n",
    "    # calculate the predicted classes and whether they are correct.\n",
    "    correct, cls_pred = predict_cls_test()\n",
    "    \n",
    "    # Classification accuracy and the number of correct classifications.\n",
    "    acc, num_correct = classification_accuracy(correct)\n",
    "    \n",
    "    # Number of images being classified.\n",
    "    num_images = len(correct)\n",
    "\n",
    "    # Print the accuracy.\n",
    "    msg = \"Accuracy on Test-Set: {0:.1%} ({1} / {2})\"\n",
    "    print(msg.format(acc, num_correct, num_images))\n",
    "\n",
    "    # Plot some examples of mis-classifications, if desired.\n",
    "    if show_example_errors:\n",
    "        print(\"Example errors:\")\n",
    "        plot_example_errors(cls_pred=cls_pred, correct=correct)\n",
    "\n",
    "    # Plot the confusion matrix, if desired.\n",
    "    if show_confusion_matrix:\n",
    "        print(\"Confusion Matrix:\")\n",
    "        plot_confusion_matrix(cls_pred=cls_pred)"
   ]
  },
  {
   "cell_type": "markdown",
   "metadata": {},
   "source": [
    "### Helper-function for plotting convolutional weights"
   ]
  },
  {
   "cell_type": "code",
   "execution_count": 44,
   "metadata": {
    "collapsed": true
   },
   "outputs": [],
   "source": [
    "def plot_conv_weights(weights, input_channel=0):\n",
    "    # Assume weights are TensorFlow ops for 4-dim variables\n",
    "    # e.g. weights_conv1 or weights_conv2.\n",
    "\n",
    "    # Retrieve the values of the weight-variables from TensorFlow.\n",
    "    # A feed-dict is not necessary because nothing is calculated.\n",
    "    w = session.run(weights)\n",
    "\n",
    "    # Print statistics for the weights.\n",
    "    print(\"Min:  {0:.5f}, Max:   {1:.5f}\".format(w.min(), w.max()))\n",
    "    print(\"Mean: {0:.5f}, Stdev: {1:.5f}\".format(w.mean(), w.std()))\n",
    "    \n",
    "    # Get the lowest and highest values for the weights.\n",
    "    # This is used to correct the colour intensity across\n",
    "    # the images so they can be compared with each other.\n",
    "    w_min = np.min(w)\n",
    "    w_max = np.max(w)\n",
    "    abs_max = max(abs(w_min), abs(w_max))\n",
    "\n",
    "    # Number of filters used in the conv. layer.\n",
    "    num_filters = w.shape[3]\n",
    "\n",
    "    # Number of grids to plot.\n",
    "    # Rounded-up, square-root of the number of filters.\n",
    "    num_grids = math.ceil(math.sqrt(num_filters))\n",
    "    \n",
    "    # Create figure with a grid of sub-plots.\n",
    "    fig, axes = plt.subplots(num_grids, num_grids)\n",
    "\n",
    "    # Plot all the filter-weights.\n",
    "    for i, ax in enumerate(axes.flat):\n",
    "        # Only plot the valid filter-weights.\n",
    "        if i<num_filters:\n",
    "            # Get the weights for the i'th filter of the input channel.\n",
    "            # The format of this 4-dim tensor is determined by the\n",
    "            img = w[:, :, input_channel, i]\n",
    "\n",
    "            # Plot image.\n",
    "            ax.imshow(img, vmin=-abs_max, vmax=abs_max,\n",
    "                      interpolation='nearest', cmap='seismic')\n",
    "        \n",
    "        # Remove ticks from the plot.\n",
    "        ax.set_xticks([])\n",
    "        ax.set_yticks([])\n",
    "    \n",
    "    # Ensure the plot is shown correctly with multiple plots\n",
    "    # in a single Notebook cell.\n",
    "    plt.show()"
   ]
  },
  {
   "cell_type": "markdown",
   "metadata": {},
   "source": [
    "### Helper-function for plotting the output of convolutional layers"
   ]
  },
  {
   "cell_type": "code",
   "execution_count": 45,
   "metadata": {
    "collapsed": true
   },
   "outputs": [],
   "source": [
    "def plot_layer_output(layer_output, image):\n",
    "    # Assume layer_output is a 4-dim tensor\n",
    "    # e.g. output_conv1 or output_conv2.\n",
    "\n",
    "    # Create a feed-dict which holds the single input image.\n",
    "    # Note that TensorFlow needs a list of images,\n",
    "    # so we just create a list with this one image.\n",
    "    feed_dict = {x: [image]}\n",
    "    \n",
    "    # Retrieve the output of the layer after inputting this image.\n",
    "    values = session.run(layer_output, feed_dict=feed_dict)\n",
    "\n",
    "    # Get the lowest and highest values.\n",
    "    # This is used to correct the colour intensity across\n",
    "    # the images so they can be compared with each other.\n",
    "    values_min = np.min(values)\n",
    "    values_max = np.max(values)\n",
    "\n",
    "    # Number of image channels output by the conv. layer.\n",
    "    num_images = values.shape[3]\n",
    "\n",
    "    # Number of grid-cells to plot.\n",
    "    # Rounded-up, square-root of the number of filters.\n",
    "    num_grids = math.ceil(math.sqrt(num_images))\n",
    "    \n",
    "    # Create figure with a grid of sub-plots.\n",
    "    fig, axes = plt.subplots(num_grids, num_grids)\n",
    "\n",
    "    # Plot all the filter-weights.\n",
    "    for i, ax in enumerate(axes.flat):\n",
    "        # Only plot the valid image-channels.\n",
    "        if i<num_images:\n",
    "            # Get the images for the i'th output channel.\n",
    "            img = values[0, :, :, i]\n",
    "\n",
    "            # Plot image.\n",
    "            ax.imshow(img, vmin=values_min, vmax=values_max,\n",
    "                      interpolation='nearest', cmap='binary')\n",
    "        \n",
    "        # Remove ticks from the plot.\n",
    "        ax.set_xticks([])\n",
    "        ax.set_yticks([])\n",
    "    \n",
    "    # Ensure the plot is shown correctly with multiple plots\n",
    "    # in a single Notebook cell.\n",
    "    plt.show()"
   ]
  },
  {
   "cell_type": "markdown",
   "metadata": {},
   "source": [
    "## Examples of distorted input images"
   ]
  },
  {
   "cell_type": "markdown",
   "metadata": {},
   "source": [
    "In order to artificially inflate the number of images available for training, the neural network uses pre-processing with random distortions of the input images. This should hopefully make the neural network more flexible at recognizing and classifying images.\n",
    "\n",
    "This is a helper-function for plotting distorted input images."
   ]
  },
  {
   "cell_type": "code",
   "execution_count": 46,
   "metadata": {
    "collapsed": true
   },
   "outputs": [],
   "source": [
    "def plot_distorted_image(image, cls_true):\n",
    "    # Repeat the input image 9 times.\n",
    "    image_duplicates = np.repeat(image[np.newaxis, :, :, :], 9, axis=0)\n",
    "\n",
    "    # Create a feed-dict for TensorFlow.\n",
    "    feed_dict = {x: image_duplicates}\n",
    "\n",
    "    # Calculate only the pre-processing of the TensorFlow graph\n",
    "    # which distorts the images in the feed-dict.\n",
    "    result = session.run(distorted_images, feed_dict=feed_dict)\n",
    "\n",
    "    # Plot the images.\n",
    "    plot_images(images=result, cls_true=np.repeat(cls_true, 9))"
   ]
  },
  {
   "cell_type": "markdown",
   "metadata": {},
   "source": [
    "Helper-function for getting an image and its class-number from the test-set."
   ]
  },
  {
   "cell_type": "code",
   "execution_count": 47,
   "metadata": {
    "collapsed": true
   },
   "outputs": [],
   "source": [
    "def get_test_image(i):\n",
    "    return images_test[i, :, :, :], cls_test[i]"
   ]
  },
  {
   "cell_type": "markdown",
   "metadata": {},
   "source": [
    "Get an image and its true class from the test-set."
   ]
  },
  {
   "cell_type": "code",
   "execution_count": 48,
   "metadata": {
    "collapsed": true
   },
   "outputs": [],
   "source": [
    "img, cls = get_test_image(16)"
   ]
  },
  {
   "cell_type": "markdown",
   "metadata": {},
   "source": [
    "Plot 9 random distortions of the image. If you re-run this code you will get slightly different results."
   ]
  },
  {
   "cell_type": "code",
   "execution_count": 49,
   "metadata": {
    "scrolled": true
   },
   "outputs": [
    {
     "data": {
      "image/png": "[encoded data removed]",
      "text/plain": [
       "<matplotlib.figure.Figure at 0x7fb5adcbe438>"
      ]
     },
     "metadata": {},
     "output_type": "display_data"
    }
   ],
   "source": [
    "plot_distorted_image(img, cls)"
   ]
  },
  {
   "cell_type": "markdown",
   "metadata": {},
   "source": [
    "## Perform optimization"
   ]
  },
  {
   "cell_type": "code",
   "execution_count": 50,
   "metadata": {
    "scrolled": true
   },
   "outputs": [
    {
     "name": "stdout",
     "output_type": "stream",
     "text": [
      "Global Step:    100, Loss: 31.837968826293945, Training Batch Accuracy:  17.2%\n",
      "Global Step:    200, Loss: 14.491331100463867, Training Batch Accuracy:   6.2%\n",
      "Global Step:    300, Loss: 10.365944862365723, Training Batch Accuracy:  15.6%\n",
      "Global Step:    400, Loss: 6.625391006469727, Training Batch Accuracy:   4.7%\n",
      "Global Step:    500, Loss: 5.563695907592773, Training Batch Accuracy:  18.8%\n",
      "Global Step:    600, Loss: 5.362011909484863, Training Batch Accuracy:  23.4%\n",
      "Global Step:    700, Loss: 5.021462440490723, Training Batch Accuracy:   7.8%\n",
      "Global Step:    800, Loss: 4.786982536315918, Training Batch Accuracy:  15.6%\n",
      "Global Step:    900, Loss: 3.5189414024353027, Training Batch Accuracy:  18.8%\n",
      "Global Step:   1000, Loss: 3.616415023803711, Training Batch Accuracy:   7.8%\n",
      "Saved checkpoint.\n",
      "Global Step:   1100, Loss: 3.193256139755249, Training Batch Accuracy:  12.5%\n",
      "Global Step:   1200, Loss: 3.101609945297241, Training Batch Accuracy:  12.5%\n",
      "Global Step:   1300, Loss: 3.140077590942383, Training Batch Accuracy:  12.5%\n",
      "Global Step:   1400, Loss: 2.9736487865448, Training Batch Accuracy:  14.1%\n",
      "Global Step:   1500, Loss: 3.1126856803894043, Training Batch Accuracy:  21.9%\n",
      "Global Step:   1600, Loss: 3.090052843093872, Training Batch Accuracy:  20.3%\n",
      "Global Step:   1700, Loss: 2.8059911727905273, Training Batch Accuracy:  29.7%\n",
      "Global Step:   1800, Loss: 3.0438413619995117, Training Batch Accuracy:  15.6%\n",
      "Global Step:   1900, Loss: 2.925201654434204, Training Batch Accuracy:  25.0%\n",
      "Global Step:   2000, Loss: 3.2576797008514404, Training Batch Accuracy:  21.9%\n",
      "Saved checkpoint.\n",
      "Global Step:   2100, Loss: 2.7208449840545654, Training Batch Accuracy:   9.4%\n",
      "Global Step:   2200, Loss: 2.6427314281463623, Training Batch Accuracy:  17.2%\n",
      "Global Step:   2300, Loss: 2.724928379058838, Training Batch Accuracy:  26.6%\n",
      "Global Step:   2400, Loss: 2.6065640449523926, Training Batch Accuracy:  17.2%\n",
      "Global Step:   2500, Loss: 2.4097182750701904, Training Batch Accuracy:   9.4%\n",
      "Global Step:   2600, Loss: 2.416633129119873, Training Batch Accuracy:  17.2%\n",
      "Global Step:   2700, Loss: 2.5735177993774414, Training Batch Accuracy:  21.9%\n",
      "Global Step:   2800, Loss: 2.5604727268218994, Training Batch Accuracy:  14.1%\n",
      "Global Step:   2900, Loss: 2.343705654144287, Training Batch Accuracy:  21.9%\n",
      "Global Step:   3000, Loss: 2.31337833404541, Training Batch Accuracy:  15.6%\n",
      "Saved checkpoint.\n",
      "Global Step:   3100, Loss: 2.5557518005371094, Training Batch Accuracy:  17.2%\n",
      "Global Step:   3200, Loss: 2.5335745811462402, Training Batch Accuracy:  17.2%\n",
      "Global Step:   3300, Loss: 2.40995454788208, Training Batch Accuracy:  23.4%\n",
      "Global Step:   3400, Loss: 2.2392284870147705, Training Batch Accuracy:  14.1%\n",
      "Global Step:   3500, Loss: 2.447406768798828, Training Batch Accuracy:  17.2%\n",
      "Global Step:   3600, Loss: 2.2976438999176025, Training Batch Accuracy:  14.1%\n",
      "Global Step:   3700, Loss: 2.1615865230560303, Training Batch Accuracy:  14.1%\n",
      "Global Step:   3800, Loss: 2.2446365356445312, Training Batch Accuracy:  21.9%\n",
      "Global Step:   3900, Loss: 2.578167676925659, Training Batch Accuracy:  23.4%\n",
      "Global Step:   4000, Loss: 2.231084108352661, Training Batch Accuracy:  23.4%\n",
      "Saved checkpoint.\n",
      "Global Step:   4100, Loss: 2.1885342597961426, Training Batch Accuracy:  18.8%\n",
      "Global Step:   4200, Loss: 2.2124104499816895, Training Batch Accuracy:  14.1%\n",
      "Global Step:   4300, Loss: 2.1378793716430664, Training Batch Accuracy:  21.9%\n",
      "Global Step:   4400, Loss: 2.2543513774871826, Training Batch Accuracy:  25.0%\n",
      "Global Step:   4500, Loss: 2.247760534286499, Training Batch Accuracy:  20.3%\n",
      "Global Step:   4600, Loss: 2.4375884532928467, Training Batch Accuracy:  18.8%\n",
      "Global Step:   4700, Loss: 2.271340847015381, Training Batch Accuracy:  20.3%\n",
      "Global Step:   4800, Loss: 2.29971981048584, Training Batch Accuracy:  17.2%\n",
      "Global Step:   4900, Loss: 2.33821964263916, Training Batch Accuracy:  23.4%\n",
      "Global Step:   5000, Loss: 2.212097406387329, Training Batch Accuracy:  25.0%\n",
      "Saved checkpoint.\n",
      "Global Step:   5100, Loss: 2.1322407722473145, Training Batch Accuracy:  23.4%\n",
      "Global Step:   5200, Loss: 2.2612791061401367, Training Batch Accuracy:  21.9%\n",
      "Global Step:   5300, Loss: 2.1555979251861572, Training Batch Accuracy:  31.2%\n",
      "Global Step:   5400, Loss: 2.071904420852661, Training Batch Accuracy:  15.6%\n",
      "Global Step:   5500, Loss: 2.158823251724243, Training Batch Accuracy:  12.5%\n",
      "Global Step:   5600, Loss: 2.2095847129821777, Training Batch Accuracy:  17.2%\n",
      "Global Step:   5700, Loss: 2.1878886222839355, Training Batch Accuracy:  12.5%\n",
      "Global Step:   5800, Loss: 2.0862088203430176, Training Batch Accuracy:  15.6%\n",
      "Global Step:   5900, Loss: 2.038808822631836, Training Batch Accuracy:  25.0%\n",
      "Global Step:   6000, Loss: 2.1046504974365234, Training Batch Accuracy:  21.9%\n",
      "Saved checkpoint.\n",
      "Global Step:   6100, Loss: 2.130788564682007, Training Batch Accuracy:  28.1%\n",
      "Global Step:   6200, Loss: 2.017650842666626, Training Batch Accuracy:  28.1%\n",
      "Global Step:   6300, Loss: 2.036525249481201, Training Batch Accuracy:  26.6%\n",
      "Global Step:   6400, Loss: 2.075450897216797, Training Batch Accuracy:  26.6%\n",
      "Global Step:   6500, Loss: 2.025341510772705, Training Batch Accuracy:  28.1%\n",
      "Global Step:   6600, Loss: 1.9828238487243652, Training Batch Accuracy:  26.6%\n",
      "Global Step:   6700, Loss: 2.2405624389648438, Training Batch Accuracy:  12.5%\n",
      "Global Step:   6800, Loss: 2.1691532135009766, Training Batch Accuracy:  20.3%\n",
      "Global Step:   6900, Loss: 2.132997512817383, Training Batch Accuracy:  25.0%\n",
      "Global Step:   7000, Loss: 2.102468729019165, Training Batch Accuracy:  12.5%\n",
      "Saved checkpoint.\n",
      "Global Step:   7100, Loss: 2.099824905395508, Training Batch Accuracy:  34.4%\n",
      "Global Step:   7200, Loss: 1.9827864170074463, Training Batch Accuracy:  28.1%\n",
      "Global Step:   7300, Loss: 2.182084083557129, Training Batch Accuracy:  21.9%\n",
      "Global Step:   7400, Loss: 2.259232997894287, Training Batch Accuracy:  25.0%\n",
      "Global Step:   7500, Loss: 2.160175323486328, Training Batch Accuracy:  31.2%\n",
      "Global Step:   7600, Loss: 2.1003170013427734, Training Batch Accuracy:  23.4%\n",
      "Global Step:   7700, Loss: 2.1072769165039062, Training Batch Accuracy:  17.2%\n",
      "Global Step:   7800, Loss: 2.227104425430298, Training Batch Accuracy:  25.0%\n",
      "Global Step:   7900, Loss: 2.0343174934387207, Training Batch Accuracy:  20.3%\n",
      "Global Step:   8000, Loss: 1.9786518812179565, Training Batch Accuracy:  25.0%\n",
      "Saved checkpoint.\n",
      "Global Step:   8100, Loss: 2.069784641265869, Training Batch Accuracy:  28.1%\n",
      "Global Step:   8200, Loss: 2.0735583305358887, Training Batch Accuracy:  29.7%\n",
      "Global Step:   8300, Loss: 2.0218377113342285, Training Batch Accuracy:  32.8%\n",
      "Global Step:   8400, Loss: 2.189634323120117, Training Batch Accuracy:  26.6%\n",
      "Global Step:   8500, Loss: 1.891373872756958, Training Batch Accuracy:  39.1%\n",
      "Global Step:   8600, Loss: 2.036992073059082, Training Batch Accuracy:  18.8%\n",
      "Global Step:   8700, Loss: 2.0790305137634277, Training Batch Accuracy:  20.3%\n",
      "Global Step:   8800, Loss: 1.8674287796020508, Training Batch Accuracy:  31.2%\n",
      "Global Step:   8900, Loss: 2.142395257949829, Training Batch Accuracy:  26.6%\n",
      "Global Step:   9000, Loss: 1.837706446647644, Training Batch Accuracy:  23.4%\n",
      "Saved checkpoint.\n",
      "Global Step:   9100, Loss: 1.8879590034484863, Training Batch Accuracy:  40.6%\n",
      "Global Step:   9200, Loss: 1.9630956649780273, Training Batch Accuracy:  32.8%\n",
      "Global Step:   9300, Loss: 1.9214720726013184, Training Batch Accuracy:  35.9%\n",
      "Global Step:   9400, Loss: 1.9357481002807617, Training Batch Accuracy:  32.8%\n",
      "Global Step:   9500, Loss: 1.8798152208328247, Training Batch Accuracy:  28.1%\n",
      "Global Step:   9600, Loss: 1.9201912879943848, Training Batch Accuracy:  28.1%\n",
      "Global Step:   9700, Loss: 2.0210819244384766, Training Batch Accuracy:  35.9%\n",
      "Global Step:   9800, Loss: 2.0969321727752686, Training Batch Accuracy:  23.4%\n",
      "Global Step:   9900, Loss: 1.874300241470337, Training Batch Accuracy:  31.2%\n",
      "Global Step:  10000, Loss: 1.93906569480896, Training Batch Accuracy:  28.1%\n",
      "Saved checkpoint.\n",
      "Global Step:  10100, Loss: 1.9554442167282104, Training Batch Accuracy:  21.9%\n",
      "Global Step:  10200, Loss: 1.8564653396606445, Training Batch Accuracy:  32.8%\n",
      "Global Step:  10300, Loss: 1.9181170463562012, Training Batch Accuracy:  35.9%\n"
     ]
    },
    {
     "name": "stdout",
     "output_type": "stream",
     "text": [
      "Global Step:  10400, Loss: 2.2736294269561768, Training Batch Accuracy:  31.2%\n",
      "Global Step:  10500, Loss: 1.8362197875976562, Training Batch Accuracy:  35.9%\n",
      "Global Step:  10600, Loss: 1.8283913135528564, Training Batch Accuracy:  45.3%\n",
      "Global Step:  10700, Loss: 1.9099586009979248, Training Batch Accuracy:  26.6%\n",
      "Global Step:  10800, Loss: 1.9021186828613281, Training Batch Accuracy:  37.5%\n",
      "Global Step:  10900, Loss: 1.7845838069915771, Training Batch Accuracy:  31.2%\n",
      "Global Step:  11000, Loss: 2.041029930114746, Training Batch Accuracy:  31.2%\n",
      "Saved checkpoint.\n",
      "Global Step:  11100, Loss: 1.8172223567962646, Training Batch Accuracy:  32.8%\n",
      "Global Step:  11200, Loss: 2.126816511154175, Training Batch Accuracy:  37.5%\n",
      "Global Step:  11300, Loss: 1.9247709512710571, Training Batch Accuracy:  35.9%\n",
      "Global Step:  11400, Loss: 1.8554158210754395, Training Batch Accuracy:  28.1%\n",
      "Global Step:  11500, Loss: 1.867363691329956, Training Batch Accuracy:  31.2%\n",
      "Global Step:  11600, Loss: 1.9609861373901367, Training Batch Accuracy:  37.5%\n",
      "Global Step:  11700, Loss: 2.014756679534912, Training Batch Accuracy:  35.9%\n",
      "Global Step:  11800, Loss: 1.9096496105194092, Training Batch Accuracy:  40.6%\n",
      "Global Step:  11900, Loss: 2.0560290813446045, Training Batch Accuracy:  37.5%\n",
      "Global Step:  12000, Loss: 1.8564894199371338, Training Batch Accuracy:  32.8%\n",
      "Saved checkpoint.\n",
      "Global Step:  12100, Loss: 1.932644248008728, Training Batch Accuracy:  42.2%\n",
      "Global Step:  12200, Loss: 2.1770503520965576, Training Batch Accuracy:  32.8%\n",
      "Global Step:  12300, Loss: 1.9190019369125366, Training Batch Accuracy:  32.8%\n",
      "Global Step:  12400, Loss: 2.031708240509033, Training Batch Accuracy:  34.4%\n",
      "Global Step:  12500, Loss: 2.0058183670043945, Training Batch Accuracy:  46.9%\n",
      "Global Step:  12600, Loss: 1.9443190097808838, Training Batch Accuracy:  34.4%\n",
      "Global Step:  12700, Loss: 1.719844102859497, Training Batch Accuracy:  35.9%\n",
      "Global Step:  12800, Loss: 2.004580020904541, Training Batch Accuracy:  31.2%\n",
      "Global Step:  12900, Loss: 1.9875903129577637, Training Batch Accuracy:  34.4%\n",
      "Global Step:  13000, Loss: 1.9764766693115234, Training Batch Accuracy:  46.9%\n",
      "Saved checkpoint.\n",
      "Global Step:  13100, Loss: 1.937575101852417, Training Batch Accuracy:  35.9%\n",
      "Global Step:  13200, Loss: 1.8528046607971191, Training Batch Accuracy:  28.1%\n",
      "Global Step:  13300, Loss: 1.8314443826675415, Training Batch Accuracy:  35.9%\n",
      "Global Step:  13400, Loss: 1.7320146560668945, Training Batch Accuracy:  34.4%\n",
      "Global Step:  13500, Loss: 1.9606437683105469, Training Batch Accuracy:  31.2%\n",
      "Global Step:  13600, Loss: 1.8661165237426758, Training Batch Accuracy:  35.9%\n",
      "Global Step:  13700, Loss: 1.8975592851638794, Training Batch Accuracy:  37.5%\n",
      "Global Step:  13800, Loss: 1.9856648445129395, Training Batch Accuracy:  29.7%\n",
      "Global Step:  13900, Loss: 1.879111886024475, Training Batch Accuracy:  35.9%\n",
      "Global Step:  14000, Loss: 1.958132028579712, Training Batch Accuracy:  25.0%\n",
      "Saved checkpoint.\n",
      "Global Step:  14100, Loss: 1.9270691871643066, Training Batch Accuracy:  39.1%\n",
      "Global Step:  14200, Loss: 1.92655348777771, Training Batch Accuracy:  39.1%\n",
      "Global Step:  14300, Loss: 2.023332357406616, Training Batch Accuracy:  35.9%\n",
      "Global Step:  14400, Loss: 1.7414003610610962, Training Batch Accuracy:  43.8%\n",
      "Global Step:  14500, Loss: 1.790632724761963, Training Batch Accuracy:  48.4%\n",
      "Global Step:  14600, Loss: 1.9055590629577637, Training Batch Accuracy:  32.8%\n",
      "Global Step:  14700, Loss: 1.8402125835418701, Training Batch Accuracy:  43.8%\n",
      "Global Step:  14800, Loss: 1.8032476902008057, Training Batch Accuracy:  46.9%\n",
      "Global Step:  14900, Loss: 1.9929033517837524, Training Batch Accuracy:  39.1%\n",
      "Global Step:  15000, Loss: 2.0900306701660156, Training Batch Accuracy:  40.6%\n",
      "Saved checkpoint.\n",
      "Global Step:  15100, Loss: 1.7281396389007568, Training Batch Accuracy:  39.1%\n",
      "Global Step:  15200, Loss: 1.9101227521896362, Training Batch Accuracy:  32.8%\n",
      "Global Step:  15300, Loss: 1.9120551347732544, Training Batch Accuracy:  40.6%\n",
      "Global Step:  15400, Loss: 1.953078269958496, Training Batch Accuracy:  46.9%\n",
      "Global Step:  15500, Loss: 1.6053826808929443, Training Batch Accuracy:  43.8%\n",
      "Global Step:  15600, Loss: 1.8094661235809326, Training Batch Accuracy:  37.5%\n",
      "Global Step:  15700, Loss: 1.8453271389007568, Training Batch Accuracy:  28.1%\n",
      "Global Step:  15800, Loss: 1.8218111991882324, Training Batch Accuracy:  46.9%\n",
      "Global Step:  15900, Loss: 1.9235899448394775, Training Batch Accuracy:  45.3%\n",
      "Global Step:  16000, Loss: 1.6615242958068848, Training Batch Accuracy:  45.3%\n",
      "Saved checkpoint.\n",
      "Global Step:  16100, Loss: 1.7175676822662354, Training Batch Accuracy:  48.4%\n",
      "Global Step:  16200, Loss: 1.7192198038101196, Training Batch Accuracy:  39.1%\n",
      "Global Step:  16300, Loss: 1.9207507371902466, Training Batch Accuracy:  28.1%\n",
      "Global Step:  16400, Loss: 1.8946970701217651, Training Batch Accuracy:  29.7%\n",
      "Global Step:  16500, Loss: 1.8656511306762695, Training Batch Accuracy:  37.5%\n",
      "Global Step:  16600, Loss: 1.829439401626587, Training Batch Accuracy:  37.5%\n",
      "Global Step:  16700, Loss: 1.7876873016357422, Training Batch Accuracy:  39.1%\n",
      "Global Step:  16800, Loss: 1.9727989435195923, Training Batch Accuracy:  28.1%\n",
      "Global Step:  16900, Loss: 1.8478291034698486, Training Batch Accuracy:  35.9%\n",
      "Global Step:  17000, Loss: 1.5965070724487305, Training Batch Accuracy:  45.3%\n",
      "Saved checkpoint.\n",
      "Global Step:  17100, Loss: 1.940515160560608, Training Batch Accuracy:  39.1%\n",
      "Global Step:  17200, Loss: 1.7094900608062744, Training Batch Accuracy:  35.9%\n",
      "Global Step:  17300, Loss: 1.8385566473007202, Training Batch Accuracy:  43.8%\n",
      "Global Step:  17400, Loss: 1.8536791801452637, Training Batch Accuracy:  39.1%\n",
      "Global Step:  17500, Loss: 1.8455493450164795, Training Batch Accuracy:  42.2%\n",
      "Global Step:  17600, Loss: 1.7136915922164917, Training Batch Accuracy:  51.6%\n",
      "Global Step:  17700, Loss: 2.074502944946289, Training Batch Accuracy:  31.2%\n",
      "Global Step:  17800, Loss: 1.7563732862472534, Training Batch Accuracy:  40.6%\n",
      "Global Step:  17900, Loss: 1.7630631923675537, Training Batch Accuracy:  42.2%\n",
      "Global Step:  18000, Loss: 1.8240582942962646, Training Batch Accuracy:  42.2%\n",
      "Saved checkpoint.\n",
      "Global Step:  18100, Loss: 1.7271530628204346, Training Batch Accuracy:  42.2%\n",
      "Global Step:  18200, Loss: 1.6587245464324951, Training Batch Accuracy:  40.6%\n",
      "Global Step:  18300, Loss: 1.7605552673339844, Training Batch Accuracy:  42.2%\n",
      "Global Step:  18400, Loss: 1.4108433723449707, Training Batch Accuracy:  59.4%\n",
      "Global Step:  18500, Loss: 1.703202724456787, Training Batch Accuracy:  37.5%\n",
      "Global Step:  18600, Loss: 1.6590064764022827, Training Batch Accuracy:  48.4%\n",
      "Global Step:  18700, Loss: 1.6785435676574707, Training Batch Accuracy:  37.5%\n",
      "Global Step:  18800, Loss: 1.6783498525619507, Training Batch Accuracy:  37.5%\n",
      "Global Step:  18900, Loss: 1.7535738945007324, Training Batch Accuracy:  42.2%\n",
      "Global Step:  19000, Loss: 1.7868821620941162, Training Batch Accuracy:  42.2%\n",
      "Saved checkpoint.\n",
      "Global Step:  19100, Loss: 1.6176213026046753, Training Batch Accuracy:  39.1%\n",
      "Global Step:  19200, Loss: 1.5387719869613647, Training Batch Accuracy:  54.7%\n",
      "Global Step:  19300, Loss: 1.6684942245483398, Training Batch Accuracy:  43.8%\n",
      "Global Step:  19400, Loss: 1.4256055355072021, Training Batch Accuracy:  50.0%\n",
      "Global Step:  19500, Loss: 1.6515161991119385, Training Batch Accuracy:  40.6%\n",
      "Global Step:  19600, Loss: 1.936937689781189, Training Batch Accuracy:  34.4%\n",
      "Global Step:  19700, Loss: 1.7429754734039307, Training Batch Accuracy:  43.8%\n",
      "Global Step:  19800, Loss: 1.6754429340362549, Training Batch Accuracy:  46.9%\n",
      "Global Step:  19900, Loss: 1.6234995126724243, Training Batch Accuracy:  46.9%\n",
      "Global Step:  20000, Loss: 1.775136113166809, Training Batch Accuracy:  42.2%\n",
      "Saved checkpoint.\n",
      "Global Step:  20100, Loss: 1.7112982273101807, Training Batch Accuracy:  45.3%\n",
      "Global Step:  20200, Loss: 1.7115817070007324, Training Batch Accuracy:  43.8%\n",
      "Global Step:  20300, Loss: 1.6493619680404663, Training Batch Accuracy:  40.6%\n",
      "Global Step:  20400, Loss: 1.7237648963928223, Training Batch Accuracy:  37.5%\n",
      "Global Step:  20500, Loss: 1.6711351871490479, Training Batch Accuracy:  35.9%\n"
     ]
    },
    {
     "name": "stdout",
     "output_type": "stream",
     "text": [
      "Global Step:  20600, Loss: 1.4898102283477783, Training Batch Accuracy:  50.0%\n",
      "Global Step:  20700, Loss: 1.791377305984497, Training Batch Accuracy:  43.8%\n",
      "Global Step:  20800, Loss: 1.8880317211151123, Training Batch Accuracy:  39.1%\n",
      "Global Step:  20900, Loss: 1.8044514656066895, Training Batch Accuracy:  37.5%\n",
      "Global Step:  21000, Loss: 1.8178577423095703, Training Batch Accuracy:  39.1%\n",
      "Saved checkpoint.\n",
      "Global Step:  21100, Loss: 1.6270917654037476, Training Batch Accuracy:  34.4%\n",
      "Global Step:  21200, Loss: 1.8364088535308838, Training Batch Accuracy:  42.2%\n",
      "Global Step:  21300, Loss: 1.554166316986084, Training Batch Accuracy:  42.2%\n",
      "Global Step:  21400, Loss: 1.6219719648361206, Training Batch Accuracy:  31.2%\n",
      "Global Step:  21500, Loss: 1.6963074207305908, Training Batch Accuracy:  43.8%\n",
      "Global Step:  21600, Loss: 1.8401806354522705, Training Batch Accuracy:  39.1%\n",
      "Global Step:  21700, Loss: 1.530784010887146, Training Batch Accuracy:  48.4%\n",
      "Global Step:  21800, Loss: 1.9951941967010498, Training Batch Accuracy:  42.2%\n",
      "Global Step:  21900, Loss: 1.8044278621673584, Training Batch Accuracy:  39.1%\n",
      "Global Step:  22000, Loss: 1.5959100723266602, Training Batch Accuracy:  42.2%\n",
      "Saved checkpoint.\n",
      "Global Step:  22100, Loss: 1.7091262340545654, Training Batch Accuracy:  51.6%\n",
      "Global Step:  22200, Loss: 1.747184157371521, Training Batch Accuracy:  50.0%\n",
      "Global Step:  22300, Loss: 1.6374927759170532, Training Batch Accuracy:  34.4%\n",
      "Global Step:  22400, Loss: 1.465683937072754, Training Batch Accuracy:  46.9%\n",
      "Global Step:  22500, Loss: 1.7080589532852173, Training Batch Accuracy:  43.8%\n",
      "Global Step:  22600, Loss: 1.7053539752960205, Training Batch Accuracy:  37.5%\n",
      "Global Step:  22700, Loss: 1.7021591663360596, Training Batch Accuracy:  45.3%\n",
      "Global Step:  22800, Loss: 1.6505802869796753, Training Batch Accuracy:  45.3%\n",
      "Global Step:  22900, Loss: 1.6398322582244873, Training Batch Accuracy:  37.5%\n",
      "Global Step:  23000, Loss: 1.6898927688598633, Training Batch Accuracy:  50.0%\n",
      "Saved checkpoint.\n",
      "Global Step:  23100, Loss: 1.6285313367843628, Training Batch Accuracy:  42.2%\n",
      "Global Step:  23200, Loss: 1.6533023118972778, Training Batch Accuracy:  50.0%\n",
      "Global Step:  23300, Loss: 1.7620587348937988, Training Batch Accuracy:  34.4%\n",
      "Global Step:  23400, Loss: 1.689760446548462, Training Batch Accuracy:  42.2%\n",
      "Global Step:  23500, Loss: 1.6648828983306885, Training Batch Accuracy:  53.1%\n",
      "Global Step:  23600, Loss: 1.8737497329711914, Training Batch Accuracy:  43.8%\n",
      "Global Step:  23700, Loss: 1.68375825881958, Training Batch Accuracy:  42.2%\n",
      "Global Step:  23800, Loss: 2.0485353469848633, Training Batch Accuracy:  39.1%\n",
      "Global Step:  23900, Loss: 1.6653661727905273, Training Batch Accuracy:  53.1%\n",
      "Global Step:  24000, Loss: 1.6553630828857422, Training Batch Accuracy:  51.6%\n",
      "Saved checkpoint.\n",
      "Global Step:  24100, Loss: 1.7215371131896973, Training Batch Accuracy:  40.6%\n",
      "Global Step:  24200, Loss: 1.8191792964935303, Training Batch Accuracy:  43.8%\n",
      "Global Step:  24300, Loss: 1.8582758903503418, Training Batch Accuracy:  45.3%\n",
      "Global Step:  24400, Loss: 1.587862253189087, Training Batch Accuracy:  43.8%\n",
      "Global Step:  24500, Loss: 1.643784999847412, Training Batch Accuracy:  42.2%\n",
      "Global Step:  24600, Loss: 1.5702273845672607, Training Batch Accuracy:  48.4%\n",
      "Global Step:  24700, Loss: 1.6131707429885864, Training Batch Accuracy:  53.1%\n",
      "Global Step:  24800, Loss: 1.4761745929718018, Training Batch Accuracy:  56.2%\n",
      "Global Step:  24900, Loss: 1.8051962852478027, Training Batch Accuracy:  31.2%\n",
      "Global Step:  25000, Loss: 1.5252363681793213, Training Batch Accuracy:  50.0%\n",
      "Saved checkpoint.\n",
      "Global Step:  25100, Loss: 1.5246925354003906, Training Batch Accuracy:  54.7%\n",
      "Global Step:  25200, Loss: 1.3737397193908691, Training Batch Accuracy:  50.0%\n",
      "Global Step:  25300, Loss: 1.6161808967590332, Training Batch Accuracy:  54.7%\n",
      "Global Step:  25400, Loss: 1.699915885925293, Training Batch Accuracy:  46.9%\n",
      "Global Step:  25500, Loss: 1.7402074337005615, Training Batch Accuracy:  46.9%\n",
      "Global Step:  25600, Loss: 1.8079609870910645, Training Batch Accuracy:  40.6%\n",
      "Global Step:  25700, Loss: 1.5596911907196045, Training Batch Accuracy:  48.4%\n",
      "Global Step:  25800, Loss: 1.3901780843734741, Training Batch Accuracy:  53.1%\n",
      "Global Step:  25900, Loss: 1.4866058826446533, Training Batch Accuracy:  46.9%\n",
      "Global Step:  26000, Loss: 1.7193773984909058, Training Batch Accuracy:  39.1%\n",
      "Saved checkpoint.\n",
      "Global Step:  26100, Loss: 1.9140071868896484, Training Batch Accuracy:  29.7%\n",
      "Global Step:  26200, Loss: 1.4395301342010498, Training Batch Accuracy:  46.9%\n",
      "Global Step:  26300, Loss: 1.7083592414855957, Training Batch Accuracy:  43.8%\n",
      "Global Step:  26400, Loss: 1.5362868309020996, Training Batch Accuracy:  42.2%\n",
      "Global Step:  26500, Loss: 1.8003358840942383, Training Batch Accuracy:  46.9%\n",
      "Global Step:  26600, Loss: 1.5135498046875, Training Batch Accuracy:  54.7%\n",
      "Global Step:  26700, Loss: 1.5699586868286133, Training Batch Accuracy:  54.7%\n",
      "Global Step:  26800, Loss: 1.5265767574310303, Training Batch Accuracy:  51.6%\n",
      "Global Step:  26900, Loss: 1.3245935440063477, Training Batch Accuracy:  54.7%\n",
      "Global Step:  27000, Loss: 1.6285302639007568, Training Batch Accuracy:  37.5%\n",
      "Saved checkpoint.\n",
      "Global Step:  27100, Loss: 1.511063814163208, Training Batch Accuracy:  43.8%\n",
      "Global Step:  27200, Loss: 1.6278109550476074, Training Batch Accuracy:  48.4%\n",
      "Global Step:  27300, Loss: 1.7261176109313965, Training Batch Accuracy:  45.3%\n",
      "Global Step:  27400, Loss: 1.874783992767334, Training Batch Accuracy:  39.1%\n",
      "Global Step:  27500, Loss: 1.9124116897583008, Training Batch Accuracy:  37.5%\n",
      "Global Step:  27600, Loss: 1.6546170711517334, Training Batch Accuracy:  51.6%\n",
      "Global Step:  27700, Loss: 1.7306843996047974, Training Batch Accuracy:  53.1%\n",
      "Global Step:  27800, Loss: 1.5478997230529785, Training Batch Accuracy:  50.0%\n",
      "Global Step:  27900, Loss: 1.6334284543991089, Training Batch Accuracy:  35.9%\n",
      "Global Step:  28000, Loss: 1.5543626546859741, Training Batch Accuracy:  50.0%\n",
      "Saved checkpoint.\n",
      "Global Step:  28100, Loss: 1.5150411128997803, Training Batch Accuracy:  50.0%\n",
      "Global Step:  28200, Loss: 1.4832830429077148, Training Batch Accuracy:  59.4%\n",
      "Global Step:  28300, Loss: 1.4520714282989502, Training Batch Accuracy:  54.7%\n",
      "Global Step:  28400, Loss: 1.5363051891326904, Training Batch Accuracy:  50.0%\n",
      "Global Step:  28500, Loss: 1.6208288669586182, Training Batch Accuracy:  57.8%\n",
      "Global Step:  28600, Loss: 1.594684362411499, Training Batch Accuracy:  40.6%\n",
      "Global Step:  28700, Loss: 1.5204670429229736, Training Batch Accuracy:  48.4%\n",
      "Global Step:  28800, Loss: 1.7176436185836792, Training Batch Accuracy:  50.0%\n",
      "Global Step:  28900, Loss: 1.5827105045318604, Training Batch Accuracy:  48.4%\n",
      "Global Step:  29000, Loss: 1.4896734952926636, Training Batch Accuracy:  56.2%\n",
      "Saved checkpoint.\n",
      "Global Step:  29100, Loss: 1.6853036880493164, Training Batch Accuracy:  53.1%\n",
      "Global Step:  29200, Loss: 1.660902976989746, Training Batch Accuracy:  46.9%\n",
      "Global Step:  29300, Loss: 1.3580800294876099, Training Batch Accuracy:  53.1%\n",
      "Global Step:  29400, Loss: 1.8177335262298584, Training Batch Accuracy:  40.6%\n",
      "Global Step:  29500, Loss: 1.7594380378723145, Training Batch Accuracy:  50.0%\n",
      "Global Step:  29600, Loss: 1.434010624885559, Training Batch Accuracy:  48.4%\n",
      "Global Step:  29700, Loss: 1.7044111490249634, Training Batch Accuracy:  45.3%\n",
      "Global Step:  29800, Loss: 1.5465465784072876, Training Batch Accuracy:  60.9%\n",
      "Global Step:  29900, Loss: 1.4757680892944336, Training Batch Accuracy:  46.9%\n",
      "Global Step:  30000, Loss: 1.3221967220306396, Training Batch Accuracy:  46.9%\n",
      "Saved checkpoint.\n",
      "Global Step:  30100, Loss: 1.4934298992156982, Training Batch Accuracy:  46.9%\n",
      "Global Step:  30200, Loss: 1.592512845993042, Training Batch Accuracy:  54.7%\n",
      "Global Step:  30300, Loss: 1.721881628036499, Training Batch Accuracy:  43.8%\n",
      "Global Step:  30400, Loss: 1.6595330238342285, Training Batch Accuracy:  53.1%\n",
      "Global Step:  30500, Loss: 1.5600347518920898, Training Batch Accuracy:  51.6%\n",
      "Global Step:  30600, Loss: 1.6206793785095215, Training Batch Accuracy:  43.8%\n",
      "Global Step:  30700, Loss: 1.5681147575378418, Training Batch Accuracy:  48.4%\n"
     ]
    },
    {
     "name": "stdout",
     "output_type": "stream",
     "text": [
      "Global Step:  30800, Loss: 1.42864990234375, Training Batch Accuracy:  53.1%\n",
      "Global Step:  30900, Loss: 1.5025665760040283, Training Batch Accuracy:  48.4%\n",
      "Global Step:  31000, Loss: 1.443406581878662, Training Batch Accuracy:  60.9%\n",
      "Saved checkpoint.\n",
      "Global Step:  31100, Loss: 1.3383266925811768, Training Batch Accuracy:  54.7%\n",
      "Global Step:  31200, Loss: 1.4827460050582886, Training Batch Accuracy:  50.0%\n",
      "Global Step:  31300, Loss: 1.2542977333068848, Training Batch Accuracy:  54.7%\n",
      "Global Step:  31400, Loss: 1.3631277084350586, Training Batch Accuracy:  60.9%\n",
      "Global Step:  31500, Loss: 1.4955520629882812, Training Batch Accuracy:  51.6%\n",
      "Global Step:  31600, Loss: 1.4278764724731445, Training Batch Accuracy:  46.9%\n",
      "Global Step:  31700, Loss: 1.673393964767456, Training Batch Accuracy:  53.1%\n",
      "Global Step:  31800, Loss: 1.464829683303833, Training Batch Accuracy:  57.8%\n",
      "Global Step:  31900, Loss: 1.3289779424667358, Training Batch Accuracy:  60.9%\n",
      "Global Step:  32000, Loss: 1.5487172603607178, Training Batch Accuracy:  48.4%\n",
      "Saved checkpoint.\n",
      "Global Step:  32100, Loss: 1.6959095001220703, Training Batch Accuracy:  46.9%\n",
      "Global Step:  32200, Loss: 1.671470046043396, Training Batch Accuracy:  51.6%\n",
      "Global Step:  32300, Loss: 1.451069712638855, Training Batch Accuracy:  59.4%\n",
      "Global Step:  32400, Loss: 1.3214811086654663, Training Batch Accuracy:  59.4%\n",
      "Global Step:  32500, Loss: 1.328169584274292, Training Batch Accuracy:  48.4%\n",
      "Global Step:  32600, Loss: 1.5228781700134277, Training Batch Accuracy:  50.0%\n",
      "Global Step:  32700, Loss: 1.497854232788086, Training Batch Accuracy:  43.8%\n",
      "Global Step:  32800, Loss: 1.454537272453308, Training Batch Accuracy:  40.6%\n",
      "Global Step:  32900, Loss: 1.5031862258911133, Training Batch Accuracy:  50.0%\n",
      "Global Step:  33000, Loss: 1.571935772895813, Training Batch Accuracy:  50.0%\n",
      "Saved checkpoint.\n",
      "Global Step:  33100, Loss: 1.463130235671997, Training Batch Accuracy:  65.6%\n",
      "Global Step:  33200, Loss: 1.6653391122817993, Training Batch Accuracy:  51.6%\n",
      "Global Step:  33300, Loss: 1.4611178636550903, Training Batch Accuracy:  53.1%\n",
      "Global Step:  33400, Loss: 1.7440416812896729, Training Batch Accuracy:  51.6%\n",
      "Global Step:  33500, Loss: 1.4976274967193604, Training Batch Accuracy:  60.9%\n",
      "Global Step:  33600, Loss: 1.5873548984527588, Training Batch Accuracy:  50.0%\n",
      "Global Step:  33700, Loss: 1.5946217775344849, Training Batch Accuracy:  53.1%\n",
      "Global Step:  33800, Loss: 1.662750005722046, Training Batch Accuracy:  45.3%\n",
      "Global Step:  33900, Loss: 1.5948736667633057, Training Batch Accuracy:  45.3%\n",
      "Global Step:  34000, Loss: 1.3638041019439697, Training Batch Accuracy:  54.7%\n",
      "Saved checkpoint.\n",
      "Global Step:  34100, Loss: 1.3294603824615479, Training Batch Accuracy:  60.9%\n",
      "Global Step:  34200, Loss: 1.6816061735153198, Training Batch Accuracy:  64.1%\n",
      "Global Step:  34300, Loss: 1.5953295230865479, Training Batch Accuracy:  60.9%\n",
      "Global Step:  34400, Loss: 1.4356385469436646, Training Batch Accuracy:  56.2%\n",
      "Global Step:  34500, Loss: 1.492294430732727, Training Batch Accuracy:  56.2%\n",
      "Global Step:  34600, Loss: 1.647859811782837, Training Batch Accuracy:  45.3%\n",
      "Global Step:  34700, Loss: 1.7242554426193237, Training Batch Accuracy:  37.5%\n",
      "Global Step:  34800, Loss: 1.282476544380188, Training Batch Accuracy:  57.8%\n",
      "Global Step:  34900, Loss: 1.4239953756332397, Training Batch Accuracy:  60.9%\n",
      "Global Step:  35000, Loss: 1.4167428016662598, Training Batch Accuracy:  64.1%\n",
      "Saved checkpoint.\n",
      "Global Step:  35100, Loss: 1.5026108026504517, Training Batch Accuracy:  46.9%\n",
      "Global Step:  35200, Loss: 1.2103352546691895, Training Batch Accuracy:  59.4%\n",
      "Global Step:  35300, Loss: 1.3481124639511108, Training Batch Accuracy:  48.4%\n",
      "Global Step:  35400, Loss: 1.3078022003173828, Training Batch Accuracy:  50.0%\n",
      "Global Step:  35500, Loss: 1.7455556392669678, Training Batch Accuracy:  50.0%\n",
      "Global Step:  35600, Loss: 1.4608254432678223, Training Batch Accuracy:  59.4%\n",
      "Global Step:  35700, Loss: 1.589728593826294, Training Batch Accuracy:  50.0%\n",
      "Global Step:  35800, Loss: 1.5573831796646118, Training Batch Accuracy:  56.2%\n",
      "Global Step:  35900, Loss: 1.3789215087890625, Training Batch Accuracy:  57.8%\n",
      "Global Step:  36000, Loss: 1.5534849166870117, Training Batch Accuracy:  51.6%\n",
      "Saved checkpoint.\n",
      "Global Step:  36100, Loss: 1.8928265571594238, Training Batch Accuracy:  50.0%\n",
      "Global Step:  36200, Loss: 1.6847808361053467, Training Batch Accuracy:  51.6%\n",
      "Global Step:  36300, Loss: 1.2007746696472168, Training Batch Accuracy:  57.8%\n",
      "Global Step:  36400, Loss: 1.6497451066970825, Training Batch Accuracy:  51.6%\n",
      "Global Step:  36500, Loss: 1.630868911743164, Training Batch Accuracy:  51.6%\n",
      "Global Step:  36600, Loss: 1.6499013900756836, Training Batch Accuracy:  51.6%\n",
      "Global Step:  36700, Loss: 1.5570476055145264, Training Batch Accuracy:  48.4%\n",
      "Global Step:  36800, Loss: 1.5133557319641113, Training Batch Accuracy:  53.1%\n",
      "Global Step:  36900, Loss: 1.4836108684539795, Training Batch Accuracy:  57.8%\n",
      "Global Step:  37000, Loss: 1.3611509799957275, Training Batch Accuracy:  59.4%\n",
      "Saved checkpoint.\n",
      "Global Step:  37100, Loss: 1.2905588150024414, Training Batch Accuracy:  56.2%\n",
      "Global Step:  37200, Loss: 1.4726841449737549, Training Batch Accuracy:  40.6%\n",
      "Global Step:  37300, Loss: 1.421610951423645, Training Batch Accuracy:  54.7%\n",
      "Global Step:  37400, Loss: 1.361162781715393, Training Batch Accuracy:  43.8%\n",
      "Global Step:  37500, Loss: 1.3802565336227417, Training Batch Accuracy:  51.6%\n",
      "Global Step:  37600, Loss: 1.5040756464004517, Training Batch Accuracy:  46.9%\n",
      "Global Step:  37700, Loss: 1.4685159921646118, Training Batch Accuracy:  48.4%\n",
      "Global Step:  37800, Loss: 1.4615150690078735, Training Batch Accuracy:  53.1%\n",
      "Global Step:  37900, Loss: 1.481558084487915, Training Batch Accuracy:  57.8%\n",
      "Global Step:  38000, Loss: 1.3433188199996948, Training Batch Accuracy:  57.8%\n",
      "Saved checkpoint.\n",
      "Global Step:  38100, Loss: 1.3787599802017212, Training Batch Accuracy:  54.7%\n",
      "Global Step:  38200, Loss: 1.6862685680389404, Training Batch Accuracy:  62.5%\n",
      "Global Step:  38300, Loss: 1.2756426334381104, Training Batch Accuracy:  53.1%\n",
      "Global Step:  38400, Loss: 1.3772765398025513, Training Batch Accuracy:  56.2%\n",
      "Global Step:  38500, Loss: 1.7617824077606201, Training Batch Accuracy:  46.9%\n",
      "Global Step:  38600, Loss: 1.3767962455749512, Training Batch Accuracy:  43.8%\n",
      "Global Step:  38700, Loss: 1.214951992034912, Training Batch Accuracy:  70.3%\n",
      "Global Step:  38800, Loss: 1.4693024158477783, Training Batch Accuracy:  48.4%\n",
      "Global Step:  38900, Loss: 1.4785066843032837, Training Batch Accuracy:  57.8%\n",
      "Global Step:  39000, Loss: 1.428520917892456, Training Batch Accuracy:  60.9%\n",
      "Saved checkpoint.\n",
      "Global Step:  39100, Loss: 1.4856371879577637, Training Batch Accuracy:  56.2%\n",
      "Global Step:  39200, Loss: 1.3972516059875488, Training Batch Accuracy:  62.5%\n",
      "Global Step:  39300, Loss: 1.4125792980194092, Training Batch Accuracy:  64.1%\n",
      "Global Step:  39400, Loss: 1.4570913314819336, Training Batch Accuracy:  48.4%\n",
      "Global Step:  39500, Loss: 1.522351861000061, Training Batch Accuracy:  51.6%\n",
      "Global Step:  39600, Loss: 1.6166424751281738, Training Batch Accuracy:  62.5%\n",
      "Global Step:  39700, Loss: 1.5471861362457275, Training Batch Accuracy:  57.8%\n",
      "Global Step:  39800, Loss: 1.324295997619629, Training Batch Accuracy:  48.4%\n",
      "Global Step:  39900, Loss: 1.4824624061584473, Training Batch Accuracy:  53.1%\n",
      "Global Step:  40000, Loss: 1.5054774284362793, Training Batch Accuracy:  48.4%\n",
      "Saved checkpoint.\n",
      "Global Step:  40100, Loss: 1.6105660200119019, Training Batch Accuracy:  45.3%\n",
      "Global Step:  40200, Loss: 1.5774927139282227, Training Batch Accuracy:  59.4%\n",
      "Global Step:  40300, Loss: 1.4609084129333496, Training Batch Accuracy:  59.4%\n",
      "Global Step:  40400, Loss: 1.3593240976333618, Training Batch Accuracy:  59.4%\n",
      "Global Step:  40500, Loss: 1.4339208602905273, Training Batch Accuracy:  59.4%\n",
      "Global Step:  40600, Loss: 1.5802702903747559, Training Batch Accuracy:  54.7%\n",
      "Global Step:  40700, Loss: 1.3335621356964111, Training Batch Accuracy:  59.4%\n",
      "Global Step:  40800, Loss: 1.3172153234481812, Training Batch Accuracy:  59.4%\n",
      "Global Step:  40900, Loss: 1.393937587738037, Training Batch Accuracy:  57.8%\n"
     ]
    },
    {
     "name": "stdout",
     "output_type": "stream",
     "text": [
      "Global Step:  41000, Loss: 1.269680142402649, Training Batch Accuracy:  67.2%\n",
      "Saved checkpoint.\n",
      "Global Step:  41100, Loss: 1.474663257598877, Training Batch Accuracy:  48.4%\n",
      "Global Step:  41200, Loss: 1.3329641819000244, Training Batch Accuracy:  62.5%\n",
      "Global Step:  41300, Loss: 1.4685298204421997, Training Batch Accuracy:  51.6%\n",
      "Global Step:  41400, Loss: 1.3048343658447266, Training Batch Accuracy:  53.1%\n",
      "Global Step:  41500, Loss: 1.4262585639953613, Training Batch Accuracy:  56.2%\n",
      "Global Step:  41600, Loss: 1.3600679636001587, Training Batch Accuracy:  59.4%\n",
      "Global Step:  41700, Loss: 1.2067279815673828, Training Batch Accuracy:  62.5%\n",
      "Global Step:  41800, Loss: 1.4848439693450928, Training Batch Accuracy:  35.9%\n",
      "Global Step:  41900, Loss: 1.291778326034546, Training Batch Accuracy:  56.2%\n",
      "Global Step:  42000, Loss: 1.4852182865142822, Training Batch Accuracy:  48.4%\n",
      "Saved checkpoint.\n",
      "Global Step:  42100, Loss: 1.7183607816696167, Training Batch Accuracy:  53.1%\n",
      "Global Step:  42200, Loss: 1.5820058584213257, Training Batch Accuracy:  54.7%\n",
      "Global Step:  42300, Loss: 1.4149260520935059, Training Batch Accuracy:  59.4%\n",
      "Global Step:  42400, Loss: 1.4918265342712402, Training Batch Accuracy:  59.4%\n",
      "Global Step:  42500, Loss: 1.5744967460632324, Training Batch Accuracy:  57.8%\n",
      "Global Step:  42600, Loss: 1.565892219543457, Training Batch Accuracy:  40.6%\n",
      "Global Step:  42700, Loss: 1.5022125244140625, Training Batch Accuracy:  51.6%\n",
      "Global Step:  42800, Loss: 1.5440276861190796, Training Batch Accuracy:  51.6%\n",
      "Global Step:  42900, Loss: 1.3928102254867554, Training Batch Accuracy:  50.0%\n",
      "Global Step:  43000, Loss: 1.4864063262939453, Training Batch Accuracy:  53.1%\n",
      "Saved checkpoint.\n",
      "Global Step:  43100, Loss: 1.9336234331130981, Training Batch Accuracy:  45.3%\n",
      "Global Step:  43200, Loss: 1.4802846908569336, Training Batch Accuracy:  45.3%\n",
      "Global Step:  43300, Loss: 1.5870747566223145, Training Batch Accuracy:  53.1%\n",
      "Global Step:  43400, Loss: 1.397269368171692, Training Batch Accuracy:  51.6%\n",
      "Global Step:  43500, Loss: 1.5294384956359863, Training Batch Accuracy:  51.6%\n",
      "Global Step:  43600, Loss: 1.598549723625183, Training Batch Accuracy:  50.0%\n",
      "Global Step:  43700, Loss: 1.4685261249542236, Training Batch Accuracy:  56.2%\n",
      "Global Step:  43800, Loss: 1.501833438873291, Training Batch Accuracy:  56.2%\n",
      "Global Step:  43900, Loss: 1.3413431644439697, Training Batch Accuracy:  56.2%\n",
      "Global Step:  44000, Loss: 1.251293420791626, Training Batch Accuracy:  67.2%\n",
      "Saved checkpoint.\n",
      "Global Step:  44100, Loss: 1.267435073852539, Training Batch Accuracy:  54.7%\n",
      "Global Step:  44200, Loss: 1.2643206119537354, Training Batch Accuracy:  65.6%\n",
      "Global Step:  44300, Loss: 1.233568549156189, Training Batch Accuracy:  65.6%\n",
      "Global Step:  44400, Loss: 1.4939441680908203, Training Batch Accuracy:  59.4%\n",
      "Global Step:  44500, Loss: 1.7556411027908325, Training Batch Accuracy:  51.6%\n",
      "Global Step:  44600, Loss: 1.474812388420105, Training Batch Accuracy:  48.4%\n",
      "Global Step:  44700, Loss: 1.3278290033340454, Training Batch Accuracy:  59.4%\n",
      "Global Step:  44800, Loss: 1.5310237407684326, Training Batch Accuracy:  50.0%\n",
      "Global Step:  44900, Loss: 1.6154770851135254, Training Batch Accuracy:  62.5%\n",
      "Global Step:  45000, Loss: 1.2769014835357666, Training Batch Accuracy:  57.8%\n",
      "Saved checkpoint.\n",
      "Global Step:  45100, Loss: 1.1868319511413574, Training Batch Accuracy:  54.7%\n",
      "Global Step:  45200, Loss: 1.1082558631896973, Training Batch Accuracy:  67.2%\n",
      "Global Step:  45300, Loss: 1.3433148860931396, Training Batch Accuracy:  64.1%\n",
      "Global Step:  45400, Loss: 1.1697132587432861, Training Batch Accuracy:  54.7%\n",
      "Global Step:  45500, Loss: 1.4101624488830566, Training Batch Accuracy:  60.9%\n",
      "Global Step:  45600, Loss: 1.3368051052093506, Training Batch Accuracy:  56.2%\n",
      "Global Step:  45700, Loss: 1.428673267364502, Training Batch Accuracy:  60.9%\n",
      "Global Step:  45800, Loss: 1.4033911228179932, Training Batch Accuracy:  60.9%\n",
      "Global Step:  45900, Loss: 1.253180980682373, Training Batch Accuracy:  59.4%\n",
      "Global Step:  46000, Loss: 1.2518867254257202, Training Batch Accuracy:  56.2%\n",
      "Saved checkpoint.\n",
      "Global Step:  46100, Loss: 1.2062032222747803, Training Batch Accuracy:  67.2%\n",
      "Global Step:  46200, Loss: 1.553980827331543, Training Batch Accuracy:  54.7%\n",
      "Global Step:  46300, Loss: 1.2793487310409546, Training Batch Accuracy:  59.4%\n",
      "Global Step:  46400, Loss: 1.6537200212478638, Training Batch Accuracy:  46.9%\n",
      "Global Step:  46500, Loss: 1.2826077938079834, Training Batch Accuracy:  57.8%\n",
      "Global Step:  46600, Loss: 1.2044516801834106, Training Batch Accuracy:  57.8%\n",
      "Global Step:  46700, Loss: 1.3265421390533447, Training Batch Accuracy:  54.7%\n",
      "Global Step:  46800, Loss: 1.3159480094909668, Training Batch Accuracy:  64.1%\n",
      "Global Step:  46900, Loss: 1.6098544597625732, Training Batch Accuracy:  59.4%\n",
      "Global Step:  47000, Loss: 1.2299681901931763, Training Batch Accuracy:  60.9%\n",
      "Saved checkpoint.\n",
      "Global Step:  47100, Loss: 1.413684368133545, Training Batch Accuracy:  54.7%\n",
      "Global Step:  47200, Loss: 1.5012586116790771, Training Batch Accuracy:  45.3%\n",
      "Global Step:  47300, Loss: 1.1431002616882324, Training Batch Accuracy:  67.2%\n",
      "Global Step:  47400, Loss: 1.3203706741333008, Training Batch Accuracy:  51.6%\n",
      "Global Step:  47500, Loss: 1.4451494216918945, Training Batch Accuracy:  59.4%\n",
      "Global Step:  47600, Loss: 1.396681547164917, Training Batch Accuracy:  64.1%\n",
      "Global Step:  47700, Loss: 1.5010123252868652, Training Batch Accuracy:  59.4%\n",
      "Global Step:  47800, Loss: 1.327480435371399, Training Batch Accuracy:  51.6%\n",
      "Global Step:  47900, Loss: 1.3752939701080322, Training Batch Accuracy:  46.9%\n",
      "Global Step:  48000, Loss: 1.3693506717681885, Training Batch Accuracy:  53.1%\n",
      "Saved checkpoint.\n",
      "Global Step:  48100, Loss: 1.2609485387802124, Training Batch Accuracy:  59.4%\n",
      "Global Step:  48200, Loss: 1.4025017023086548, Training Batch Accuracy:  62.5%\n",
      "Global Step:  48300, Loss: 1.191114068031311, Training Batch Accuracy:  64.1%\n",
      "Global Step:  48400, Loss: 1.3350621461868286, Training Batch Accuracy:  51.6%\n",
      "Global Step:  48500, Loss: 1.4508743286132812, Training Batch Accuracy:  57.8%\n",
      "Global Step:  48600, Loss: 1.3302149772644043, Training Batch Accuracy:  62.5%\n",
      "Global Step:  48700, Loss: 1.4172505140304565, Training Batch Accuracy:  59.4%\n",
      "Global Step:  48800, Loss: 1.3188467025756836, Training Batch Accuracy:  60.9%\n",
      "Global Step:  48900, Loss: 1.420153260231018, Training Batch Accuracy:  54.7%\n",
      "Global Step:  49000, Loss: 1.2861812114715576, Training Batch Accuracy:  67.2%\n",
      "Saved checkpoint.\n",
      "Global Step:  49100, Loss: 1.5810959339141846, Training Batch Accuracy:  57.8%\n",
      "Global Step:  49200, Loss: 1.3171511888504028, Training Batch Accuracy:  56.2%\n",
      "Global Step:  49300, Loss: 1.463972806930542, Training Batch Accuracy:  65.6%\n",
      "Global Step:  49400, Loss: 1.2774102687835693, Training Batch Accuracy:  57.8%\n",
      "Global Step:  49500, Loss: 1.355363130569458, Training Batch Accuracy:  53.1%\n",
      "Global Step:  49600, Loss: 1.3988001346588135, Training Batch Accuracy:  57.8%\n",
      "Global Step:  49700, Loss: 1.6167761087417603, Training Batch Accuracy:  60.9%\n",
      "Global Step:  49800, Loss: 1.2081053256988525, Training Batch Accuracy:  59.4%\n",
      "Global Step:  49900, Loss: 1.154576063156128, Training Batch Accuracy:  59.4%\n",
      "Global Step:  50000, Loss: 1.3872408866882324, Training Batch Accuracy:  48.4%\n",
      "Saved checkpoint.\n",
      "Global Step:  50100, Loss: 1.1936862468719482, Training Batch Accuracy:  57.8%\n",
      "Global Step:  50200, Loss: 1.420175552368164, Training Batch Accuracy:  57.8%\n",
      "Global Step:  50300, Loss: 1.3860414028167725, Training Batch Accuracy:  70.3%\n",
      "Global Step:  50400, Loss: 1.2506730556488037, Training Batch Accuracy:  60.9%\n",
      "Global Step:  50500, Loss: 1.5673778057098389, Training Batch Accuracy:  56.2%\n",
      "Global Step:  50600, Loss: 1.2388389110565186, Training Batch Accuracy:  59.4%\n",
      "Global Step:  50700, Loss: 1.296919584274292, Training Batch Accuracy:  53.1%\n",
      "Global Step:  50800, Loss: 1.1822059154510498, Training Batch Accuracy:  64.1%\n",
      "Global Step:  50900, Loss: 1.3198336362838745, Training Batch Accuracy:  68.8%\n",
      "Global Step:  51000, Loss: 1.4608819484710693, Training Batch Accuracy:  53.1%\n",
      "Saved checkpoint.\n",
      "Global Step:  51100, Loss: 1.527408242225647, Training Batch Accuracy:  48.4%\n"
     ]
    },
    {
     "name": "stdout",
     "output_type": "stream",
     "text": [
      "Global Step:  51200, Loss: 1.3376837968826294, Training Batch Accuracy:  45.3%\n",
      "Global Step:  51300, Loss: 1.4309024810791016, Training Batch Accuracy:  53.1%\n",
      "Global Step:  51400, Loss: 1.411658525466919, Training Batch Accuracy:  54.7%\n",
      "Global Step:  51500, Loss: 1.1635737419128418, Training Batch Accuracy:  68.8%\n",
      "Global Step:  51600, Loss: 1.083463430404663, Training Batch Accuracy:  60.9%\n",
      "Global Step:  51700, Loss: 1.2395299673080444, Training Batch Accuracy:  62.5%\n",
      "Global Step:  51800, Loss: 1.3947196006774902, Training Batch Accuracy:  60.9%\n",
      "Global Step:  51900, Loss: 1.3311176300048828, Training Batch Accuracy:  60.9%\n",
      "Global Step:  52000, Loss: 1.401494026184082, Training Batch Accuracy:  56.2%\n",
      "Saved checkpoint.\n",
      "Global Step:  52100, Loss: 1.1521148681640625, Training Batch Accuracy:  65.6%\n",
      "Global Step:  52200, Loss: 1.17340886592865, Training Batch Accuracy:  68.8%\n",
      "Global Step:  52300, Loss: 1.4944798946380615, Training Batch Accuracy:  56.2%\n",
      "Global Step:  52400, Loss: 1.285481572151184, Training Batch Accuracy:  56.2%\n",
      "Global Step:  52500, Loss: 1.1683084964752197, Training Batch Accuracy:  64.1%\n",
      "Global Step:  52600, Loss: 1.1797125339508057, Training Batch Accuracy:  65.6%\n",
      "Global Step:  52700, Loss: 1.43490731716156, Training Batch Accuracy:  60.9%\n",
      "Global Step:  52800, Loss: 1.400984287261963, Training Batch Accuracy:  54.7%\n",
      "Global Step:  52900, Loss: 1.0203242301940918, Training Batch Accuracy:  60.9%\n",
      "Global Step:  53000, Loss: 1.3425123691558838, Training Batch Accuracy:  57.8%\n",
      "Saved checkpoint.\n",
      "Global Step:  53100, Loss: 1.3969733715057373, Training Batch Accuracy:  65.6%\n",
      "Global Step:  53200, Loss: 1.3655383586883545, Training Batch Accuracy:  51.6%\n",
      "Global Step:  53300, Loss: 1.3626017570495605, Training Batch Accuracy:  53.1%\n",
      "Global Step:  53400, Loss: 1.38820481300354, Training Batch Accuracy:  65.6%\n",
      "Global Step:  53500, Loss: 1.5533243417739868, Training Batch Accuracy:  62.5%\n",
      "Global Step:  53600, Loss: 1.1618270874023438, Training Batch Accuracy:  71.9%\n",
      "Global Step:  53700, Loss: 1.2528295516967773, Training Batch Accuracy:  64.1%\n",
      "Global Step:  53800, Loss: 1.351172685623169, Training Batch Accuracy:  60.9%\n",
      "Global Step:  53900, Loss: 1.6134892702102661, Training Batch Accuracy:  60.9%\n",
      "Global Step:  54000, Loss: 1.3481090068817139, Training Batch Accuracy:  51.6%\n",
      "Saved checkpoint.\n",
      "Global Step:  54100, Loss: 1.3225394487380981, Training Batch Accuracy:  65.6%\n",
      "Global Step:  54200, Loss: 1.459236741065979, Training Batch Accuracy:  43.8%\n",
      "Global Step:  54300, Loss: 1.1672744750976562, Training Batch Accuracy:  71.9%\n",
      "Global Step:  54400, Loss: 1.361325979232788, Training Batch Accuracy:  53.1%\n",
      "Global Step:  54500, Loss: 1.5085406303405762, Training Batch Accuracy:  56.2%\n",
      "Global Step:  54600, Loss: 1.4328374862670898, Training Batch Accuracy:  62.5%\n",
      "Global Step:  54700, Loss: 1.1366087198257446, Training Batch Accuracy:  60.9%\n",
      "Global Step:  54800, Loss: 1.4123141765594482, Training Batch Accuracy:  56.2%\n",
      "Global Step:  54900, Loss: 1.369844913482666, Training Batch Accuracy:  65.6%\n",
      "Global Step:  55000, Loss: 1.3900402784347534, Training Batch Accuracy:  71.9%\n",
      "Saved checkpoint.\n",
      "Global Step:  55100, Loss: 1.2210406064987183, Training Batch Accuracy:  54.7%\n",
      "Global Step:  55200, Loss: 1.2769711017608643, Training Batch Accuracy:  64.1%\n",
      "Global Step:  55300, Loss: 1.298620343208313, Training Batch Accuracy:  60.9%\n",
      "Global Step:  55400, Loss: 1.4833979606628418, Training Batch Accuracy:  53.1%\n",
      "Global Step:  55500, Loss: 1.2147856950759888, Training Batch Accuracy:  59.4%\n",
      "Global Step:  55600, Loss: 1.2354159355163574, Training Batch Accuracy:  56.2%\n",
      "Global Step:  55700, Loss: 1.1372509002685547, Training Batch Accuracy:  64.1%\n",
      "Global Step:  55800, Loss: 1.3750218152999878, Training Batch Accuracy:  51.6%\n",
      "Global Step:  55900, Loss: 1.260737657546997, Training Batch Accuracy:  57.8%\n",
      "Global Step:  56000, Loss: 1.3515357971191406, Training Batch Accuracy:  51.6%\n",
      "Saved checkpoint.\n",
      "Global Step:  56100, Loss: 1.261735200881958, Training Batch Accuracy:  56.2%\n",
      "Global Step:  56200, Loss: 1.1338095664978027, Training Batch Accuracy:  59.4%\n",
      "Global Step:  56300, Loss: 1.0860859155654907, Training Batch Accuracy:  70.3%\n",
      "Global Step:  56400, Loss: 1.2657506465911865, Training Batch Accuracy:  60.9%\n",
      "Global Step:  56500, Loss: 1.2560820579528809, Training Batch Accuracy:  56.2%\n",
      "Global Step:  56600, Loss: 1.4732685089111328, Training Batch Accuracy:  51.6%\n",
      "Global Step:  56700, Loss: 1.2158851623535156, Training Batch Accuracy:  57.8%\n",
      "Global Step:  56800, Loss: 1.1705142259597778, Training Batch Accuracy:  76.6%\n",
      "Global Step:  56900, Loss: 1.3621147871017456, Training Batch Accuracy:  59.4%\n",
      "Global Step:  57000, Loss: 1.364295244216919, Training Batch Accuracy:  59.4%\n",
      "Saved checkpoint.\n",
      "Global Step:  57100, Loss: 1.2430942058563232, Training Batch Accuracy:  64.1%\n",
      "Global Step:  57200, Loss: 1.5823264122009277, Training Batch Accuracy:  53.1%\n",
      "Global Step:  57300, Loss: 1.1889760494232178, Training Batch Accuracy:  67.2%\n",
      "Global Step:  57400, Loss: 1.2634878158569336, Training Batch Accuracy:  68.8%\n",
      "Global Step:  57500, Loss: 1.4579428434371948, Training Batch Accuracy:  62.5%\n",
      "Global Step:  57600, Loss: 1.3752156496047974, Training Batch Accuracy:  60.9%\n",
      "Global Step:  57700, Loss: 1.3516018390655518, Training Batch Accuracy:  60.9%\n",
      "Global Step:  57800, Loss: 1.250460147857666, Training Batch Accuracy:  57.8%\n",
      "Global Step:  57900, Loss: 1.1444385051727295, Training Batch Accuracy:  62.5%\n",
      "Global Step:  58000, Loss: 1.2515896558761597, Training Batch Accuracy:  68.8%\n",
      "Saved checkpoint.\n",
      "Global Step:  58100, Loss: 1.3260645866394043, Training Batch Accuracy:  59.4%\n",
      "Global Step:  58200, Loss: 1.1748063564300537, Training Batch Accuracy:  60.9%\n",
      "Global Step:  58300, Loss: 1.29221510887146, Training Batch Accuracy:  59.4%\n",
      "Global Step:  58400, Loss: 1.4446525573730469, Training Batch Accuracy:  48.4%\n",
      "Global Step:  58500, Loss: 1.3702285289764404, Training Batch Accuracy:  56.2%\n",
      "Global Step:  58600, Loss: 1.319713830947876, Training Batch Accuracy:  59.4%\n",
      "Global Step:  58700, Loss: 1.178394079208374, Training Batch Accuracy:  50.0%\n",
      "Global Step:  58800, Loss: 1.5679395198822021, Training Batch Accuracy:  53.1%\n",
      "Global Step:  58900, Loss: 1.3307076692581177, Training Batch Accuracy:  62.5%\n",
      "Global Step:  59000, Loss: 1.1434142589569092, Training Batch Accuracy:  56.2%\n",
      "Saved checkpoint.\n",
      "Global Step:  59100, Loss: 1.2734097242355347, Training Batch Accuracy:  67.2%\n",
      "Global Step:  59200, Loss: 1.3698869943618774, Training Batch Accuracy:  59.4%\n",
      "Global Step:  59300, Loss: 1.079670786857605, Training Batch Accuracy:  73.4%\n",
      "Global Step:  59400, Loss: 1.2302252054214478, Training Batch Accuracy:  53.1%\n",
      "Global Step:  59500, Loss: 1.346646785736084, Training Batch Accuracy:  53.1%\n",
      "Global Step:  59600, Loss: 1.4112210273742676, Training Batch Accuracy:  57.8%\n",
      "Global Step:  59700, Loss: 1.0277011394500732, Training Batch Accuracy:  62.5%\n",
      "Global Step:  59800, Loss: 1.437016487121582, Training Batch Accuracy:  56.2%\n",
      "Global Step:  59900, Loss: 1.3462809324264526, Training Batch Accuracy:  45.3%\n",
      "Global Step:  60000, Loss: 1.3788821697235107, Training Batch Accuracy:  57.8%\n",
      "Saved checkpoint.\n",
      "Global Step:  60100, Loss: 1.2151386737823486, Training Batch Accuracy:  64.1%\n",
      "Global Step:  60200, Loss: 1.4343760013580322, Training Batch Accuracy:  54.7%\n",
      "Global Step:  60300, Loss: 1.5580925941467285, Training Batch Accuracy:  53.1%\n",
      "Global Step:  60400, Loss: 1.4051766395568848, Training Batch Accuracy:  60.9%\n",
      "Global Step:  60500, Loss: 1.0882171392440796, Training Batch Accuracy:  67.2%\n",
      "Global Step:  60600, Loss: 1.0962523221969604, Training Batch Accuracy:  56.2%\n",
      "Global Step:  60700, Loss: 1.1321011781692505, Training Batch Accuracy:  67.2%\n",
      "Global Step:  60800, Loss: 1.3321254253387451, Training Batch Accuracy:  51.6%\n",
      "Global Step:  60900, Loss: 1.0768184661865234, Training Batch Accuracy:  64.1%\n",
      "Global Step:  61000, Loss: 1.2459497451782227, Training Batch Accuracy:  59.4%\n",
      "Saved checkpoint.\n",
      "Global Step:  61100, Loss: 1.1708775758743286, Training Batch Accuracy:  62.5%\n",
      "Global Step:  61200, Loss: 1.2051345109939575, Training Batch Accuracy:  59.4%\n",
      "Global Step:  61300, Loss: 1.1609234809875488, Training Batch Accuracy:  65.6%\n"
     ]
    },
    {
     "name": "stdout",
     "output_type": "stream",
     "text": [
      "Global Step:  61400, Loss: 1.3354798555374146, Training Batch Accuracy:  60.9%\n",
      "Global Step:  61500, Loss: 1.1512901782989502, Training Batch Accuracy:  68.8%\n",
      "Global Step:  61600, Loss: 1.321326494216919, Training Batch Accuracy:  56.2%\n",
      "Global Step:  61700, Loss: 1.30299973487854, Training Batch Accuracy:  64.1%\n",
      "Global Step:  61800, Loss: 1.1996853351593018, Training Batch Accuracy:  67.2%\n",
      "Global Step:  61900, Loss: 1.1874264478683472, Training Batch Accuracy:  64.1%\n",
      "Global Step:  62000, Loss: 1.2218008041381836, Training Batch Accuracy:  70.3%\n",
      "Saved checkpoint.\n",
      "Global Step:  62100, Loss: 1.630477786064148, Training Batch Accuracy:  59.4%\n",
      "Global Step:  62200, Loss: 1.1569799184799194, Training Batch Accuracy:  67.2%\n",
      "Global Step:  62300, Loss: 1.2071549892425537, Training Batch Accuracy:  76.6%\n",
      "Global Step:  62400, Loss: 1.1460344791412354, Training Batch Accuracy:  68.8%\n",
      "Global Step:  62500, Loss: 1.1881771087646484, Training Batch Accuracy:  65.6%\n",
      "Global Step:  62600, Loss: 1.423413634300232, Training Batch Accuracy:  56.2%\n",
      "Global Step:  62700, Loss: 1.1698428392410278, Training Batch Accuracy:  53.1%\n",
      "Global Step:  62800, Loss: 1.415514349937439, Training Batch Accuracy:  68.8%\n",
      "Global Step:  62900, Loss: 0.862218976020813, Training Batch Accuracy:  76.6%\n",
      "Global Step:  63000, Loss: 1.209488868713379, Training Batch Accuracy:  67.2%\n",
      "Saved checkpoint.\n",
      "Global Step:  63100, Loss: 1.0697226524353027, Training Batch Accuracy:  64.1%\n",
      "Global Step:  63200, Loss: 1.3740296363830566, Training Batch Accuracy:  45.3%\n",
      "Global Step:  63300, Loss: 1.4060781002044678, Training Batch Accuracy:  59.4%\n",
      "Global Step:  63400, Loss: 1.243790864944458, Training Batch Accuracy:  78.1%\n",
      "Global Step:  63500, Loss: 1.2439560890197754, Training Batch Accuracy:  73.4%\n",
      "Global Step:  63600, Loss: 1.2617390155792236, Training Batch Accuracy:  70.3%\n",
      "Global Step:  63700, Loss: 1.203589677810669, Training Batch Accuracy:  60.9%\n",
      "Global Step:  63800, Loss: 1.3368480205535889, Training Batch Accuracy:  64.1%\n",
      "Global Step:  63900, Loss: 1.5766329765319824, Training Batch Accuracy:  62.5%\n",
      "Global Step:  64000, Loss: 1.1545681953430176, Training Batch Accuracy:  71.9%\n",
      "Saved checkpoint.\n",
      "Global Step:  64100, Loss: 1.350386381149292, Training Batch Accuracy:  59.4%\n",
      "Global Step:  64200, Loss: 1.2814605236053467, Training Batch Accuracy:  56.2%\n",
      "Global Step:  64300, Loss: 1.0803601741790771, Training Batch Accuracy:  65.6%\n",
      "Global Step:  64400, Loss: 1.1060593128204346, Training Batch Accuracy:  60.9%\n",
      "Global Step:  64500, Loss: 1.495633602142334, Training Batch Accuracy:  62.5%\n",
      "Global Step:  64600, Loss: 1.148932933807373, Training Batch Accuracy:  68.8%\n",
      "Global Step:  64700, Loss: 1.3665308952331543, Training Batch Accuracy:  59.4%\n",
      "Global Step:  64800, Loss: 1.3540630340576172, Training Batch Accuracy:  57.8%\n",
      "Global Step:  64900, Loss: 1.3921188116073608, Training Batch Accuracy:  53.1%\n",
      "Global Step:  65000, Loss: 1.1732319593429565, Training Batch Accuracy:  65.6%\n",
      "Saved checkpoint.\n",
      "Global Step:  65100, Loss: 1.1846753358840942, Training Batch Accuracy:  65.6%\n",
      "Global Step:  65200, Loss: 1.108109712600708, Training Batch Accuracy:  67.2%\n",
      "Global Step:  65300, Loss: 1.3396849632263184, Training Batch Accuracy:  65.6%\n",
      "Global Step:  65400, Loss: 1.467193841934204, Training Batch Accuracy:  57.8%\n",
      "Global Step:  65500, Loss: 1.236891269683838, Training Batch Accuracy:  65.6%\n",
      "Global Step:  65600, Loss: 1.4220972061157227, Training Batch Accuracy:  56.2%\n",
      "Global Step:  65700, Loss: 1.2263827323913574, Training Batch Accuracy:  70.3%\n",
      "Global Step:  65800, Loss: 1.3601962327957153, Training Batch Accuracy:  57.8%\n",
      "Global Step:  65900, Loss: 1.3778650760650635, Training Batch Accuracy:  62.5%\n",
      "Global Step:  66000, Loss: 1.3113982677459717, Training Batch Accuracy:  59.4%\n",
      "Saved checkpoint.\n",
      "Global Step:  66100, Loss: 1.1976938247680664, Training Batch Accuracy:  68.8%\n",
      "Global Step:  66200, Loss: 1.3433964252471924, Training Batch Accuracy:  60.9%\n",
      "Global Step:  66300, Loss: 0.9673659801483154, Training Batch Accuracy:  67.2%\n",
      "Global Step:  66400, Loss: 1.157151460647583, Training Batch Accuracy:  67.2%\n",
      "Global Step:  66500, Loss: 1.24214506149292, Training Batch Accuracy:  62.5%\n",
      "Global Step:  66600, Loss: 1.028004765510559, Training Batch Accuracy:  65.6%\n",
      "Global Step:  66700, Loss: 1.341771125793457, Training Batch Accuracy:  60.9%\n",
      "Global Step:  66800, Loss: 0.9404935836791992, Training Batch Accuracy:  82.8%\n",
      "Global Step:  66900, Loss: 1.1333236694335938, Training Batch Accuracy:  60.9%\n",
      "Global Step:  67000, Loss: 1.2036049365997314, Training Batch Accuracy:  53.1%\n",
      "Saved checkpoint.\n",
      "Global Step:  67100, Loss: 1.2023632526397705, Training Batch Accuracy:  56.2%\n",
      "Global Step:  67200, Loss: 1.423572301864624, Training Batch Accuracy:  62.5%\n",
      "Global Step:  67300, Loss: 1.4192893505096436, Training Batch Accuracy:  54.7%\n",
      "Global Step:  67400, Loss: 1.2895681858062744, Training Batch Accuracy:  60.9%\n",
      "Global Step:  67500, Loss: 1.24546480178833, Training Batch Accuracy:  64.1%\n",
      "Global Step:  67600, Loss: 1.482109546661377, Training Batch Accuracy:  57.8%\n",
      "Global Step:  67700, Loss: 1.3477447032928467, Training Batch Accuracy:  54.7%\n",
      "Global Step:  67800, Loss: 0.9774810075759888, Training Batch Accuracy:  68.8%\n",
      "Global Step:  67900, Loss: 1.377495288848877, Training Batch Accuracy:  57.8%\n",
      "Global Step:  68000, Loss: 1.187315821647644, Training Batch Accuracy:  67.2%\n",
      "Saved checkpoint.\n",
      "Global Step:  68100, Loss: 1.0178956985473633, Training Batch Accuracy:  67.2%\n",
      "Global Step:  68200, Loss: 1.3193206787109375, Training Batch Accuracy:  50.0%\n",
      "Global Step:  68300, Loss: 1.4556500911712646, Training Batch Accuracy:  60.9%\n",
      "Global Step:  68400, Loss: 1.4724520444869995, Training Batch Accuracy:  54.7%\n",
      "Global Step:  68500, Loss: 1.4163687229156494, Training Batch Accuracy:  60.9%\n",
      "Global Step:  68600, Loss: 1.0654025077819824, Training Batch Accuracy:  67.2%\n",
      "Global Step:  68700, Loss: 1.2485120296478271, Training Batch Accuracy:  65.6%\n",
      "Global Step:  68800, Loss: 1.3169493675231934, Training Batch Accuracy:  62.5%\n",
      "Global Step:  68900, Loss: 1.2526414394378662, Training Batch Accuracy:  70.3%\n",
      "Global Step:  69000, Loss: 0.9970357418060303, Training Batch Accuracy:  62.5%\n",
      "Saved checkpoint.\n",
      "Global Step:  69100, Loss: 1.1887288093566895, Training Batch Accuracy:  64.1%\n",
      "Global Step:  69200, Loss: 1.3152519464492798, Training Batch Accuracy:  60.9%\n",
      "Global Step:  69300, Loss: 1.2390581369400024, Training Batch Accuracy:  64.1%\n",
      "Global Step:  69400, Loss: 1.2901825904846191, Training Batch Accuracy:  60.9%\n",
      "Global Step:  69500, Loss: 1.165863275527954, Training Batch Accuracy:  70.3%\n",
      "Global Step:  69600, Loss: 1.2714780569076538, Training Batch Accuracy:  68.8%\n",
      "Global Step:  69700, Loss: 0.9943668246269226, Training Batch Accuracy:  71.9%\n",
      "Global Step:  69800, Loss: 1.3004391193389893, Training Batch Accuracy:  57.8%\n",
      "Global Step:  69900, Loss: 1.262258529663086, Training Batch Accuracy:  68.8%\n",
      "Global Step:  70000, Loss: 1.2429728507995605, Training Batch Accuracy:  68.8%\n",
      "Saved checkpoint.\n",
      "Global Step:  70100, Loss: 1.3900654315948486, Training Batch Accuracy:  60.9%\n",
      "Global Step:  70200, Loss: 1.3068348169326782, Training Batch Accuracy:  65.6%\n",
      "Global Step:  70300, Loss: 1.2542898654937744, Training Batch Accuracy:  60.9%\n",
      "Global Step:  70400, Loss: 1.2611830234527588, Training Batch Accuracy:  68.8%\n",
      "Global Step:  70500, Loss: 1.1019740104675293, Training Batch Accuracy:  68.8%\n",
      "Global Step:  70600, Loss: 1.2913901805877686, Training Batch Accuracy:  65.6%\n",
      "Global Step:  70700, Loss: 1.2024213075637817, Training Batch Accuracy:  60.9%\n",
      "Global Step:  70800, Loss: 1.4083926677703857, Training Batch Accuracy:  54.7%\n",
      "Global Step:  70900, Loss: 1.229449987411499, Training Batch Accuracy:  65.6%\n",
      "Global Step:  71000, Loss: 1.681031584739685, Training Batch Accuracy:  57.8%\n",
      "Saved checkpoint.\n",
      "Global Step:  71100, Loss: 0.9931039810180664, Training Batch Accuracy:  59.4%\n",
      "Global Step:  71200, Loss: 1.2333338260650635, Training Batch Accuracy:  62.5%\n",
      "Global Step:  71300, Loss: 1.2414882183074951, Training Batch Accuracy:  68.8%\n",
      "Global Step:  71400, Loss: 1.5132291316986084, Training Batch Accuracy:  60.9%\n",
      "Global Step:  71500, Loss: 1.4332202672958374, Training Batch Accuracy:  56.2%\n"
     ]
    },
    {
     "name": "stdout",
     "output_type": "stream",
     "text": [
      "Global Step:  71600, Loss: 1.2839239835739136, Training Batch Accuracy:  60.9%\n",
      "Global Step:  71700, Loss: 1.4810490608215332, Training Batch Accuracy:  54.7%\n",
      "Global Step:  71800, Loss: 1.297363519668579, Training Batch Accuracy:  60.9%\n",
      "Global Step:  71900, Loss: 1.1727622747421265, Training Batch Accuracy:  62.5%\n",
      "Global Step:  72000, Loss: 1.0672054290771484, Training Batch Accuracy:  64.1%\n",
      "Saved checkpoint.\n",
      "Global Step:  72100, Loss: 1.0275177955627441, Training Batch Accuracy:  65.6%\n",
      "Global Step:  72200, Loss: 1.2046353816986084, Training Batch Accuracy:  65.6%\n",
      "Global Step:  72300, Loss: 1.270932912826538, Training Batch Accuracy:  62.5%\n",
      "Global Step:  72400, Loss: 1.1597005128860474, Training Batch Accuracy:  62.5%\n",
      "Global Step:  72500, Loss: 0.9610151648521423, Training Batch Accuracy:  70.3%\n",
      "Global Step:  72600, Loss: 1.4017784595489502, Training Batch Accuracy:  62.5%\n",
      "Global Step:  72700, Loss: 1.100964903831482, Training Batch Accuracy:  65.6%\n",
      "Global Step:  72800, Loss: 1.0677433013916016, Training Batch Accuracy:  60.9%\n",
      "Global Step:  72900, Loss: 1.1049742698669434, Training Batch Accuracy:  64.1%\n",
      "Global Step:  73000, Loss: 1.2221903800964355, Training Batch Accuracy:  65.6%\n",
      "Saved checkpoint.\n",
      "Global Step:  73100, Loss: 1.1627233028411865, Training Batch Accuracy:  73.4%\n",
      "Global Step:  73200, Loss: 1.2552740573883057, Training Batch Accuracy:  70.3%\n",
      "Global Step:  73300, Loss: 1.0150302648544312, Training Batch Accuracy:  65.6%\n",
      "Global Step:  73400, Loss: 0.8896386623382568, Training Batch Accuracy:  68.8%\n",
      "Global Step:  73500, Loss: 1.4194555282592773, Training Batch Accuracy:  48.4%\n",
      "Global Step:  73600, Loss: 1.3252683877944946, Training Batch Accuracy:  62.5%\n",
      "Global Step:  73700, Loss: 1.117454171180725, Training Batch Accuracy:  65.6%\n",
      "Global Step:  73800, Loss: 1.1294547319412231, Training Batch Accuracy:  68.8%\n",
      "Global Step:  73900, Loss: 1.1551710367202759, Training Batch Accuracy:  65.6%\n",
      "Global Step:  74000, Loss: 1.071500539779663, Training Batch Accuracy:  70.3%\n",
      "Saved checkpoint.\n",
      "Global Step:  74100, Loss: 0.986559271812439, Training Batch Accuracy:  68.8%\n",
      "Global Step:  74200, Loss: 1.1580218076705933, Training Batch Accuracy:  68.8%\n",
      "Global Step:  74300, Loss: 1.3868465423583984, Training Batch Accuracy:  60.9%\n",
      "Global Step:  74400, Loss: 1.1672494411468506, Training Batch Accuracy:  62.5%\n",
      "Global Step:  74500, Loss: 1.2029244899749756, Training Batch Accuracy:  65.6%\n",
      "Global Step:  74600, Loss: 1.1717350482940674, Training Batch Accuracy:  62.5%\n",
      "Global Step:  74700, Loss: 1.0804965496063232, Training Batch Accuracy:  67.2%\n",
      "Global Step:  74800, Loss: 1.2450671195983887, Training Batch Accuracy:  62.5%\n",
      "Global Step:  74900, Loss: 1.1554322242736816, Training Batch Accuracy:  67.2%\n",
      "Global Step:  75000, Loss: 1.0931456089019775, Training Batch Accuracy:  60.9%\n",
      "Saved checkpoint.\n",
      "Global Step:  75100, Loss: 1.110011339187622, Training Batch Accuracy:  54.7%\n",
      "Global Step:  75200, Loss: 1.1954612731933594, Training Batch Accuracy:  64.1%\n",
      "Global Step:  75300, Loss: 1.2875778675079346, Training Batch Accuracy:  59.4%\n",
      "Global Step:  75400, Loss: 1.264587640762329, Training Batch Accuracy:  67.2%\n",
      "Global Step:  75500, Loss: 1.1042048931121826, Training Batch Accuracy:  68.8%\n",
      "Global Step:  75600, Loss: 1.1517939567565918, Training Batch Accuracy:  62.5%\n",
      "Global Step:  75700, Loss: 1.145930528640747, Training Batch Accuracy:  56.2%\n",
      "Global Step:  75800, Loss: 1.2922582626342773, Training Batch Accuracy:  71.9%\n",
      "Global Step:  75900, Loss: 1.1331390142440796, Training Batch Accuracy:  67.2%\n",
      "Global Step:  76000, Loss: 1.159075140953064, Training Batch Accuracy:  62.5%\n",
      "Saved checkpoint.\n",
      "Global Step:  76100, Loss: 1.1750519275665283, Training Batch Accuracy:  70.3%\n",
      "Global Step:  76200, Loss: 1.3005990982055664, Training Batch Accuracy:  56.2%\n",
      "Global Step:  76300, Loss: 1.258763313293457, Training Batch Accuracy:  57.8%\n",
      "Global Step:  76400, Loss: 1.1243939399719238, Training Batch Accuracy:  56.2%\n",
      "Global Step:  76500, Loss: 1.119532823562622, Training Batch Accuracy:  59.4%\n",
      "Global Step:  76600, Loss: 1.3494133949279785, Training Batch Accuracy:  60.9%\n",
      "Global Step:  76700, Loss: 1.2800171375274658, Training Batch Accuracy:  57.8%\n",
      "Global Step:  76800, Loss: 1.1019940376281738, Training Batch Accuracy:  65.6%\n",
      "Global Step:  76900, Loss: 0.9156398177146912, Training Batch Accuracy:  71.9%\n",
      "Global Step:  77000, Loss: 1.218848466873169, Training Batch Accuracy:  70.3%\n",
      "Saved checkpoint.\n",
      "Global Step:  77100, Loss: 1.0350852012634277, Training Batch Accuracy:  62.5%\n",
      "Global Step:  77200, Loss: 1.2609169483184814, Training Batch Accuracy:  53.1%\n",
      "Global Step:  77300, Loss: 1.1545891761779785, Training Batch Accuracy:  68.8%\n",
      "Global Step:  77400, Loss: 1.2254981994628906, Training Batch Accuracy:  56.2%\n",
      "Global Step:  77500, Loss: 0.995539665222168, Training Batch Accuracy:  70.3%\n",
      "Global Step:  77600, Loss: 1.0531513690948486, Training Batch Accuracy:  60.9%\n",
      "Global Step:  77700, Loss: 1.1022145748138428, Training Batch Accuracy:  67.2%\n",
      "Global Step:  77800, Loss: 1.057644009590149, Training Batch Accuracy:  67.2%\n",
      "Global Step:  77900, Loss: 1.1120166778564453, Training Batch Accuracy:  67.2%\n",
      "Global Step:  78000, Loss: 1.2446837425231934, Training Batch Accuracy:  57.8%\n",
      "Saved checkpoint.\n",
      "Global Step:  78100, Loss: 1.1532812118530273, Training Batch Accuracy:  67.2%\n",
      "Global Step:  78200, Loss: 0.9934526681900024, Training Batch Accuracy:  70.3%\n",
      "Global Step:  78300, Loss: 1.1968164443969727, Training Batch Accuracy:  65.6%\n",
      "Global Step:  78400, Loss: 1.2019150257110596, Training Batch Accuracy:  78.1%\n",
      "Global Step:  78500, Loss: 1.1751399040222168, Training Batch Accuracy:  70.3%\n",
      "Global Step:  78600, Loss: 1.0700651407241821, Training Batch Accuracy:  76.6%\n",
      "Global Step:  78700, Loss: 1.2478806972503662, Training Batch Accuracy:  65.6%\n",
      "Global Step:  78800, Loss: 1.3508212566375732, Training Batch Accuracy:  65.6%\n",
      "Global Step:  78900, Loss: 1.1445833444595337, Training Batch Accuracy:  59.4%\n",
      "Global Step:  79000, Loss: 1.0024813413619995, Training Batch Accuracy:  73.4%\n",
      "Saved checkpoint.\n",
      "Global Step:  79100, Loss: 0.9956954121589661, Training Batch Accuracy:  75.0%\n",
      "Global Step:  79200, Loss: 1.2178490161895752, Training Batch Accuracy:  68.8%\n",
      "Global Step:  79300, Loss: 1.2004218101501465, Training Batch Accuracy:  75.0%\n",
      "Global Step:  79400, Loss: 1.1914007663726807, Training Batch Accuracy:  67.2%\n",
      "Global Step:  79500, Loss: 1.3601505756378174, Training Batch Accuracy:  56.2%\n",
      "Global Step:  79600, Loss: 1.3273612260818481, Training Batch Accuracy:  59.4%\n",
      "Global Step:  79700, Loss: 1.31807541847229, Training Batch Accuracy:  71.9%\n",
      "Global Step:  79800, Loss: 1.096644639968872, Training Batch Accuracy:  70.3%\n",
      "Global Step:  79900, Loss: 1.0863769054412842, Training Batch Accuracy:  68.8%\n",
      "Global Step:  80000, Loss: 1.3639247417449951, Training Batch Accuracy:  59.4%\n",
      "Saved checkpoint.\n",
      "Global Step:  80100, Loss: 1.2238539457321167, Training Batch Accuracy:  73.4%\n",
      "Global Step:  80200, Loss: 1.41426682472229, Training Batch Accuracy:  67.2%\n",
      "Global Step:  80300, Loss: 1.2788715362548828, Training Batch Accuracy:  60.9%\n",
      "Global Step:  80400, Loss: 1.1989188194274902, Training Batch Accuracy:  65.6%\n",
      "Global Step:  80500, Loss: 0.9681411981582642, Training Batch Accuracy:  84.4%\n",
      "Global Step:  80600, Loss: 1.2344199419021606, Training Batch Accuracy:  67.2%\n",
      "Global Step:  80700, Loss: 1.3409595489501953, Training Batch Accuracy:  50.0%\n",
      "Global Step:  80800, Loss: 0.7945327162742615, Training Batch Accuracy:  75.0%\n",
      "Global Step:  80900, Loss: 0.915776252746582, Training Batch Accuracy:  76.6%\n",
      "Global Step:  81000, Loss: 1.1813509464263916, Training Batch Accuracy:  67.2%\n",
      "Saved checkpoint.\n",
      "Global Step:  81100, Loss: 1.0712428092956543, Training Batch Accuracy:  60.9%\n",
      "Global Step:  81200, Loss: 1.1858000755310059, Training Batch Accuracy:  64.1%\n",
      "Global Step:  81300, Loss: 0.8542778491973877, Training Batch Accuracy:  73.4%\n",
      "Global Step:  81400, Loss: 1.0135350227355957, Training Batch Accuracy:  64.1%\n",
      "Global Step:  81500, Loss: 1.2703863382339478, Training Batch Accuracy:  62.5%\n",
      "Global Step:  81600, Loss: 0.9483894109725952, Training Batch Accuracy:  68.8%\n",
      "Global Step:  81700, Loss: 1.1165826320648193, Training Batch Accuracy:  67.2%\n"
     ]
    },
    {
     "name": "stdout",
     "output_type": "stream",
     "text": [
      "Global Step:  81800, Loss: 1.0781223773956299, Training Batch Accuracy:  68.8%\n",
      "Global Step:  81900, Loss: 1.3533843755722046, Training Batch Accuracy:  64.1%\n",
      "Global Step:  82000, Loss: 1.0632089376449585, Training Batch Accuracy:  71.9%\n",
      "Saved checkpoint.\n",
      "Global Step:  82100, Loss: 1.2480363845825195, Training Batch Accuracy:  67.2%\n",
      "Global Step:  82200, Loss: 1.0659384727478027, Training Batch Accuracy:  64.1%\n",
      "Global Step:  82300, Loss: 1.1859484910964966, Training Batch Accuracy:  65.6%\n",
      "Global Step:  82400, Loss: 1.2627818584442139, Training Batch Accuracy:  60.9%\n",
      "Global Step:  82500, Loss: 1.249666690826416, Training Batch Accuracy:  53.1%\n",
      "Global Step:  82600, Loss: 1.2388405799865723, Training Batch Accuracy:  67.2%\n",
      "Global Step:  82700, Loss: 1.3239119052886963, Training Batch Accuracy:  68.8%\n",
      "Global Step:  82800, Loss: 1.0559213161468506, Training Batch Accuracy:  67.2%\n",
      "Global Step:  82900, Loss: 1.0373421907424927, Training Batch Accuracy:  67.2%\n",
      "Global Step:  83000, Loss: 1.0778651237487793, Training Batch Accuracy:  68.8%\n",
      "Saved checkpoint.\n",
      "Global Step:  83100, Loss: 1.1772027015686035, Training Batch Accuracy:  62.5%\n",
      "Global Step:  83200, Loss: 1.0351237058639526, Training Batch Accuracy:  71.9%\n",
      "Global Step:  83300, Loss: 1.3970811367034912, Training Batch Accuracy:  65.6%\n",
      "Global Step:  83400, Loss: 1.174654245376587, Training Batch Accuracy:  70.3%\n",
      "Global Step:  83500, Loss: 1.093176007270813, Training Batch Accuracy:  64.1%\n",
      "Global Step:  83600, Loss: 1.042759895324707, Training Batch Accuracy:  65.6%\n",
      "Global Step:  83700, Loss: 1.1091067790985107, Training Batch Accuracy:  68.8%\n",
      "Global Step:  83800, Loss: 1.2623777389526367, Training Batch Accuracy:  54.7%\n",
      "Global Step:  83900, Loss: 1.4170596599578857, Training Batch Accuracy:  57.8%\n",
      "Global Step:  84000, Loss: 1.058035969734192, Training Batch Accuracy:  70.3%\n",
      "Saved checkpoint.\n",
      "Global Step:  84100, Loss: 1.1960234642028809, Training Batch Accuracy:  67.2%\n",
      "Global Step:  84200, Loss: 1.0255333185195923, Training Batch Accuracy:  70.3%\n",
      "Global Step:  84300, Loss: 1.0706591606140137, Training Batch Accuracy:  68.8%\n",
      "Global Step:  84400, Loss: 1.072542667388916, Training Batch Accuracy:  73.4%\n",
      "Global Step:  84500, Loss: 0.971092700958252, Training Batch Accuracy:  70.3%\n",
      "Global Step:  84600, Loss: 1.0628762245178223, Training Batch Accuracy:  65.6%\n",
      "Global Step:  84700, Loss: 1.0165741443634033, Training Batch Accuracy:  67.2%\n",
      "Global Step:  84800, Loss: 0.9014528393745422, Training Batch Accuracy:  68.8%\n",
      "Global Step:  84900, Loss: 1.1786057949066162, Training Batch Accuracy:  76.6%\n",
      "Global Step:  85000, Loss: 1.3460845947265625, Training Batch Accuracy:  64.1%\n",
      "Saved checkpoint.\n",
      "Global Step:  85100, Loss: 1.0424021482467651, Training Batch Accuracy:  71.9%\n",
      "Global Step:  85200, Loss: 1.0099862813949585, Training Batch Accuracy:  68.8%\n",
      "Global Step:  85300, Loss: 1.0790711641311646, Training Batch Accuracy:  60.9%\n",
      "Global Step:  85400, Loss: 1.1611497402191162, Training Batch Accuracy:  62.5%\n",
      "Global Step:  85500, Loss: 1.1430888175964355, Training Batch Accuracy:  60.9%\n",
      "Global Step:  85600, Loss: 1.3237348794937134, Training Batch Accuracy:  67.2%\n",
      "Global Step:  85700, Loss: 1.1792100667953491, Training Batch Accuracy:  76.6%\n",
      "Global Step:  85800, Loss: 1.232661247253418, Training Batch Accuracy:  54.7%\n",
      "Global Step:  85900, Loss: 1.1317601203918457, Training Batch Accuracy:  71.9%\n",
      "Global Step:  86000, Loss: 0.9611494541168213, Training Batch Accuracy:  73.4%\n",
      "Saved checkpoint.\n",
      "Global Step:  86100, Loss: 1.3619449138641357, Training Batch Accuracy:  65.6%\n",
      "Global Step:  86200, Loss: 1.2647472620010376, Training Batch Accuracy:  71.9%\n",
      "Global Step:  86300, Loss: 0.9565960168838501, Training Batch Accuracy:  75.0%\n",
      "Global Step:  86400, Loss: 0.9136943817138672, Training Batch Accuracy:  73.4%\n",
      "Global Step:  86500, Loss: 1.298935890197754, Training Batch Accuracy:  73.4%\n",
      "Global Step:  86600, Loss: 1.3526160717010498, Training Batch Accuracy:  59.4%\n",
      "Global Step:  86700, Loss: 1.110807180404663, Training Batch Accuracy:  67.2%\n",
      "Global Step:  86800, Loss: 1.317878007888794, Training Batch Accuracy:  65.6%\n",
      "Global Step:  86900, Loss: 1.2312023639678955, Training Batch Accuracy:  60.9%\n",
      "Global Step:  87000, Loss: 1.3117663860321045, Training Batch Accuracy:  65.6%\n",
      "Saved checkpoint.\n",
      "Global Step:  87100, Loss: 0.9332730770111084, Training Batch Accuracy:  68.8%\n",
      "Global Step:  87200, Loss: 0.9237890243530273, Training Batch Accuracy:  75.0%\n",
      "Global Step:  87300, Loss: 1.2723174095153809, Training Batch Accuracy:  70.3%\n",
      "Global Step:  87400, Loss: 1.3555912971496582, Training Batch Accuracy:  70.3%\n",
      "Global Step:  87500, Loss: 1.054880976676941, Training Batch Accuracy:  65.6%\n",
      "Global Step:  87600, Loss: 1.0256280899047852, Training Batch Accuracy:  64.1%\n",
      "Global Step:  87700, Loss: 0.9423880577087402, Training Batch Accuracy:  78.1%\n",
      "Global Step:  87800, Loss: 0.9509111642837524, Training Batch Accuracy:  65.6%\n",
      "Global Step:  87900, Loss: 1.0410654544830322, Training Batch Accuracy:  68.8%\n",
      "Global Step:  88000, Loss: 1.144594669342041, Training Batch Accuracy:  68.8%\n",
      "Saved checkpoint.\n",
      "Global Step:  88100, Loss: 1.1003211736679077, Training Batch Accuracy:  62.5%\n",
      "Global Step:  88200, Loss: 0.9609971046447754, Training Batch Accuracy:  78.1%\n",
      "Global Step:  88300, Loss: 1.0208911895751953, Training Batch Accuracy:  71.9%\n",
      "Global Step:  88400, Loss: 0.9918919801712036, Training Batch Accuracy:  68.8%\n",
      "Global Step:  88500, Loss: 0.9815204739570618, Training Batch Accuracy:  67.2%\n",
      "Global Step:  88600, Loss: 1.1948353052139282, Training Batch Accuracy:  65.6%\n",
      "Global Step:  88700, Loss: 1.2912801504135132, Training Batch Accuracy:  64.1%\n",
      "Global Step:  88800, Loss: 1.101015329360962, Training Batch Accuracy:  70.3%\n",
      "Global Step:  88900, Loss: 1.0881531238555908, Training Batch Accuracy:  57.8%\n",
      "Global Step:  89000, Loss: 1.093953251838684, Training Batch Accuracy:  67.2%\n",
      "Saved checkpoint.\n",
      "Global Step:  89100, Loss: 1.2416166067123413, Training Batch Accuracy:  64.1%\n",
      "Global Step:  89200, Loss: 1.0853005647659302, Training Batch Accuracy:  73.4%\n",
      "Global Step:  89300, Loss: 1.0847103595733643, Training Batch Accuracy:  59.4%\n",
      "Global Step:  89400, Loss: 1.1688299179077148, Training Batch Accuracy:  60.9%\n",
      "Global Step:  89500, Loss: 1.2652995586395264, Training Batch Accuracy:  65.6%\n",
      "Global Step:  89600, Loss: 0.8457858562469482, Training Batch Accuracy:  81.2%\n",
      "Global Step:  89700, Loss: 1.229404091835022, Training Batch Accuracy:  68.8%\n",
      "Global Step:  89800, Loss: 1.089747667312622, Training Batch Accuracy:  67.2%\n",
      "Global Step:  89900, Loss: 1.1146892309188843, Training Batch Accuracy:  59.4%\n",
      "Global Step:  90000, Loss: 1.1082499027252197, Training Batch Accuracy:  68.8%\n",
      "Saved checkpoint.\n",
      "Global Step:  90100, Loss: 1.2149986028671265, Training Batch Accuracy:  62.5%\n",
      "Global Step:  90200, Loss: 1.291982889175415, Training Batch Accuracy:  56.2%\n",
      "Global Step:  90300, Loss: 0.8596917390823364, Training Batch Accuracy:  76.6%\n",
      "Global Step:  90400, Loss: 1.4740982055664062, Training Batch Accuracy:  53.1%\n",
      "Global Step:  90500, Loss: 1.00838041305542, Training Batch Accuracy:  71.9%\n",
      "Global Step:  90600, Loss: 0.975134551525116, Training Batch Accuracy:  70.3%\n",
      "Global Step:  90700, Loss: 1.1958966255187988, Training Batch Accuracy:  68.8%\n",
      "Global Step:  90800, Loss: 1.3132795095443726, Training Batch Accuracy:  65.6%\n",
      "Global Step:  90900, Loss: 0.9828126430511475, Training Batch Accuracy:  71.9%\n",
      "Global Step:  91000, Loss: 1.1587656736373901, Training Batch Accuracy:  78.1%\n",
      "Saved checkpoint.\n",
      "Global Step:  91100, Loss: 1.1163718700408936, Training Batch Accuracy:  62.5%\n",
      "Global Step:  91200, Loss: 1.2378789186477661, Training Batch Accuracy:  65.6%\n",
      "Global Step:  91300, Loss: 0.8862216472625732, Training Batch Accuracy:  60.9%\n",
      "Global Step:  91400, Loss: 1.105379581451416, Training Batch Accuracy:  70.3%\n",
      "Global Step:  91500, Loss: 1.1548163890838623, Training Batch Accuracy:  67.2%\n",
      "Global Step:  91600, Loss: 1.0776684284210205, Training Batch Accuracy:  75.0%\n",
      "Global Step:  91700, Loss: 1.0996768474578857, Training Batch Accuracy:  75.0%\n",
      "Global Step:  91800, Loss: 0.9716815948486328, Training Batch Accuracy:  71.9%\n",
      "Global Step:  91900, Loss: 0.9347072243690491, Training Batch Accuracy:  71.9%\n"
     ]
    },
    {
     "name": "stdout",
     "output_type": "stream",
     "text": [
      "Global Step:  92000, Loss: 1.1935365200042725, Training Batch Accuracy:  60.9%\n",
      "Saved checkpoint.\n",
      "Global Step:  92100, Loss: 1.2149993181228638, Training Batch Accuracy:  65.6%\n",
      "Global Step:  92200, Loss: 1.0587713718414307, Training Batch Accuracy:  70.3%\n",
      "Global Step:  92300, Loss: 1.0989513397216797, Training Batch Accuracy:  64.1%\n",
      "Global Step:  92400, Loss: 1.077211618423462, Training Batch Accuracy:  76.6%\n",
      "Global Step:  92500, Loss: 1.1482248306274414, Training Batch Accuracy:  65.6%\n",
      "Global Step:  92600, Loss: 1.109563946723938, Training Batch Accuracy:  71.9%\n",
      "Global Step:  92700, Loss: 1.3318207263946533, Training Batch Accuracy:  57.8%\n",
      "Global Step:  92800, Loss: 1.0133962631225586, Training Batch Accuracy:  64.1%\n",
      "Global Step:  92900, Loss: 0.9196796417236328, Training Batch Accuracy:  78.1%\n",
      "Global Step:  93000, Loss: 1.3701934814453125, Training Batch Accuracy:  56.2%\n",
      "Saved checkpoint.\n",
      "Global Step:  93100, Loss: 0.7988318204879761, Training Batch Accuracy:  70.3%\n",
      "Global Step:  93200, Loss: 1.1706305742263794, Training Batch Accuracy:  68.8%\n",
      "Global Step:  93300, Loss: 1.029280185699463, Training Batch Accuracy:  64.1%\n",
      "Global Step:  93400, Loss: 0.9178560972213745, Training Batch Accuracy:  65.6%\n",
      "Global Step:  93500, Loss: 1.0565948486328125, Training Batch Accuracy:  75.0%\n",
      "Global Step:  93600, Loss: 1.1233105659484863, Training Batch Accuracy:  68.8%\n",
      "Global Step:  93700, Loss: 0.9279797673225403, Training Batch Accuracy:  75.0%\n",
      "Global Step:  93800, Loss: 1.0271546840667725, Training Batch Accuracy:  70.3%\n",
      "Global Step:  93900, Loss: 1.0458097457885742, Training Batch Accuracy:  70.3%\n",
      "Global Step:  94000, Loss: 1.0255587100982666, Training Batch Accuracy:  68.8%\n",
      "Saved checkpoint.\n",
      "Global Step:  94100, Loss: 1.0121922492980957, Training Batch Accuracy:  75.0%\n",
      "Global Step:  94200, Loss: 1.0075607299804688, Training Batch Accuracy:  68.8%\n",
      "Global Step:  94300, Loss: 1.071288824081421, Training Batch Accuracy:  68.8%\n",
      "Global Step:  94400, Loss: 1.0334892272949219, Training Batch Accuracy:  70.3%\n",
      "Global Step:  94500, Loss: 1.1003769636154175, Training Batch Accuracy:  67.2%\n",
      "Global Step:  94600, Loss: 1.1267632246017456, Training Batch Accuracy:  64.1%\n",
      "Global Step:  94700, Loss: 1.1062630414962769, Training Batch Accuracy:  73.4%\n",
      "Global Step:  94800, Loss: 0.9702218770980835, Training Batch Accuracy:  62.5%\n",
      "Global Step:  94900, Loss: 0.8281431198120117, Training Batch Accuracy:  70.3%\n",
      "Global Step:  95000, Loss: 1.0406215190887451, Training Batch Accuracy:  64.1%\n",
      "Saved checkpoint.\n",
      "Global Step:  95100, Loss: 0.8970030546188354, Training Batch Accuracy:  67.2%\n",
      "Global Step:  95200, Loss: 0.9165399074554443, Training Batch Accuracy:  71.9%\n",
      "Global Step:  95300, Loss: 0.8509855270385742, Training Batch Accuracy:  81.2%\n",
      "Global Step:  95400, Loss: 0.9203518629074097, Training Batch Accuracy:  68.8%\n",
      "Global Step:  95500, Loss: 0.9826056957244873, Training Batch Accuracy:  71.9%\n",
      "Global Step:  95600, Loss: 0.9601614475250244, Training Batch Accuracy:  73.4%\n",
      "Global Step:  95700, Loss: 0.9429658055305481, Training Batch Accuracy:  71.9%\n",
      "Global Step:  95800, Loss: 1.472591519355774, Training Batch Accuracy:  70.3%\n",
      "Global Step:  95900, Loss: 0.8949397802352905, Training Batch Accuracy:  70.3%\n",
      "Global Step:  96000, Loss: 1.4400694370269775, Training Batch Accuracy:  67.2%\n",
      "Saved checkpoint.\n",
      "Global Step:  96100, Loss: 1.3014317750930786, Training Batch Accuracy:  68.8%\n",
      "Global Step:  96200, Loss: 0.879839301109314, Training Batch Accuracy:  76.6%\n",
      "Global Step:  96300, Loss: 1.1807969808578491, Training Batch Accuracy:  71.9%\n",
      "Global Step:  96400, Loss: 1.0672073364257812, Training Batch Accuracy:  64.1%\n",
      "Global Step:  96500, Loss: 0.8330907225608826, Training Batch Accuracy:  79.7%\n",
      "Global Step:  96600, Loss: 1.2153689861297607, Training Batch Accuracy:  68.8%\n",
      "Global Step:  96700, Loss: 1.1032999753952026, Training Batch Accuracy:  71.9%\n",
      "Global Step:  96800, Loss: 1.0936801433563232, Training Batch Accuracy:  73.4%\n",
      "Global Step:  96900, Loss: 1.121492624282837, Training Batch Accuracy:  73.4%\n",
      "Global Step:  97000, Loss: 1.2672771215438843, Training Batch Accuracy:  62.5%\n",
      "Saved checkpoint.\n",
      "Global Step:  97100, Loss: 1.0432170629501343, Training Batch Accuracy:  70.3%\n",
      "Global Step:  97200, Loss: 1.079018235206604, Training Batch Accuracy:  70.3%\n",
      "Global Step:  97300, Loss: 1.0640883445739746, Training Batch Accuracy:  71.9%\n",
      "Global Step:  97400, Loss: 1.2176964282989502, Training Batch Accuracy:  70.3%\n",
      "Global Step:  97500, Loss: 0.9177404642105103, Training Batch Accuracy:  81.2%\n",
      "Global Step:  97600, Loss: 1.0774189233779907, Training Batch Accuracy:  70.3%\n",
      "Global Step:  97700, Loss: 0.9494778513908386, Training Batch Accuracy:  78.1%\n",
      "Global Step:  97800, Loss: 1.0331740379333496, Training Batch Accuracy:  75.0%\n",
      "Global Step:  97900, Loss: 0.9482043981552124, Training Batch Accuracy:  64.1%\n",
      "Global Step:  98000, Loss: 1.1588512659072876, Training Batch Accuracy:  64.1%\n",
      "Saved checkpoint.\n",
      "Global Step:  98100, Loss: 1.032007098197937, Training Batch Accuracy:  73.4%\n",
      "Global Step:  98200, Loss: 0.9256389737129211, Training Batch Accuracy:  65.6%\n",
      "Global Step:  98300, Loss: 1.0241851806640625, Training Batch Accuracy:  75.0%\n",
      "Global Step:  98400, Loss: 1.130934238433838, Training Batch Accuracy:  71.9%\n",
      "Global Step:  98500, Loss: 0.9932236671447754, Training Batch Accuracy:  70.3%\n",
      "Global Step:  98600, Loss: 1.1563026905059814, Training Batch Accuracy:  71.9%\n",
      "Global Step:  98700, Loss: 0.7590272426605225, Training Batch Accuracy:  78.1%\n",
      "Global Step:  98800, Loss: 1.1686909198760986, Training Batch Accuracy:  78.1%\n",
      "Global Step:  98900, Loss: 0.883014440536499, Training Batch Accuracy:  64.1%\n",
      "Global Step:  99000, Loss: 1.0833604335784912, Training Batch Accuracy:  70.3%\n",
      "Saved checkpoint.\n",
      "Global Step:  99100, Loss: 1.259478211402893, Training Batch Accuracy:  64.1%\n",
      "Global Step:  99200, Loss: 1.0433231592178345, Training Batch Accuracy:  67.2%\n",
      "Global Step:  99300, Loss: 0.934419572353363, Training Batch Accuracy:  67.2%\n",
      "Global Step:  99400, Loss: 0.9959696531295776, Training Batch Accuracy:  67.2%\n",
      "Global Step:  99500, Loss: 1.1059476137161255, Training Batch Accuracy:  57.8%\n",
      "Global Step:  99600, Loss: 0.9288433194160461, Training Batch Accuracy:  70.3%\n",
      "Global Step:  99700, Loss: 1.0721523761749268, Training Batch Accuracy:  71.9%\n",
      "Global Step:  99800, Loss: 1.0772038698196411, Training Batch Accuracy:  64.1%\n",
      "Global Step:  99900, Loss: 1.3790292739868164, Training Batch Accuracy:  60.9%\n",
      "Global Step: 100000, Loss: 1.024750828742981, Training Batch Accuracy:  57.8%\n",
      "Saved checkpoint.\n",
      "Time usage: 2:48:15\n"
     ]
    }
   ],
   "source": [
    "# if False:\n",
    "optimize(num_iterations=100000)"
   ]
  },
  {
   "cell_type": "markdown",
   "metadata": {},
   "source": [
    "## Results\n",
    "\n",
    "Examples of mis-classifications are plotted below. Some of these are difficult to recognize even for humans and others are reasonable mistakes e.g. between a large car and a truck, or between a cat and a dog, while other mistakes seem a bit strange."
   ]
  },
  {
   "cell_type": "code",
   "execution_count": 51,
   "metadata": {
    "scrolled": true
   },
   "outputs": [
    {
     "name": "stdout",
     "output_type": "stream",
     "text": [
      "Accuracy on Test-Set: 67.0% (6704 / 10000)\n",
      "Example errors:\n"
     ]
    },
    {
     "data": {
      "image/png": "[encoded data removed]",
      "text/plain": [
       "<matplotlib.figure.Figure at 0x7fb5ada08358>"
      ]
     },
     "metadata": {},
     "output_type": "display_data"
    },
    {
     "name": "stdout",
     "output_type": "stream",
     "text": [
      "Confusion Matrix:\n",
      "[708  53  28  28  21   1  17  23  63  58] (0) airplane\n",
      "[  8 886   3   9   0   4  12   3  25  50] (1) automobile\n",
      "[ 71  27 431  89  78  84 117  64  15  24] (2) bird\n",
      "[ 14  21  35 464  41 193 121  60  19  32] (3) cat\n",
      "[ 17  11  49  70 537  36 123 126  14  17] (4) deer\n",
      "[  6  17  29 202  36 552  53  75   6  24] (5) dog\n",
      "[  7   8  16  54  15  17 854  10   9  10] (6) frog\n",
      "[ 13  12  11  40  56  67  21 743   1  36] (7) horse\n",
      "[ 55  71   4  13   6   5   5   5 768  68] (8) ship\n",
      "[ 20 147   7   7   5   5  15  16  17 761] (9) truck\n",
      " (0) (1) (2) (3) (4) (5) (6) (7) (8) (9)\n"
     ]
    }
   ],
   "source": [
    "print_test_accuracy(show_example_errors=True,\n",
    "                    show_confusion_matrix=True)"
   ]
  },
  {
   "cell_type": "markdown",
   "metadata": {},
   "source": [
    "### Predicted class-labels"
   ]
  },
  {
   "cell_type": "markdown",
   "metadata": {},
   "source": [
    "Get the predicted class-label and class-number for this image."
   ]
  },
  {
   "cell_type": "code",
   "execution_count": 53,
   "metadata": {
    "collapsed": true
   },
   "outputs": [],
   "source": [
    "label_pred, cls_pred = session.run([y_pred, y_pred_cls],\n",
    "                                   feed_dict={x: [img]})"
   ]
  },
  {
   "cell_type": "markdown",
   "metadata": {},
   "source": [
    "Print the predicted class-label."
   ]
  },
  {
   "cell_type": "code",
   "execution_count": 54,
   "metadata": {
    "scrolled": true
   },
   "outputs": [
    {
     "name": "stdout",
     "output_type": "stream",
     "text": [
      "[-1.714 -2.904  3.58   4.086 -1.316  4.869  1.461  5.052 -2.533 -2.514]\n"
     ]
    }
   ],
   "source": [
    "# Set the rounding options for numpy.\n",
    "np.set_printoptions(precision=3, suppress=True)\n",
    "\n",
    "# Print the predicted label.\n",
    "print(label_pred[0])"
   ]
  },
  {
   "cell_type": "markdown",
   "metadata": {},
   "source": [
    "The predicted class-label is an array of length 10, with each element indicating how confident the neural network is that the image is the given class.\n",
    "\n",
    "In this case the element with index 3 has a value of 0.493, while the element with index 5 has a value of 0.490. This means the neural network believes the image either shows a class 3 or class 5, which is a cat or a dog, respectively."
   ]
  },
  {
   "cell_type": "code",
   "execution_count": 55,
   "metadata": {},
   "outputs": [
    {
     "data": {
      "text/plain": [
       "'cat'"
      ]
     },
     "execution_count": 55,
     "metadata": {},
     "output_type": "execute_result"
    }
   ],
   "source": [
    "class_names[3]"
   ]
  },
  {
   "cell_type": "code",
   "execution_count": 56,
   "metadata": {},
   "outputs": [
    {
     "data": {
      "text/plain": [
       "'dog'"
      ]
     },
     "execution_count": 56,
     "metadata": {},
     "output_type": "execute_result"
    }
   ],
   "source": [
    "class_names[5]"
   ]
  },
  {
   "cell_type": "markdown",
   "metadata": {},
   "source": [
    "## Close TensorFlow Session"
   ]
  },
  {
   "cell_type": "markdown",
   "metadata": {},
   "source": [
    "We are now done using TensorFlow, so we close the session to release its resources."
   ]
  },
  {
   "cell_type": "code",
   "execution_count": 57,
   "metadata": {
    "collapsed": true
   },
   "outputs": [],
   "source": [
    "# This has been commented out in case you want to modify and experiment\n",
    "# with the Notebook without having to restart it.\n",
    "# session.close()"
   ]
  },
  {
   "cell_type": "markdown",
   "metadata": {},
   "source": [
    "## Homework\n",
    "\n",
    "These are a few suggestions for exercises that may help improve your skills with TensorFlow. It is important to get hands-on experience with TensorFlow in order to learn how to use it properly.\n",
    "\n",
    "You may want to backup this Notebook before making any changes.\n",
    "\n",
    "* Run the optimization for 100,000 iterations and see what the classification accuracy is. This will create a checkpoint that saves all the variables of the TensorFlow graph.\n",
    "* Try changing the structure of the neural network to AlexNet. How does it affect the training time and the classification accuracy? Note that the checkpoints cannot be reloaded when you change the structure of the neural network."
   ]
  }
 ],
 "metadata": {
  "anaconda-cloud": {},
  "kernelspec": {
   "display_name": "Python 3",
   "language": "python",
   "name": "python3"
  },
  "language_info": {
   "codemirror_mode": {
    "name": "ipython",
    "version": 3
   },
   "file_extension": ".py",
   "mimetype": "text/x-python",
   "name": "python",
   "nbconvert_exporter": "python",
   "pygments_lexer": "ipython3",
   "version": "3.6.1"
  }
 },
 "nbformat": 4,
 "nbformat_minor": 1
}
